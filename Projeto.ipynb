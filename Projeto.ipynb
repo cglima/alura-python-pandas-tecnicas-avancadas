{
  "cells": [
    {
      "cell_type": "markdown",
      "metadata": {
        "id": "VvKng5_devgH"
      },
      "source": [
        "# PANDAS AVANÇADO\n",
        "---"
      ]
    },
    {
      "cell_type": "markdown",
      "metadata": {
        "id": "99IUfbszevgO"
      },
      "source": [
        "# CARREGANDO OS DADOS\n",
        "---"
      ]
    },
    {
      "cell_type": "markdown",
      "metadata": {
        "id": "VYIHv0csevgP"
      },
      "source": [
        "## Configurações do projeto"
      ]
    },
    {
      "cell_type": "markdown",
      "metadata": {
        "id": "P_gXKCYpevgP"
      },
      "source": [
        "### Importando pacotes"
      ]
    },
    {
      "cell_type": "code",
      "execution_count": 1,
      "metadata": {
        "ExecuteTime": {
          "end_time": "2020-10-25T16:41:53.996410Z",
          "start_time": "2020-10-25T16:41:53.989428Z"
        },
        "id": "s-xCbXDzevgQ"
      },
      "outputs": [],
      "source": [
        "import pandas as pd"
      ]
    },
    {
      "cell_type": "code",
      "execution_count": 3,
      "metadata": {
        "ExecuteTime": {
          "end_time": "2020-10-25T16:41:54.449198Z",
          "start_time": "2020-10-25T16:41:54.436233Z"
        },
        "id": "-BWaF1-uevgQ",
        "colab": {
          "base_uri": "https://localhost:8080/",
          "height": 36
        },
        "outputId": "6597c38c-1d83-4465-d2ae-e006f77a539d"
      },
      "outputs": [
        {
          "output_type": "execute_result",
          "data": {
            "text/plain": [
              "'1.3.5'"
            ],
            "application/vnd.google.colaboratory.intrinsic+json": {
              "type": "string"
            }
          },
          "metadata": {},
          "execution_count": 3
        }
      ],
      "source": [
        "pd.__version__"
      ]
    },
    {
      "cell_type": "markdown",
      "metadata": {
        "id": "4S6wyakFevgQ"
      },
      "source": [
        "### Opções de configuração\n",
        "\n",
        "[Documentação](https://pandas.pydata.org/pandas-docs/stable/user_guide/options.html)"
      ]
    },
    {
      "cell_type": "code",
      "execution_count": 5,
      "metadata": {
        "id": "6UVcvI0-evgR",
        "colab": {
          "base_uri": "https://localhost:8080/"
        },
        "outputId": "29347920-91b0-4963-d391-6e6baaa101b1"
      },
      "outputs": [
        {
          "output_type": "execute_result",
          "data": {
            "text/plain": [
              "60"
            ]
          },
          "metadata": {},
          "execution_count": 5
        }
      ],
      "source": [
        "pd.get_option(\"display.max_rows\")"
      ]
    },
    {
      "cell_type": "code",
      "execution_count": 6,
      "metadata": {
        "id": "A8Nvt66tevgR",
        "colab": {
          "base_uri": "https://localhost:8080/"
        },
        "outputId": "c961eabb-f4b7-4492-9152-3680609be814"
      },
      "outputs": [
        {
          "output_type": "execute_result",
          "data": {
            "text/plain": [
              "20"
            ]
          },
          "metadata": {},
          "execution_count": 6
        }
      ],
      "source": [
        "pd.get_option(\"display.max_columns\")"
      ]
    },
    {
      "cell_type": "markdown",
      "metadata": {
        "id": "xmP4ARNSevgR"
      },
      "source": [
        "[Opções disponíveis](https://pandas.pydata.org/pandas-docs/stable/user_guide/options.html#available-options)"
      ]
    },
    {
      "cell_type": "code",
      "execution_count": 8,
      "metadata": {
        "id": "rKUvxnvnevgS",
        "colab": {
          "base_uri": "https://localhost:8080/"
        },
        "outputId": "35b4f271-96a2-4f9d-9323-d5cee2d01138"
      },
      "outputs": [
        {
          "output_type": "stream",
          "name": "stdout",
          "text": [
            "display.max_columns : int\n",
            "    If max_cols is exceeded, switch to truncate view. Depending on\n",
            "    `large_repr`, objects are either centrally truncated or printed as\n",
            "    a summary view. 'None' value means unlimited.\n",
            "\n",
            "    In case python/IPython is running in a terminal and `large_repr`\n",
            "    equals 'truncate' this can be set to 0 and pandas will auto-detect\n",
            "    the width of the terminal and print a truncated object which fits\n",
            "    the screen width. The IPython notebook, IPython qtconsole, or IDLE\n",
            "    do not run in a terminal and hence it is not possible to do\n",
            "    correct auto-detection.\n",
            "    [default: 20] [currently: 20]\n"
          ]
        }
      ],
      "source": [
        "pd.describe_option(\"display.max_columns\")"
      ]
    },
    {
      "cell_type": "code",
      "execution_count": 9,
      "metadata": {
        "id": "Gptfp9ygevgS"
      },
      "outputs": [],
      "source": [
        "import numpy as np "
      ]
    },
    {
      "cell_type": "code",
      "execution_count": 15,
      "metadata": {
        "id": "QIif0CPGevgS",
        "colab": {
          "base_uri": "https://localhost:8080/",
          "height": 424
        },
        "outputId": "27a8fe4d-fff2-478b-af15-662b51d1b1b3"
      },
      "outputs": [
        {
          "output_type": "execute_result",
          "data": {
            "text/plain": [
              "      0     1     2     3     4     5     6     7     8     9   ...    90  \\\n",
              "0      0     1     2     3     4     5     6     7     8     9  ...    90   \n",
              "1    100   101   102   103   104   105   106   107   108   109  ...   190   \n",
              "2    200   201   202   203   204   205   206   207   208   209  ...   290   \n",
              "3    300   301   302   303   304   305   306   307   308   309  ...   390   \n",
              "4    400   401   402   403   404   405   406   407   408   409  ...   490   \n",
              "..   ...   ...   ...   ...   ...   ...   ...   ...   ...   ...  ...   ...   \n",
              "95  9500  9501  9502  9503  9504  9505  9506  9507  9508  9509  ...  9590   \n",
              "96  9600  9601  9602  9603  9604  9605  9606  9607  9608  9609  ...  9690   \n",
              "97  9700  9701  9702  9703  9704  9705  9706  9707  9708  9709  ...  9790   \n",
              "98  9800  9801  9802  9803  9804  9805  9806  9807  9808  9809  ...  9890   \n",
              "99  9900  9901  9902  9903  9904  9905  9906  9907  9908  9909  ...  9990   \n",
              "\n",
              "      91    92    93    94    95    96    97    98    99  \n",
              "0     91    92    93    94    95    96    97    98    99  \n",
              "1    191   192   193   194   195   196   197   198   199  \n",
              "2    291   292   293   294   295   296   297   298   299  \n",
              "3    391   392   393   394   395   396   397   398   399  \n",
              "4    491   492   493   494   495   496   497   498   499  \n",
              "..   ...   ...   ...   ...   ...   ...   ...   ...   ...  \n",
              "95  9591  9592  9593  9594  9595  9596  9597  9598  9599  \n",
              "96  9691  9692  9693  9694  9695  9696  9697  9698  9699  \n",
              "97  9791  9792  9793  9794  9795  9796  9797  9798  9799  \n",
              "98  9891  9892  9893  9894  9895  9896  9897  9898  9899  \n",
              "99  9991  9992  9993  9994  9995  9996  9997  9998  9999  \n",
              "\n",
              "[100 rows x 100 columns]"
            ],
            "text/html": [
              "\n",
              "  <div id=\"df-9cd19a30-aaca-4b8c-9b0c-45bc20efc12f\">\n",
              "    <div class=\"colab-df-container\">\n",
              "      <div>\n",
              "<style scoped>\n",
              "    .dataframe tbody tr th:only-of-type {\n",
              "        vertical-align: middle;\n",
              "    }\n",
              "\n",
              "    .dataframe tbody tr th {\n",
              "        vertical-align: top;\n",
              "    }\n",
              "\n",
              "    .dataframe thead th {\n",
              "        text-align: right;\n",
              "    }\n",
              "</style>\n",
              "<table border=\"1\" class=\"dataframe\">\n",
              "  <thead>\n",
              "    <tr style=\"text-align: right;\">\n",
              "      <th></th>\n",
              "      <th>0</th>\n",
              "      <th>1</th>\n",
              "      <th>2</th>\n",
              "      <th>3</th>\n",
              "      <th>4</th>\n",
              "      <th>5</th>\n",
              "      <th>6</th>\n",
              "      <th>7</th>\n",
              "      <th>8</th>\n",
              "      <th>9</th>\n",
              "      <th>...</th>\n",
              "      <th>90</th>\n",
              "      <th>91</th>\n",
              "      <th>92</th>\n",
              "      <th>93</th>\n",
              "      <th>94</th>\n",
              "      <th>95</th>\n",
              "      <th>96</th>\n",
              "      <th>97</th>\n",
              "      <th>98</th>\n",
              "      <th>99</th>\n",
              "    </tr>\n",
              "  </thead>\n",
              "  <tbody>\n",
              "    <tr>\n",
              "      <th>0</th>\n",
              "      <td>0</td>\n",
              "      <td>1</td>\n",
              "      <td>2</td>\n",
              "      <td>3</td>\n",
              "      <td>4</td>\n",
              "      <td>5</td>\n",
              "      <td>6</td>\n",
              "      <td>7</td>\n",
              "      <td>8</td>\n",
              "      <td>9</td>\n",
              "      <td>...</td>\n",
              "      <td>90</td>\n",
              "      <td>91</td>\n",
              "      <td>92</td>\n",
              "      <td>93</td>\n",
              "      <td>94</td>\n",
              "      <td>95</td>\n",
              "      <td>96</td>\n",
              "      <td>97</td>\n",
              "      <td>98</td>\n",
              "      <td>99</td>\n",
              "    </tr>\n",
              "    <tr>\n",
              "      <th>1</th>\n",
              "      <td>100</td>\n",
              "      <td>101</td>\n",
              "      <td>102</td>\n",
              "      <td>103</td>\n",
              "      <td>104</td>\n",
              "      <td>105</td>\n",
              "      <td>106</td>\n",
              "      <td>107</td>\n",
              "      <td>108</td>\n",
              "      <td>109</td>\n",
              "      <td>...</td>\n",
              "      <td>190</td>\n",
              "      <td>191</td>\n",
              "      <td>192</td>\n",
              "      <td>193</td>\n",
              "      <td>194</td>\n",
              "      <td>195</td>\n",
              "      <td>196</td>\n",
              "      <td>197</td>\n",
              "      <td>198</td>\n",
              "      <td>199</td>\n",
              "    </tr>\n",
              "    <tr>\n",
              "      <th>2</th>\n",
              "      <td>200</td>\n",
              "      <td>201</td>\n",
              "      <td>202</td>\n",
              "      <td>203</td>\n",
              "      <td>204</td>\n",
              "      <td>205</td>\n",
              "      <td>206</td>\n",
              "      <td>207</td>\n",
              "      <td>208</td>\n",
              "      <td>209</td>\n",
              "      <td>...</td>\n",
              "      <td>290</td>\n",
              "      <td>291</td>\n",
              "      <td>292</td>\n",
              "      <td>293</td>\n",
              "      <td>294</td>\n",
              "      <td>295</td>\n",
              "      <td>296</td>\n",
              "      <td>297</td>\n",
              "      <td>298</td>\n",
              "      <td>299</td>\n",
              "    </tr>\n",
              "    <tr>\n",
              "      <th>3</th>\n",
              "      <td>300</td>\n",
              "      <td>301</td>\n",
              "      <td>302</td>\n",
              "      <td>303</td>\n",
              "      <td>304</td>\n",
              "      <td>305</td>\n",
              "      <td>306</td>\n",
              "      <td>307</td>\n",
              "      <td>308</td>\n",
              "      <td>309</td>\n",
              "      <td>...</td>\n",
              "      <td>390</td>\n",
              "      <td>391</td>\n",
              "      <td>392</td>\n",
              "      <td>393</td>\n",
              "      <td>394</td>\n",
              "      <td>395</td>\n",
              "      <td>396</td>\n",
              "      <td>397</td>\n",
              "      <td>398</td>\n",
              "      <td>399</td>\n",
              "    </tr>\n",
              "    <tr>\n",
              "      <th>4</th>\n",
              "      <td>400</td>\n",
              "      <td>401</td>\n",
              "      <td>402</td>\n",
              "      <td>403</td>\n",
              "      <td>404</td>\n",
              "      <td>405</td>\n",
              "      <td>406</td>\n",
              "      <td>407</td>\n",
              "      <td>408</td>\n",
              "      <td>409</td>\n",
              "      <td>...</td>\n",
              "      <td>490</td>\n",
              "      <td>491</td>\n",
              "      <td>492</td>\n",
              "      <td>493</td>\n",
              "      <td>494</td>\n",
              "      <td>495</td>\n",
              "      <td>496</td>\n",
              "      <td>497</td>\n",
              "      <td>498</td>\n",
              "      <td>499</td>\n",
              "    </tr>\n",
              "    <tr>\n",
              "      <th>...</th>\n",
              "      <td>...</td>\n",
              "      <td>...</td>\n",
              "      <td>...</td>\n",
              "      <td>...</td>\n",
              "      <td>...</td>\n",
              "      <td>...</td>\n",
              "      <td>...</td>\n",
              "      <td>...</td>\n",
              "      <td>...</td>\n",
              "      <td>...</td>\n",
              "      <td>...</td>\n",
              "      <td>...</td>\n",
              "      <td>...</td>\n",
              "      <td>...</td>\n",
              "      <td>...</td>\n",
              "      <td>...</td>\n",
              "      <td>...</td>\n",
              "      <td>...</td>\n",
              "      <td>...</td>\n",
              "      <td>...</td>\n",
              "      <td>...</td>\n",
              "    </tr>\n",
              "    <tr>\n",
              "      <th>95</th>\n",
              "      <td>9500</td>\n",
              "      <td>9501</td>\n",
              "      <td>9502</td>\n",
              "      <td>9503</td>\n",
              "      <td>9504</td>\n",
              "      <td>9505</td>\n",
              "      <td>9506</td>\n",
              "      <td>9507</td>\n",
              "      <td>9508</td>\n",
              "      <td>9509</td>\n",
              "      <td>...</td>\n",
              "      <td>9590</td>\n",
              "      <td>9591</td>\n",
              "      <td>9592</td>\n",
              "      <td>9593</td>\n",
              "      <td>9594</td>\n",
              "      <td>9595</td>\n",
              "      <td>9596</td>\n",
              "      <td>9597</td>\n",
              "      <td>9598</td>\n",
              "      <td>9599</td>\n",
              "    </tr>\n",
              "    <tr>\n",
              "      <th>96</th>\n",
              "      <td>9600</td>\n",
              "      <td>9601</td>\n",
              "      <td>9602</td>\n",
              "      <td>9603</td>\n",
              "      <td>9604</td>\n",
              "      <td>9605</td>\n",
              "      <td>9606</td>\n",
              "      <td>9607</td>\n",
              "      <td>9608</td>\n",
              "      <td>9609</td>\n",
              "      <td>...</td>\n",
              "      <td>9690</td>\n",
              "      <td>9691</td>\n",
              "      <td>9692</td>\n",
              "      <td>9693</td>\n",
              "      <td>9694</td>\n",
              "      <td>9695</td>\n",
              "      <td>9696</td>\n",
              "      <td>9697</td>\n",
              "      <td>9698</td>\n",
              "      <td>9699</td>\n",
              "    </tr>\n",
              "    <tr>\n",
              "      <th>97</th>\n",
              "      <td>9700</td>\n",
              "      <td>9701</td>\n",
              "      <td>9702</td>\n",
              "      <td>9703</td>\n",
              "      <td>9704</td>\n",
              "      <td>9705</td>\n",
              "      <td>9706</td>\n",
              "      <td>9707</td>\n",
              "      <td>9708</td>\n",
              "      <td>9709</td>\n",
              "      <td>...</td>\n",
              "      <td>9790</td>\n",
              "      <td>9791</td>\n",
              "      <td>9792</td>\n",
              "      <td>9793</td>\n",
              "      <td>9794</td>\n",
              "      <td>9795</td>\n",
              "      <td>9796</td>\n",
              "      <td>9797</td>\n",
              "      <td>9798</td>\n",
              "      <td>9799</td>\n",
              "    </tr>\n",
              "    <tr>\n",
              "      <th>98</th>\n",
              "      <td>9800</td>\n",
              "      <td>9801</td>\n",
              "      <td>9802</td>\n",
              "      <td>9803</td>\n",
              "      <td>9804</td>\n",
              "      <td>9805</td>\n",
              "      <td>9806</td>\n",
              "      <td>9807</td>\n",
              "      <td>9808</td>\n",
              "      <td>9809</td>\n",
              "      <td>...</td>\n",
              "      <td>9890</td>\n",
              "      <td>9891</td>\n",
              "      <td>9892</td>\n",
              "      <td>9893</td>\n",
              "      <td>9894</td>\n",
              "      <td>9895</td>\n",
              "      <td>9896</td>\n",
              "      <td>9897</td>\n",
              "      <td>9898</td>\n",
              "      <td>9899</td>\n",
              "    </tr>\n",
              "    <tr>\n",
              "      <th>99</th>\n",
              "      <td>9900</td>\n",
              "      <td>9901</td>\n",
              "      <td>9902</td>\n",
              "      <td>9903</td>\n",
              "      <td>9904</td>\n",
              "      <td>9905</td>\n",
              "      <td>9906</td>\n",
              "      <td>9907</td>\n",
              "      <td>9908</td>\n",
              "      <td>9909</td>\n",
              "      <td>...</td>\n",
              "      <td>9990</td>\n",
              "      <td>9991</td>\n",
              "      <td>9992</td>\n",
              "      <td>9993</td>\n",
              "      <td>9994</td>\n",
              "      <td>9995</td>\n",
              "      <td>9996</td>\n",
              "      <td>9997</td>\n",
              "      <td>9998</td>\n",
              "      <td>9999</td>\n",
              "    </tr>\n",
              "  </tbody>\n",
              "</table>\n",
              "<p>100 rows × 100 columns</p>\n",
              "</div>\n",
              "      <button class=\"colab-df-convert\" onclick=\"convertToInteractive('df-9cd19a30-aaca-4b8c-9b0c-45bc20efc12f')\"\n",
              "              title=\"Convert this dataframe to an interactive table.\"\n",
              "              style=\"display:none;\">\n",
              "        \n",
              "  <svg xmlns=\"http://www.w3.org/2000/svg\" height=\"24px\"viewBox=\"0 0 24 24\"\n",
              "       width=\"24px\">\n",
              "    <path d=\"M0 0h24v24H0V0z\" fill=\"none\"/>\n",
              "    <path d=\"M18.56 5.44l.94 2.06.94-2.06 2.06-.94-2.06-.94-.94-2.06-.94 2.06-2.06.94zm-11 1L8.5 8.5l.94-2.06 2.06-.94-2.06-.94L8.5 2.5l-.94 2.06-2.06.94zm10 10l.94 2.06.94-2.06 2.06-.94-2.06-.94-.94-2.06-.94 2.06-2.06.94z\"/><path d=\"M17.41 7.96l-1.37-1.37c-.4-.4-.92-.59-1.43-.59-.52 0-1.04.2-1.43.59L10.3 9.45l-7.72 7.72c-.78.78-.78 2.05 0 2.83L4 21.41c.39.39.9.59 1.41.59.51 0 1.02-.2 1.41-.59l7.78-7.78 2.81-2.81c.8-.78.8-2.07 0-2.86zM5.41 20L4 18.59l7.72-7.72 1.47 1.35L5.41 20z\"/>\n",
              "  </svg>\n",
              "      </button>\n",
              "      \n",
              "  <style>\n",
              "    .colab-df-container {\n",
              "      display:flex;\n",
              "      flex-wrap:wrap;\n",
              "      gap: 12px;\n",
              "    }\n",
              "\n",
              "    .colab-df-convert {\n",
              "      background-color: #E8F0FE;\n",
              "      border: none;\n",
              "      border-radius: 50%;\n",
              "      cursor: pointer;\n",
              "      display: none;\n",
              "      fill: #1967D2;\n",
              "      height: 32px;\n",
              "      padding: 0 0 0 0;\n",
              "      width: 32px;\n",
              "    }\n",
              "\n",
              "    .colab-df-convert:hover {\n",
              "      background-color: #E2EBFA;\n",
              "      box-shadow: 0px 1px 2px rgba(60, 64, 67, 0.3), 0px 1px 3px 1px rgba(60, 64, 67, 0.15);\n",
              "      fill: #174EA6;\n",
              "    }\n",
              "\n",
              "    [theme=dark] .colab-df-convert {\n",
              "      background-color: #3B4455;\n",
              "      fill: #D2E3FC;\n",
              "    }\n",
              "\n",
              "    [theme=dark] .colab-df-convert:hover {\n",
              "      background-color: #434B5C;\n",
              "      box-shadow: 0px 1px 3px 1px rgba(0, 0, 0, 0.15);\n",
              "      filter: drop-shadow(0px 1px 2px rgba(0, 0, 0, 0.3));\n",
              "      fill: #FFFFFF;\n",
              "    }\n",
              "  </style>\n",
              "\n",
              "      <script>\n",
              "        const buttonEl =\n",
              "          document.querySelector('#df-9cd19a30-aaca-4b8c-9b0c-45bc20efc12f button.colab-df-convert');\n",
              "        buttonEl.style.display =\n",
              "          google.colab.kernel.accessAllowed ? 'block' : 'none';\n",
              "\n",
              "        async function convertToInteractive(key) {\n",
              "          const element = document.querySelector('#df-9cd19a30-aaca-4b8c-9b0c-45bc20efc12f');\n",
              "          const dataTable =\n",
              "            await google.colab.kernel.invokeFunction('convertToInteractive',\n",
              "                                                     [key], {});\n",
              "          if (!dataTable) return;\n",
              "\n",
              "          const docLinkHtml = 'Like what you see? Visit the ' +\n",
              "            '<a target=\"_blank\" href=https://colab.research.google.com/notebooks/data_table.ipynb>data table notebook</a>'\n",
              "            + ' to learn more about interactive tables.';\n",
              "          element.innerHTML = '';\n",
              "          dataTable['output_type'] = 'display_data';\n",
              "          await google.colab.output.renderOutput(dataTable, element);\n",
              "          const docLink = document.createElement('div');\n",
              "          docLink.innerHTML = docLinkHtml;\n",
              "          element.appendChild(docLink);\n",
              "        }\n",
              "      </script>\n",
              "    </div>\n",
              "  </div>\n",
              "  "
            ]
          },
          "metadata": {},
          "execution_count": 15
        }
      ],
      "source": [
        "df = pd.DataFrame(np.arange(10000).reshape(100, 100))\n",
        "df"
      ]
    },
    {
      "cell_type": "code",
      "execution_count": 16,
      "metadata": {
        "id": "MY69H5oEevgS"
      },
      "outputs": [],
      "source": [
        "pd.set_option(\"display.max_rows\", 1000)\n",
        "pd.set_option(\"display.max_columns\", 100)"
      ]
    },
    {
      "cell_type": "code",
      "execution_count": null,
      "metadata": {
        "id": "I2UKn2kWevgT"
      },
      "outputs": [],
      "source": [
        "df"
      ]
    },
    {
      "cell_type": "code",
      "execution_count": 18,
      "metadata": {
        "id": "HaWo0sq5evgT"
      },
      "outputs": [],
      "source": [
        "pd.reset_option(\"display.max_rows\")"
      ]
    },
    {
      "cell_type": "code",
      "source": [
        "df"
      ],
      "metadata": {
        "id": "NWALxsWZYUgl"
      },
      "execution_count": null,
      "outputs": []
    },
    {
      "cell_type": "markdown",
      "metadata": {
        "id": "43QYxdBWevgT"
      },
      "source": [
        "## Carregando os dados"
      ]
    },
    {
      "cell_type": "markdown",
      "metadata": {
        "id": "votr38ZYevgT"
      },
      "source": [
        "### Arquivos JSON - `read_json`\n",
        "\n",
        "[Documentação](https://pandas.pydata.org/pandas-docs/stable/reference/api/pandas.read_json.html)\n",
        "\n",
        "## JSON\n",
        "\n",
        "JSON (**J**ava**S**cript **O**bject **N**otation - Notação de Objetos JavaScript) é uma formatação leve de troca de dados. Para seres humanos, é fácil de ler e escrever. Para máquinas, é fácil de interpretar e gerar. Está baseado em um subconjunto da linguagem de programação JavaScript, Standard ECMA-262 3a Edição - Dezembro - 1999. JSON é em formato texto e completamente independente de linguagem, pois usa convenções que são familiares às linguagens C e familiares, incluindo C++, C#, Java, JavaScript, Perl, Python e muitas outras. Estas propriedades fazem com que JSON seja um formato ideal de troca de dados.\n",
        "\n",
        "[fonte](https://www.json.org/json-pt.html)\n",
        "\n",
        "[Online JSON Viewer](http://jsonviewer.stack.hu/)"
      ]
    },
    {
      "cell_type": "code",
      "execution_count": 20,
      "metadata": {
        "id": "mqhtwsPSevgU",
        "colab": {
          "base_uri": "https://localhost:8080/",
          "height": 36
        },
        "outputId": "e23d249e-d70a-4f11-d8d3-b15d06eb5c33"
      },
      "outputs": [
        {
          "output_type": "execute_result",
          "data": {
            "text/plain": [
              "'{\"A\": [1, 2, 3, 4], \"B\": [5 ,6 ,7 ,8], \"C\":[9, 10, 11, 12]}'"
            ],
            "application/vnd.google.colaboratory.intrinsic+json": {
              "type": "string"
            }
          },
          "metadata": {},
          "execution_count": 20
        }
      ],
      "source": [
        "data_json = '{\"A\": [1, 2, 3, 4], \"B\": [5 ,6 ,7 ,8], \"C\":[9, 10, 11, 12]}'\n",
        "data_json"
      ]
    },
    {
      "cell_type": "code",
      "execution_count": 22,
      "metadata": {
        "id": "9QbVDt0LevgU",
        "colab": {
          "base_uri": "https://localhost:8080/",
          "height": 143
        },
        "outputId": "38b82281-d7b1-4e8d-e775-1e2a23b4dff7"
      },
      "outputs": [
        {
          "output_type": "execute_result",
          "data": {
            "text/plain": [
              "   0   1   2   3\n",
              "A  1   2   3   4\n",
              "B  5   6   7   8\n",
              "C  9  10  11  12"
            ],
            "text/html": [
              "\n",
              "  <div id=\"df-081776f6-5e26-447b-bdaa-ffc19247eabb\">\n",
              "    <div class=\"colab-df-container\">\n",
              "      <div>\n",
              "<style scoped>\n",
              "    .dataframe tbody tr th:only-of-type {\n",
              "        vertical-align: middle;\n",
              "    }\n",
              "\n",
              "    .dataframe tbody tr th {\n",
              "        vertical-align: top;\n",
              "    }\n",
              "\n",
              "    .dataframe thead th {\n",
              "        text-align: right;\n",
              "    }\n",
              "</style>\n",
              "<table border=\"1\" class=\"dataframe\">\n",
              "  <thead>\n",
              "    <tr style=\"text-align: right;\">\n",
              "      <th></th>\n",
              "      <th>0</th>\n",
              "      <th>1</th>\n",
              "      <th>2</th>\n",
              "      <th>3</th>\n",
              "    </tr>\n",
              "  </thead>\n",
              "  <tbody>\n",
              "    <tr>\n",
              "      <th>A</th>\n",
              "      <td>1</td>\n",
              "      <td>2</td>\n",
              "      <td>3</td>\n",
              "      <td>4</td>\n",
              "    </tr>\n",
              "    <tr>\n",
              "      <th>B</th>\n",
              "      <td>5</td>\n",
              "      <td>6</td>\n",
              "      <td>7</td>\n",
              "      <td>8</td>\n",
              "    </tr>\n",
              "    <tr>\n",
              "      <th>C</th>\n",
              "      <td>9</td>\n",
              "      <td>10</td>\n",
              "      <td>11</td>\n",
              "      <td>12</td>\n",
              "    </tr>\n",
              "  </tbody>\n",
              "</table>\n",
              "</div>\n",
              "      <button class=\"colab-df-convert\" onclick=\"convertToInteractive('df-081776f6-5e26-447b-bdaa-ffc19247eabb')\"\n",
              "              title=\"Convert this dataframe to an interactive table.\"\n",
              "              style=\"display:none;\">\n",
              "        \n",
              "  <svg xmlns=\"http://www.w3.org/2000/svg\" height=\"24px\"viewBox=\"0 0 24 24\"\n",
              "       width=\"24px\">\n",
              "    <path d=\"M0 0h24v24H0V0z\" fill=\"none\"/>\n",
              "    <path d=\"M18.56 5.44l.94 2.06.94-2.06 2.06-.94-2.06-.94-.94-2.06-.94 2.06-2.06.94zm-11 1L8.5 8.5l.94-2.06 2.06-.94-2.06-.94L8.5 2.5l-.94 2.06-2.06.94zm10 10l.94 2.06.94-2.06 2.06-.94-2.06-.94-.94-2.06-.94 2.06-2.06.94z\"/><path d=\"M17.41 7.96l-1.37-1.37c-.4-.4-.92-.59-1.43-.59-.52 0-1.04.2-1.43.59L10.3 9.45l-7.72 7.72c-.78.78-.78 2.05 0 2.83L4 21.41c.39.39.9.59 1.41.59.51 0 1.02-.2 1.41-.59l7.78-7.78 2.81-2.81c.8-.78.8-2.07 0-2.86zM5.41 20L4 18.59l7.72-7.72 1.47 1.35L5.41 20z\"/>\n",
              "  </svg>\n",
              "      </button>\n",
              "      \n",
              "  <style>\n",
              "    .colab-df-container {\n",
              "      display:flex;\n",
              "      flex-wrap:wrap;\n",
              "      gap: 12px;\n",
              "    }\n",
              "\n",
              "    .colab-df-convert {\n",
              "      background-color: #E8F0FE;\n",
              "      border: none;\n",
              "      border-radius: 50%;\n",
              "      cursor: pointer;\n",
              "      display: none;\n",
              "      fill: #1967D2;\n",
              "      height: 32px;\n",
              "      padding: 0 0 0 0;\n",
              "      width: 32px;\n",
              "    }\n",
              "\n",
              "    .colab-df-convert:hover {\n",
              "      background-color: #E2EBFA;\n",
              "      box-shadow: 0px 1px 2px rgba(60, 64, 67, 0.3), 0px 1px 3px 1px rgba(60, 64, 67, 0.15);\n",
              "      fill: #174EA6;\n",
              "    }\n",
              "\n",
              "    [theme=dark] .colab-df-convert {\n",
              "      background-color: #3B4455;\n",
              "      fill: #D2E3FC;\n",
              "    }\n",
              "\n",
              "    [theme=dark] .colab-df-convert:hover {\n",
              "      background-color: #434B5C;\n",
              "      box-shadow: 0px 1px 3px 1px rgba(0, 0, 0, 0.15);\n",
              "      filter: drop-shadow(0px 1px 2px rgba(0, 0, 0, 0.3));\n",
              "      fill: #FFFFFF;\n",
              "    }\n",
              "  </style>\n",
              "\n",
              "      <script>\n",
              "        const buttonEl =\n",
              "          document.querySelector('#df-081776f6-5e26-447b-bdaa-ffc19247eabb button.colab-df-convert');\n",
              "        buttonEl.style.display =\n",
              "          google.colab.kernel.accessAllowed ? 'block' : 'none';\n",
              "\n",
              "        async function convertToInteractive(key) {\n",
              "          const element = document.querySelector('#df-081776f6-5e26-447b-bdaa-ffc19247eabb');\n",
              "          const dataTable =\n",
              "            await google.colab.kernel.invokeFunction('convertToInteractive',\n",
              "                                                     [key], {});\n",
              "          if (!dataTable) return;\n",
              "\n",
              "          const docLinkHtml = 'Like what you see? Visit the ' +\n",
              "            '<a target=\"_blank\" href=https://colab.research.google.com/notebooks/data_table.ipynb>data table notebook</a>'\n",
              "            + ' to learn more about interactive tables.';\n",
              "          element.innerHTML = '';\n",
              "          dataTable['output_type'] = 'display_data';\n",
              "          await google.colab.output.renderOutput(dataTable, element);\n",
              "          const docLink = document.createElement('div');\n",
              "          docLink.innerHTML = docLinkHtml;\n",
              "          element.appendChild(docLink);\n",
              "        }\n",
              "      </script>\n",
              "    </div>\n",
              "  </div>\n",
              "  "
            ]
          },
          "metadata": {},
          "execution_count": 22
        }
      ],
      "source": [
        "dados = pd.read_json(\n",
        "    path_or_buf=data_json,\n",
        "    orient='index'\n",
        ")\n",
        "dados"
      ]
    },
    {
      "cell_type": "code",
      "execution_count": 26,
      "metadata": {
        "id": "FU7LgMbAevgU",
        "colab": {
          "base_uri": "https://localhost:8080/",
          "height": 175
        },
        "outputId": "a1ee7954-a3c5-4eff-bc48-9d18290fa3af"
      },
      "outputs": [
        {
          "output_type": "execute_result",
          "data": {
            "text/plain": [
              "   A  B   C\n",
              "0  1  5   9\n",
              "1  2  6  10\n",
              "2  3  7  11\n",
              "3  4  8  12"
            ],
            "text/html": [
              "\n",
              "  <div id=\"df-b7d3958a-39d0-498e-92fa-086d733fef23\">\n",
              "    <div class=\"colab-df-container\">\n",
              "      <div>\n",
              "<style scoped>\n",
              "    .dataframe tbody tr th:only-of-type {\n",
              "        vertical-align: middle;\n",
              "    }\n",
              "\n",
              "    .dataframe tbody tr th {\n",
              "        vertical-align: top;\n",
              "    }\n",
              "\n",
              "    .dataframe thead th {\n",
              "        text-align: right;\n",
              "    }\n",
              "</style>\n",
              "<table border=\"1\" class=\"dataframe\">\n",
              "  <thead>\n",
              "    <tr style=\"text-align: right;\">\n",
              "      <th></th>\n",
              "      <th>A</th>\n",
              "      <th>B</th>\n",
              "      <th>C</th>\n",
              "    </tr>\n",
              "  </thead>\n",
              "  <tbody>\n",
              "    <tr>\n",
              "      <th>0</th>\n",
              "      <td>1</td>\n",
              "      <td>5</td>\n",
              "      <td>9</td>\n",
              "    </tr>\n",
              "    <tr>\n",
              "      <th>1</th>\n",
              "      <td>2</td>\n",
              "      <td>6</td>\n",
              "      <td>10</td>\n",
              "    </tr>\n",
              "    <tr>\n",
              "      <th>2</th>\n",
              "      <td>3</td>\n",
              "      <td>7</td>\n",
              "      <td>11</td>\n",
              "    </tr>\n",
              "    <tr>\n",
              "      <th>3</th>\n",
              "      <td>4</td>\n",
              "      <td>8</td>\n",
              "      <td>12</td>\n",
              "    </tr>\n",
              "  </tbody>\n",
              "</table>\n",
              "</div>\n",
              "      <button class=\"colab-df-convert\" onclick=\"convertToInteractive('df-b7d3958a-39d0-498e-92fa-086d733fef23')\"\n",
              "              title=\"Convert this dataframe to an interactive table.\"\n",
              "              style=\"display:none;\">\n",
              "        \n",
              "  <svg xmlns=\"http://www.w3.org/2000/svg\" height=\"24px\"viewBox=\"0 0 24 24\"\n",
              "       width=\"24px\">\n",
              "    <path d=\"M0 0h24v24H0V0z\" fill=\"none\"/>\n",
              "    <path d=\"M18.56 5.44l.94 2.06.94-2.06 2.06-.94-2.06-.94-.94-2.06-.94 2.06-2.06.94zm-11 1L8.5 8.5l.94-2.06 2.06-.94-2.06-.94L8.5 2.5l-.94 2.06-2.06.94zm10 10l.94 2.06.94-2.06 2.06-.94-2.06-.94-.94-2.06-.94 2.06-2.06.94z\"/><path d=\"M17.41 7.96l-1.37-1.37c-.4-.4-.92-.59-1.43-.59-.52 0-1.04.2-1.43.59L10.3 9.45l-7.72 7.72c-.78.78-.78 2.05 0 2.83L4 21.41c.39.39.9.59 1.41.59.51 0 1.02-.2 1.41-.59l7.78-7.78 2.81-2.81c.8-.78.8-2.07 0-2.86zM5.41 20L4 18.59l7.72-7.72 1.47 1.35L5.41 20z\"/>\n",
              "  </svg>\n",
              "      </button>\n",
              "      \n",
              "  <style>\n",
              "    .colab-df-container {\n",
              "      display:flex;\n",
              "      flex-wrap:wrap;\n",
              "      gap: 12px;\n",
              "    }\n",
              "\n",
              "    .colab-df-convert {\n",
              "      background-color: #E8F0FE;\n",
              "      border: none;\n",
              "      border-radius: 50%;\n",
              "      cursor: pointer;\n",
              "      display: none;\n",
              "      fill: #1967D2;\n",
              "      height: 32px;\n",
              "      padding: 0 0 0 0;\n",
              "      width: 32px;\n",
              "    }\n",
              "\n",
              "    .colab-df-convert:hover {\n",
              "      background-color: #E2EBFA;\n",
              "      box-shadow: 0px 1px 2px rgba(60, 64, 67, 0.3), 0px 1px 3px 1px rgba(60, 64, 67, 0.15);\n",
              "      fill: #174EA6;\n",
              "    }\n",
              "\n",
              "    [theme=dark] .colab-df-convert {\n",
              "      background-color: #3B4455;\n",
              "      fill: #D2E3FC;\n",
              "    }\n",
              "\n",
              "    [theme=dark] .colab-df-convert:hover {\n",
              "      background-color: #434B5C;\n",
              "      box-shadow: 0px 1px 3px 1px rgba(0, 0, 0, 0.15);\n",
              "      filter: drop-shadow(0px 1px 2px rgba(0, 0, 0, 0.3));\n",
              "      fill: #FFFFFF;\n",
              "    }\n",
              "  </style>\n",
              "\n",
              "      <script>\n",
              "        const buttonEl =\n",
              "          document.querySelector('#df-b7d3958a-39d0-498e-92fa-086d733fef23 button.colab-df-convert');\n",
              "        buttonEl.style.display =\n",
              "          google.colab.kernel.accessAllowed ? 'block' : 'none';\n",
              "\n",
              "        async function convertToInteractive(key) {\n",
              "          const element = document.querySelector('#df-b7d3958a-39d0-498e-92fa-086d733fef23');\n",
              "          const dataTable =\n",
              "            await google.colab.kernel.invokeFunction('convertToInteractive',\n",
              "                                                     [key], {});\n",
              "          if (!dataTable) return;\n",
              "\n",
              "          const docLinkHtml = 'Like what you see? Visit the ' +\n",
              "            '<a target=\"_blank\" href=https://colab.research.google.com/notebooks/data_table.ipynb>data table notebook</a>'\n",
              "            + ' to learn more about interactive tables.';\n",
              "          element.innerHTML = '';\n",
              "          dataTable['output_type'] = 'display_data';\n",
              "          await google.colab.output.renderOutput(dataTable, element);\n",
              "          const docLink = document.createElement('div');\n",
              "          docLink.innerHTML = docLinkHtml;\n",
              "          element.appendChild(docLink);\n",
              "        }\n",
              "      </script>\n",
              "    </div>\n",
              "  </div>\n",
              "  "
            ]
          },
          "metadata": {},
          "execution_count": 26
        }
      ],
      "source": [
        "dados = pd.read_json(\n",
        "    path_or_buf=data_json,\n",
        "    orient='columns'\n",
        ")\n",
        "dados"
      ]
    },
    {
      "cell_type": "code",
      "execution_count": 27,
      "metadata": {
        "id": "xqMteeCFevgU",
        "colab": {
          "base_uri": "https://localhost:8080/",
          "height": 81
        },
        "outputId": "e70a0058-2a84-4d88-fc48-7c5f3278c046"
      },
      "outputs": [
        {
          "output_type": "execute_result",
          "data": {
            "text/plain": [
              "                                                   normal  \\\n",
              "output  {'listings': [{'imovel': {'tipos': {'proprieda...   \n",
              "\n",
              "                                               highlights  \n",
              "output  {'listings': [{'imovel': {'tipos': {'proprieda...  "
            ],
            "text/html": [
              "\n",
              "  <div id=\"df-91a1a093-e9cc-422e-90fa-fd2a77566403\">\n",
              "    <div class=\"colab-df-container\">\n",
              "      <div>\n",
              "<style scoped>\n",
              "    .dataframe tbody tr th:only-of-type {\n",
              "        vertical-align: middle;\n",
              "    }\n",
              "\n",
              "    .dataframe tbody tr th {\n",
              "        vertical-align: top;\n",
              "    }\n",
              "\n",
              "    .dataframe thead th {\n",
              "        text-align: right;\n",
              "    }\n",
              "</style>\n",
              "<table border=\"1\" class=\"dataframe\">\n",
              "  <thead>\n",
              "    <tr style=\"text-align: right;\">\n",
              "      <th></th>\n",
              "      <th>normal</th>\n",
              "      <th>highlights</th>\n",
              "    </tr>\n",
              "  </thead>\n",
              "  <tbody>\n",
              "    <tr>\n",
              "      <th>output</th>\n",
              "      <td>{'listings': [{'imovel': {'tipos': {'proprieda...</td>\n",
              "      <td>{'listings': [{'imovel': {'tipos': {'proprieda...</td>\n",
              "    </tr>\n",
              "  </tbody>\n",
              "</table>\n",
              "</div>\n",
              "      <button class=\"colab-df-convert\" onclick=\"convertToInteractive('df-91a1a093-e9cc-422e-90fa-fd2a77566403')\"\n",
              "              title=\"Convert this dataframe to an interactive table.\"\n",
              "              style=\"display:none;\">\n",
              "        \n",
              "  <svg xmlns=\"http://www.w3.org/2000/svg\" height=\"24px\"viewBox=\"0 0 24 24\"\n",
              "       width=\"24px\">\n",
              "    <path d=\"M0 0h24v24H0V0z\" fill=\"none\"/>\n",
              "    <path d=\"M18.56 5.44l.94 2.06.94-2.06 2.06-.94-2.06-.94-.94-2.06-.94 2.06-2.06.94zm-11 1L8.5 8.5l.94-2.06 2.06-.94-2.06-.94L8.5 2.5l-.94 2.06-2.06.94zm10 10l.94 2.06.94-2.06 2.06-.94-2.06-.94-.94-2.06-.94 2.06-2.06.94z\"/><path d=\"M17.41 7.96l-1.37-1.37c-.4-.4-.92-.59-1.43-.59-.52 0-1.04.2-1.43.59L10.3 9.45l-7.72 7.72c-.78.78-.78 2.05 0 2.83L4 21.41c.39.39.9.59 1.41.59.51 0 1.02-.2 1.41-.59l7.78-7.78 2.81-2.81c.8-.78.8-2.07 0-2.86zM5.41 20L4 18.59l7.72-7.72 1.47 1.35L5.41 20z\"/>\n",
              "  </svg>\n",
              "      </button>\n",
              "      \n",
              "  <style>\n",
              "    .colab-df-container {\n",
              "      display:flex;\n",
              "      flex-wrap:wrap;\n",
              "      gap: 12px;\n",
              "    }\n",
              "\n",
              "    .colab-df-convert {\n",
              "      background-color: #E8F0FE;\n",
              "      border: none;\n",
              "      border-radius: 50%;\n",
              "      cursor: pointer;\n",
              "      display: none;\n",
              "      fill: #1967D2;\n",
              "      height: 32px;\n",
              "      padding: 0 0 0 0;\n",
              "      width: 32px;\n",
              "    }\n",
              "\n",
              "    .colab-df-convert:hover {\n",
              "      background-color: #E2EBFA;\n",
              "      box-shadow: 0px 1px 2px rgba(60, 64, 67, 0.3), 0px 1px 3px 1px rgba(60, 64, 67, 0.15);\n",
              "      fill: #174EA6;\n",
              "    }\n",
              "\n",
              "    [theme=dark] .colab-df-convert {\n",
              "      background-color: #3B4455;\n",
              "      fill: #D2E3FC;\n",
              "    }\n",
              "\n",
              "    [theme=dark] .colab-df-convert:hover {\n",
              "      background-color: #434B5C;\n",
              "      box-shadow: 0px 1px 3px 1px rgba(0, 0, 0, 0.15);\n",
              "      filter: drop-shadow(0px 1px 2px rgba(0, 0, 0, 0.3));\n",
              "      fill: #FFFFFF;\n",
              "    }\n",
              "  </style>\n",
              "\n",
              "      <script>\n",
              "        const buttonEl =\n",
              "          document.querySelector('#df-91a1a093-e9cc-422e-90fa-fd2a77566403 button.colab-df-convert');\n",
              "        buttonEl.style.display =\n",
              "          google.colab.kernel.accessAllowed ? 'block' : 'none';\n",
              "\n",
              "        async function convertToInteractive(key) {\n",
              "          const element = document.querySelector('#df-91a1a093-e9cc-422e-90fa-fd2a77566403');\n",
              "          const dataTable =\n",
              "            await google.colab.kernel.invokeFunction('convertToInteractive',\n",
              "                                                     [key], {});\n",
              "          if (!dataTable) return;\n",
              "\n",
              "          const docLinkHtml = 'Like what you see? Visit the ' +\n",
              "            '<a target=\"_blank\" href=https://colab.research.google.com/notebooks/data_table.ipynb>data table notebook</a>'\n",
              "            + ' to learn more about interactive tables.';\n",
              "          element.innerHTML = '';\n",
              "          dataTable['output_type'] = 'display_data';\n",
              "          await google.colab.output.renderOutput(dataTable, element);\n",
              "          const docLink = document.createElement('div');\n",
              "          docLink.innerHTML = docLinkHtml;\n",
              "          element.appendChild(docLink);\n",
              "        }\n",
              "      </script>\n",
              "    </div>\n",
              "  </div>\n",
              "  "
            ]
          },
          "metadata": {},
          "execution_count": 27
        }
      ],
      "source": [
        "dados = pd.read_json(\n",
        "    path_or_buf='realestates.json',\n",
        "    orient='columns'\n",
        ")\n",
        "dados"
      ]
    },
    {
      "cell_type": "markdown",
      "metadata": {
        "id": "Q0coCxxrevgU"
      },
      "source": [
        "### Arquivos EXCEL - `read_excel`\n",
        "\n",
        "[Documentação](https://pandas.pydata.org/pandas-docs/stable/reference/api/pandas.read_excel.html)"
      ]
    },
    {
      "cell_type": "code",
      "execution_count": 29,
      "metadata": {
        "id": "xoSV41cTevgV",
        "scrolled": true,
        "colab": {
          "base_uri": "https://localhost:8080/",
          "height": 455
        },
        "outputId": "dae10d84-4933-497b-afd0-d80ac01a3a8a"
      },
      "outputs": [
        {
          "output_type": "execute_result",
          "data": {
            "text/plain": [
              "                                valor_m2_bairro\n",
              "bairros       tipo                             \n",
              "São Cristóvão Casa                        13793\n",
              "              Apartamento                  6306\n",
              "              Cobertura                   11695\n",
              "              Consultório                  6991\n",
              "              Imóvel Comercial            19633\n",
              "...                                         ...\n",
              "Vista Alegre  Cobertura                   16567\n",
              "              Consultório                  5812\n",
              "              Imóvel Comercial            12895\n",
              "              Loja                         6182\n",
              "              Sala Comercial               3377\n",
              "\n",
              "[1127 rows x 1 columns]"
            ],
            "text/html": [
              "\n",
              "  <div id=\"df-0d42c2a4-a6e3-4f01-9832-d25d5d2dc86b\">\n",
              "    <div class=\"colab-df-container\">\n",
              "      <div>\n",
              "<style scoped>\n",
              "    .dataframe tbody tr th:only-of-type {\n",
              "        vertical-align: middle;\n",
              "    }\n",
              "\n",
              "    .dataframe tbody tr th {\n",
              "        vertical-align: top;\n",
              "    }\n",
              "\n",
              "    .dataframe thead th {\n",
              "        text-align: right;\n",
              "    }\n",
              "</style>\n",
              "<table border=\"1\" class=\"dataframe\">\n",
              "  <thead>\n",
              "    <tr style=\"text-align: right;\">\n",
              "      <th></th>\n",
              "      <th></th>\n",
              "      <th>valor_m2_bairro</th>\n",
              "    </tr>\n",
              "    <tr>\n",
              "      <th>bairros</th>\n",
              "      <th>tipo</th>\n",
              "      <th></th>\n",
              "    </tr>\n",
              "  </thead>\n",
              "  <tbody>\n",
              "    <tr>\n",
              "      <th rowspan=\"5\" valign=\"top\">São Cristóvão</th>\n",
              "      <th>Casa</th>\n",
              "      <td>13793</td>\n",
              "    </tr>\n",
              "    <tr>\n",
              "      <th>Apartamento</th>\n",
              "      <td>6306</td>\n",
              "    </tr>\n",
              "    <tr>\n",
              "      <th>Cobertura</th>\n",
              "      <td>11695</td>\n",
              "    </tr>\n",
              "    <tr>\n",
              "      <th>Consultório</th>\n",
              "      <td>6991</td>\n",
              "    </tr>\n",
              "    <tr>\n",
              "      <th>Imóvel Comercial</th>\n",
              "      <td>19633</td>\n",
              "    </tr>\n",
              "    <tr>\n",
              "      <th>...</th>\n",
              "      <th>...</th>\n",
              "      <td>...</td>\n",
              "    </tr>\n",
              "    <tr>\n",
              "      <th rowspan=\"5\" valign=\"top\">Vista Alegre</th>\n",
              "      <th>Cobertura</th>\n",
              "      <td>16567</td>\n",
              "    </tr>\n",
              "    <tr>\n",
              "      <th>Consultório</th>\n",
              "      <td>5812</td>\n",
              "    </tr>\n",
              "    <tr>\n",
              "      <th>Imóvel Comercial</th>\n",
              "      <td>12895</td>\n",
              "    </tr>\n",
              "    <tr>\n",
              "      <th>Loja</th>\n",
              "      <td>6182</td>\n",
              "    </tr>\n",
              "    <tr>\n",
              "      <th>Sala Comercial</th>\n",
              "      <td>3377</td>\n",
              "    </tr>\n",
              "  </tbody>\n",
              "</table>\n",
              "<p>1127 rows × 1 columns</p>\n",
              "</div>\n",
              "      <button class=\"colab-df-convert\" onclick=\"convertToInteractive('df-0d42c2a4-a6e3-4f01-9832-d25d5d2dc86b')\"\n",
              "              title=\"Convert this dataframe to an interactive table.\"\n",
              "              style=\"display:none;\">\n",
              "        \n",
              "  <svg xmlns=\"http://www.w3.org/2000/svg\" height=\"24px\"viewBox=\"0 0 24 24\"\n",
              "       width=\"24px\">\n",
              "    <path d=\"M0 0h24v24H0V0z\" fill=\"none\"/>\n",
              "    <path d=\"M18.56 5.44l.94 2.06.94-2.06 2.06-.94-2.06-.94-.94-2.06-.94 2.06-2.06.94zm-11 1L8.5 8.5l.94-2.06 2.06-.94-2.06-.94L8.5 2.5l-.94 2.06-2.06.94zm10 10l.94 2.06.94-2.06 2.06-.94-2.06-.94-.94-2.06-.94 2.06-2.06.94z\"/><path d=\"M17.41 7.96l-1.37-1.37c-.4-.4-.92-.59-1.43-.59-.52 0-1.04.2-1.43.59L10.3 9.45l-7.72 7.72c-.78.78-.78 2.05 0 2.83L4 21.41c.39.39.9.59 1.41.59.51 0 1.02-.2 1.41-.59l7.78-7.78 2.81-2.81c.8-.78.8-2.07 0-2.86zM5.41 20L4 18.59l7.72-7.72 1.47 1.35L5.41 20z\"/>\n",
              "  </svg>\n",
              "      </button>\n",
              "      \n",
              "  <style>\n",
              "    .colab-df-container {\n",
              "      display:flex;\n",
              "      flex-wrap:wrap;\n",
              "      gap: 12px;\n",
              "    }\n",
              "\n",
              "    .colab-df-convert {\n",
              "      background-color: #E8F0FE;\n",
              "      border: none;\n",
              "      border-radius: 50%;\n",
              "      cursor: pointer;\n",
              "      display: none;\n",
              "      fill: #1967D2;\n",
              "      height: 32px;\n",
              "      padding: 0 0 0 0;\n",
              "      width: 32px;\n",
              "    }\n",
              "\n",
              "    .colab-df-convert:hover {\n",
              "      background-color: #E2EBFA;\n",
              "      box-shadow: 0px 1px 2px rgba(60, 64, 67, 0.3), 0px 1px 3px 1px rgba(60, 64, 67, 0.15);\n",
              "      fill: #174EA6;\n",
              "    }\n",
              "\n",
              "    [theme=dark] .colab-df-convert {\n",
              "      background-color: #3B4455;\n",
              "      fill: #D2E3FC;\n",
              "    }\n",
              "\n",
              "    [theme=dark] .colab-df-convert:hover {\n",
              "      background-color: #434B5C;\n",
              "      box-shadow: 0px 1px 3px 1px rgba(0, 0, 0, 0.15);\n",
              "      filter: drop-shadow(0px 1px 2px rgba(0, 0, 0, 0.3));\n",
              "      fill: #FFFFFF;\n",
              "    }\n",
              "  </style>\n",
              "\n",
              "      <script>\n",
              "        const buttonEl =\n",
              "          document.querySelector('#df-0d42c2a4-a6e3-4f01-9832-d25d5d2dc86b button.colab-df-convert');\n",
              "        buttonEl.style.display =\n",
              "          google.colab.kernel.accessAllowed ? 'block' : 'none';\n",
              "\n",
              "        async function convertToInteractive(key) {\n",
              "          const element = document.querySelector('#df-0d42c2a4-a6e3-4f01-9832-d25d5d2dc86b');\n",
              "          const dataTable =\n",
              "            await google.colab.kernel.invokeFunction('convertToInteractive',\n",
              "                                                     [key], {});\n",
              "          if (!dataTable) return;\n",
              "\n",
              "          const docLinkHtml = 'Like what you see? Visit the ' +\n",
              "            '<a target=\"_blank\" href=https://colab.research.google.com/notebooks/data_table.ipynb>data table notebook</a>'\n",
              "            + ' to learn more about interactive tables.';\n",
              "          element.innerHTML = '';\n",
              "          dataTable['output_type'] = 'display_data';\n",
              "          await google.colab.output.renderOutput(dataTable, element);\n",
              "          const docLink = document.createElement('div');\n",
              "          docLink.innerHTML = docLinkHtml;\n",
              "          element.appendChild(docLink);\n",
              "        }\n",
              "      </script>\n",
              "    </div>\n",
              "  </div>\n",
              "  "
            ]
          },
          "metadata": {},
          "execution_count": 29
        }
      ],
      "source": [
        "bairros = pd.read_excel(\n",
        "    io = \"bairros.xlsx\",\n",
        "    sheet_name='Preço médio por tipo',\n",
        "    usecols=\"C:E\",\n",
        "    header = 2,\n",
        "    index_col=[0, 1],\n",
        "    names=['bairros', 'tipo', 'valor_m2_bairro']\n",
        ")\n",
        "bairros"
      ]
    },
    {
      "cell_type": "markdown",
      "metadata": {
        "id": "A05bkoTPevgV"
      },
      "source": [
        "# TRANSFORMANDO E TRATANDO OS DADOS\n",
        "---"
      ]
    },
    {
      "cell_type": "markdown",
      "metadata": {
        "id": "Wy7HvxaZevgV"
      },
      "source": [
        "## Transformando dados no formato JSON para uma tabela"
      ]
    },
    {
      "cell_type": "code",
      "execution_count": 30,
      "metadata": {
        "id": "g0533aVtevgV",
        "colab": {
          "base_uri": "https://localhost:8080/",
          "height": 81
        },
        "outputId": "65c9595b-88bb-4daa-fe9c-7a4f109b70ac"
      },
      "outputs": [
        {
          "output_type": "execute_result",
          "data": {
            "text/plain": [
              "                                                   normal  \\\n",
              "output  {'listings': [{'imovel': {'tipos': {'proprieda...   \n",
              "\n",
              "                                               highlights  \n",
              "output  {'listings': [{'imovel': {'tipos': {'proprieda...  "
            ],
            "text/html": [
              "\n",
              "  <div id=\"df-0e9353c3-4a02-493c-84a2-9f7dca4e387d\">\n",
              "    <div class=\"colab-df-container\">\n",
              "      <div>\n",
              "<style scoped>\n",
              "    .dataframe tbody tr th:only-of-type {\n",
              "        vertical-align: middle;\n",
              "    }\n",
              "\n",
              "    .dataframe tbody tr th {\n",
              "        vertical-align: top;\n",
              "    }\n",
              "\n",
              "    .dataframe thead th {\n",
              "        text-align: right;\n",
              "    }\n",
              "</style>\n",
              "<table border=\"1\" class=\"dataframe\">\n",
              "  <thead>\n",
              "    <tr style=\"text-align: right;\">\n",
              "      <th></th>\n",
              "      <th>normal</th>\n",
              "      <th>highlights</th>\n",
              "    </tr>\n",
              "  </thead>\n",
              "  <tbody>\n",
              "    <tr>\n",
              "      <th>output</th>\n",
              "      <td>{'listings': [{'imovel': {'tipos': {'proprieda...</td>\n",
              "      <td>{'listings': [{'imovel': {'tipos': {'proprieda...</td>\n",
              "    </tr>\n",
              "  </tbody>\n",
              "</table>\n",
              "</div>\n",
              "      <button class=\"colab-df-convert\" onclick=\"convertToInteractive('df-0e9353c3-4a02-493c-84a2-9f7dca4e387d')\"\n",
              "              title=\"Convert this dataframe to an interactive table.\"\n",
              "              style=\"display:none;\">\n",
              "        \n",
              "  <svg xmlns=\"http://www.w3.org/2000/svg\" height=\"24px\"viewBox=\"0 0 24 24\"\n",
              "       width=\"24px\">\n",
              "    <path d=\"M0 0h24v24H0V0z\" fill=\"none\"/>\n",
              "    <path d=\"M18.56 5.44l.94 2.06.94-2.06 2.06-.94-2.06-.94-.94-2.06-.94 2.06-2.06.94zm-11 1L8.5 8.5l.94-2.06 2.06-.94-2.06-.94L8.5 2.5l-.94 2.06-2.06.94zm10 10l.94 2.06.94-2.06 2.06-.94-2.06-.94-.94-2.06-.94 2.06-2.06.94z\"/><path d=\"M17.41 7.96l-1.37-1.37c-.4-.4-.92-.59-1.43-.59-.52 0-1.04.2-1.43.59L10.3 9.45l-7.72 7.72c-.78.78-.78 2.05 0 2.83L4 21.41c.39.39.9.59 1.41.59.51 0 1.02-.2 1.41-.59l7.78-7.78 2.81-2.81c.8-.78.8-2.07 0-2.86zM5.41 20L4 18.59l7.72-7.72 1.47 1.35L5.41 20z\"/>\n",
              "  </svg>\n",
              "      </button>\n",
              "      \n",
              "  <style>\n",
              "    .colab-df-container {\n",
              "      display:flex;\n",
              "      flex-wrap:wrap;\n",
              "      gap: 12px;\n",
              "    }\n",
              "\n",
              "    .colab-df-convert {\n",
              "      background-color: #E8F0FE;\n",
              "      border: none;\n",
              "      border-radius: 50%;\n",
              "      cursor: pointer;\n",
              "      display: none;\n",
              "      fill: #1967D2;\n",
              "      height: 32px;\n",
              "      padding: 0 0 0 0;\n",
              "      width: 32px;\n",
              "    }\n",
              "\n",
              "    .colab-df-convert:hover {\n",
              "      background-color: #E2EBFA;\n",
              "      box-shadow: 0px 1px 2px rgba(60, 64, 67, 0.3), 0px 1px 3px 1px rgba(60, 64, 67, 0.15);\n",
              "      fill: #174EA6;\n",
              "    }\n",
              "\n",
              "    [theme=dark] .colab-df-convert {\n",
              "      background-color: #3B4455;\n",
              "      fill: #D2E3FC;\n",
              "    }\n",
              "\n",
              "    [theme=dark] .colab-df-convert:hover {\n",
              "      background-color: #434B5C;\n",
              "      box-shadow: 0px 1px 3px 1px rgba(0, 0, 0, 0.15);\n",
              "      filter: drop-shadow(0px 1px 2px rgba(0, 0, 0, 0.3));\n",
              "      fill: #FFFFFF;\n",
              "    }\n",
              "  </style>\n",
              "\n",
              "      <script>\n",
              "        const buttonEl =\n",
              "          document.querySelector('#df-0e9353c3-4a02-493c-84a2-9f7dca4e387d button.colab-df-convert');\n",
              "        buttonEl.style.display =\n",
              "          google.colab.kernel.accessAllowed ? 'block' : 'none';\n",
              "\n",
              "        async function convertToInteractive(key) {\n",
              "          const element = document.querySelector('#df-0e9353c3-4a02-493c-84a2-9f7dca4e387d');\n",
              "          const dataTable =\n",
              "            await google.colab.kernel.invokeFunction('convertToInteractive',\n",
              "                                                     [key], {});\n",
              "          if (!dataTable) return;\n",
              "\n",
              "          const docLinkHtml = 'Like what you see? Visit the ' +\n",
              "            '<a target=\"_blank\" href=https://colab.research.google.com/notebooks/data_table.ipynb>data table notebook</a>'\n",
              "            + ' to learn more about interactive tables.';\n",
              "          element.innerHTML = '';\n",
              "          dataTable['output_type'] = 'display_data';\n",
              "          await google.colab.output.renderOutput(dataTable, element);\n",
              "          const docLink = document.createElement('div');\n",
              "          docLink.innerHTML = docLinkHtml;\n",
              "          element.appendChild(docLink);\n",
              "        }\n",
              "      </script>\n",
              "    </div>\n",
              "  </div>\n",
              "  "
            ]
          },
          "metadata": {},
          "execution_count": 30
        }
      ],
      "source": [
        "dados"
      ]
    },
    {
      "cell_type": "markdown",
      "metadata": {
        "id": "bLn7laG1evgV"
      },
      "source": [
        "### `json_normalize`\n",
        "\n",
        "[Documentação](https://pandas.pydata.org/pandas-docs/stable/reference/api/pandas.json_normalize.html)"
      ]
    },
    {
      "cell_type": "code",
      "execution_count": 33,
      "metadata": {
        "id": "NqBTVXNKevgW",
        "colab": {
          "base_uri": "https://localhost:8080/",
          "height": 81
        },
        "outputId": "538ba07b-f919-4284-adbb-4bdf62c3ceed"
      },
      "outputs": [
        {
          "output_type": "execute_result",
          "data": {
            "text/plain": [
              "                                            listings\n",
              "0  [{'imovel': {'tipos': {'propriedade': 'Casa'},..."
            ],
            "text/html": [
              "\n",
              "  <div id=\"df-b4321e86-46cc-4632-b9d7-bd18fb294267\">\n",
              "    <div class=\"colab-df-container\">\n",
              "      <div>\n",
              "<style scoped>\n",
              "    .dataframe tbody tr th:only-of-type {\n",
              "        vertical-align: middle;\n",
              "    }\n",
              "\n",
              "    .dataframe tbody tr th {\n",
              "        vertical-align: top;\n",
              "    }\n",
              "\n",
              "    .dataframe thead th {\n",
              "        text-align: right;\n",
              "    }\n",
              "</style>\n",
              "<table border=\"1\" class=\"dataframe\">\n",
              "  <thead>\n",
              "    <tr style=\"text-align: right;\">\n",
              "      <th></th>\n",
              "      <th>listings</th>\n",
              "    </tr>\n",
              "  </thead>\n",
              "  <tbody>\n",
              "    <tr>\n",
              "      <th>0</th>\n",
              "      <td>[{'imovel': {'tipos': {'propriedade': 'Casa'},...</td>\n",
              "    </tr>\n",
              "  </tbody>\n",
              "</table>\n",
              "</div>\n",
              "      <button class=\"colab-df-convert\" onclick=\"convertToInteractive('df-b4321e86-46cc-4632-b9d7-bd18fb294267')\"\n",
              "              title=\"Convert this dataframe to an interactive table.\"\n",
              "              style=\"display:none;\">\n",
              "        \n",
              "  <svg xmlns=\"http://www.w3.org/2000/svg\" height=\"24px\"viewBox=\"0 0 24 24\"\n",
              "       width=\"24px\">\n",
              "    <path d=\"M0 0h24v24H0V0z\" fill=\"none\"/>\n",
              "    <path d=\"M18.56 5.44l.94 2.06.94-2.06 2.06-.94-2.06-.94-.94-2.06-.94 2.06-2.06.94zm-11 1L8.5 8.5l.94-2.06 2.06-.94-2.06-.94L8.5 2.5l-.94 2.06-2.06.94zm10 10l.94 2.06.94-2.06 2.06-.94-2.06-.94-.94-2.06-.94 2.06-2.06.94z\"/><path d=\"M17.41 7.96l-1.37-1.37c-.4-.4-.92-.59-1.43-.59-.52 0-1.04.2-1.43.59L10.3 9.45l-7.72 7.72c-.78.78-.78 2.05 0 2.83L4 21.41c.39.39.9.59 1.41.59.51 0 1.02-.2 1.41-.59l7.78-7.78 2.81-2.81c.8-.78.8-2.07 0-2.86zM5.41 20L4 18.59l7.72-7.72 1.47 1.35L5.41 20z\"/>\n",
              "  </svg>\n",
              "      </button>\n",
              "      \n",
              "  <style>\n",
              "    .colab-df-container {\n",
              "      display:flex;\n",
              "      flex-wrap:wrap;\n",
              "      gap: 12px;\n",
              "    }\n",
              "\n",
              "    .colab-df-convert {\n",
              "      background-color: #E8F0FE;\n",
              "      border: none;\n",
              "      border-radius: 50%;\n",
              "      cursor: pointer;\n",
              "      display: none;\n",
              "      fill: #1967D2;\n",
              "      height: 32px;\n",
              "      padding: 0 0 0 0;\n",
              "      width: 32px;\n",
              "    }\n",
              "\n",
              "    .colab-df-convert:hover {\n",
              "      background-color: #E2EBFA;\n",
              "      box-shadow: 0px 1px 2px rgba(60, 64, 67, 0.3), 0px 1px 3px 1px rgba(60, 64, 67, 0.15);\n",
              "      fill: #174EA6;\n",
              "    }\n",
              "\n",
              "    [theme=dark] .colab-df-convert {\n",
              "      background-color: #3B4455;\n",
              "      fill: #D2E3FC;\n",
              "    }\n",
              "\n",
              "    [theme=dark] .colab-df-convert:hover {\n",
              "      background-color: #434B5C;\n",
              "      box-shadow: 0px 1px 3px 1px rgba(0, 0, 0, 0.15);\n",
              "      filter: drop-shadow(0px 1px 2px rgba(0, 0, 0, 0.3));\n",
              "      fill: #FFFFFF;\n",
              "    }\n",
              "  </style>\n",
              "\n",
              "      <script>\n",
              "        const buttonEl =\n",
              "          document.querySelector('#df-b4321e86-46cc-4632-b9d7-bd18fb294267 button.colab-df-convert');\n",
              "        buttonEl.style.display =\n",
              "          google.colab.kernel.accessAllowed ? 'block' : 'none';\n",
              "\n",
              "        async function convertToInteractive(key) {\n",
              "          const element = document.querySelector('#df-b4321e86-46cc-4632-b9d7-bd18fb294267');\n",
              "          const dataTable =\n",
              "            await google.colab.kernel.invokeFunction('convertToInteractive',\n",
              "                                                     [key], {});\n",
              "          if (!dataTable) return;\n",
              "\n",
              "          const docLinkHtml = 'Like what you see? Visit the ' +\n",
              "            '<a target=\"_blank\" href=https://colab.research.google.com/notebooks/data_table.ipynb>data table notebook</a>'\n",
              "            + ' to learn more about interactive tables.';\n",
              "          element.innerHTML = '';\n",
              "          dataTable['output_type'] = 'display_data';\n",
              "          await google.colab.output.renderOutput(dataTable, element);\n",
              "          const docLink = document.createElement('div');\n",
              "          docLink.innerHTML = docLinkHtml;\n",
              "          element.appendChild(docLink);\n",
              "        }\n",
              "      </script>\n",
              "    </div>\n",
              "  </div>\n",
              "  "
            ]
          },
          "metadata": {},
          "execution_count": 33
        }
      ],
      "source": [
        "dados_normal = pd.json_normalize(\n",
        "  data=dados.normal\n",
        ")\n",
        "dados_normal"
      ]
    },
    {
      "cell_type": "code",
      "execution_count": null,
      "metadata": {
        "id": "Tq_44heHevgW"
      },
      "outputs": [],
      "source": [
        "dados_normal['listings'].iloc[0]"
      ]
    },
    {
      "cell_type": "code",
      "execution_count": 35,
      "metadata": {
        "id": "NyQdnK6tevgW",
        "colab": {
          "base_uri": "https://localhost:8080/"
        },
        "outputId": "94ea0b7f-3e3b-4180-cec5-8a6fc16f84a8"
      },
      "outputs": [
        {
          "output_type": "execute_result",
          "data": {
            "text/plain": [
              "list"
            ]
          },
          "metadata": {},
          "execution_count": 35
        }
      ],
      "source": [
        "type(dados_normal['listings'].iloc[0])"
      ]
    },
    {
      "cell_type": "code",
      "execution_count": 36,
      "metadata": {
        "id": "Sz6n0-4gevgW",
        "scrolled": true,
        "colab": {
          "base_uri": "https://localhost:8080/"
        },
        "outputId": "f13f9879-04ef-48c5-c927-2061af5bed92"
      },
      "outputs": [
        {
          "output_type": "execute_result",
          "data": {
            "text/plain": [
              "50"
            ]
          },
          "metadata": {},
          "execution_count": 36
        }
      ],
      "source": [
        "len(dados_normal['listings'].iloc[0])"
      ]
    },
    {
      "cell_type": "code",
      "execution_count": null,
      "metadata": {
        "id": "nyYi0xgEevgW"
      },
      "outputs": [],
      "source": [
        "dados_normal_listings = pd.json_normalize(data=dados_normal['listings'].iloc[0], sep='_', max_level=2)\n",
        "dados_normal_listings"
      ]
    },
    {
      "cell_type": "code",
      "execution_count": null,
      "metadata": {
        "id": "DJqqVu0YevgX"
      },
      "outputs": [],
      "source": [
        "dados_normal_listings = pd.json_normalize(\n",
        "    data=dados.normal,\n",
        "    sep='_',\n",
        "    record_path=['listings']\n",
        ")\n",
        "dados_normal_listings"
      ]
    },
    {
      "cell_type": "code",
      "execution_count": null,
      "metadata": {
        "id": "x4ZlYa3vevgX",
        "scrolled": true
      },
      "outputs": [],
      "source": [
        "dados_highlights_listings = pd.json_normalize(\n",
        "    data=dados.highlights,\n",
        "    sep='_',\n",
        "    record_path=['listings']\n",
        ")\n",
        "dados_highlights_listings"
      ]
    },
    {
      "cell_type": "code",
      "execution_count": null,
      "metadata": {
        "id": "arGcoQHuevgX",
        "scrolled": true
      },
      "outputs": [],
      "source": [
        ""
      ]
    },
    {
      "cell_type": "markdown",
      "metadata": {
        "id": "cpaDGnecevgX"
      },
      "source": [
        "## Trabalhando com dados textuais"
      ]
    },
    {
      "cell_type": "markdown",
      "metadata": {
        "id": "CMgPdhFNevgX"
      },
      "source": [
        "### Transformando *strings* em listas do Python"
      ]
    },
    {
      "cell_type": "code",
      "execution_count": null,
      "metadata": {
        "id": "vJmnnHZ_evgY",
        "scrolled": true
      },
      "outputs": [],
      "source": [
        "dados_normal_listings.head(2)"
      ]
    },
    {
      "cell_type": "code",
      "execution_count": 44,
      "metadata": {
        "id": "karvMBcBifJf",
        "colab": {
          "base_uri": "https://localhost:8080/",
          "height": 53
        },
        "outputId": "97628c0b-6877-41f7-93ff-21fb2c179292"
      },
      "outputs": [
        {
          "output_type": "execute_result",
          "data": {
            "text/plain": [
              "\"['Área de Serviço', 'Terraço', 'Churrasqueira', 'Quarto/WC Empregada', 'Sauna', 'Varanda', 'Gás Encanado', 'Closet', 'Piscina', 'Mobiliado', 'Armários Planejados', 'Acessibilidade']\""
            ],
            "application/vnd.google.colaboratory.intrinsic+json": {
              "type": "string"
            }
          },
          "metadata": {},
          "execution_count": 44
        }
      ],
      "source": [
        "lista_str = dados_normal_listings.loc[0, 'imovel_caracteristicas_propriedade']\n",
        "lista_str"
      ]
    },
    {
      "cell_type": "code",
      "execution_count": 45,
      "metadata": {
        "id": "Cw5aR9T4ifJg",
        "colab": {
          "base_uri": "https://localhost:8080/"
        },
        "outputId": "b0bd00b9-d3db-4782-9c4b-5ae096441939"
      },
      "outputs": [
        {
          "output_type": "execute_result",
          "data": {
            "text/plain": [
              "str"
            ]
          },
          "metadata": {},
          "execution_count": 45
        }
      ],
      "source": [
        "type(lista_str)"
      ]
    },
    {
      "cell_type": "code",
      "source": [
        "lista_str[0]"
      ],
      "metadata": {
        "colab": {
          "base_uri": "https://localhost:8080/",
          "height": 36
        },
        "id": "RuHVeRgZspEi",
        "outputId": "5e3daf94-d005-418a-c196-36a06addaa92"
      },
      "execution_count": 46,
      "outputs": [
        {
          "output_type": "execute_result",
          "data": {
            "text/plain": [
              "'['"
            ],
            "application/vnd.google.colaboratory.intrinsic+json": {
              "type": "string"
            }
          },
          "metadata": {},
          "execution_count": 46
        }
      ]
    },
    {
      "cell_type": "markdown",
      "metadata": {
        "id": "cYPl0qylifJj"
      },
      "source": [
        "#### Métodos de *strings*\n",
        "\n",
        "[Documentação](https://docs.python.org/3.6/library/stdtypes.html#string-methods)"
      ]
    },
    {
      "cell_type": "code",
      "execution_count": 47,
      "metadata": {
        "id": "IYEo2u_bifJl",
        "colab": {
          "base_uri": "https://localhost:8080/",
          "height": 53
        },
        "outputId": "bcc3916c-b86d-4af1-ca72-4d421bf71042"
      },
      "outputs": [
        {
          "output_type": "execute_result",
          "data": {
            "text/plain": [
              "\"'Área de Serviço', 'Terraço', 'Churrasqueira', 'Quarto/WC Empregada', 'Sauna', 'Varanda', 'Gás Encanado', 'Closet', 'Piscina', 'Mobiliado', 'Armários Planejados', 'Acessibilidade'\""
            ],
            "application/vnd.google.colaboratory.intrinsic+json": {
              "type": "string"
            }
          },
          "metadata": {},
          "execution_count": 47
        }
      ],
      "source": [
        "lista_str[1:-1]"
      ]
    },
    {
      "cell_type": "code",
      "execution_count": 48,
      "metadata": {
        "id": "QEy7_TWJevgZ",
        "colab": {
          "base_uri": "https://localhost:8080/",
          "height": 53
        },
        "outputId": "672490f0-149d-470f-df08-959bf8f1b76a"
      },
      "outputs": [
        {
          "output_type": "execute_result",
          "data": {
            "text/plain": [
              "\"'Área de Serviço', 'Terraço', 'Churrasqueira', 'Quarto/WC Empregada', 'Sauna', 'Varanda', 'Gás Encanado', 'Closet', 'Piscina', 'Mobiliado', 'Armários Planejados', 'Acessibilidade'\""
            ],
            "application/vnd.google.colaboratory.intrinsic+json": {
              "type": "string"
            }
          },
          "metadata": {},
          "execution_count": 48
        }
      ],
      "source": [
        "lista_str.strip(\"[]\")"
      ]
    },
    {
      "cell_type": "code",
      "execution_count": 49,
      "metadata": {
        "id": "lFO8yF2QifJt",
        "colab": {
          "base_uri": "https://localhost:8080/",
          "height": 53
        },
        "outputId": "d188c0a9-1fbc-497c-850f-e3ca6dd5ed71"
      },
      "outputs": [
        {
          "output_type": "execute_result",
          "data": {
            "text/plain": [
              "'Área de Serviço, Terraço, Churrasqueira, Quarto/WC Empregada, Sauna, Varanda, Gás Encanado, Closet, Piscina, Mobiliado, Armários Planejados, Acessibilidade'"
            ],
            "application/vnd.google.colaboratory.intrinsic+json": {
              "type": "string"
            }
          },
          "metadata": {},
          "execution_count": 49
        }
      ],
      "source": [
        "lista_str[1:-1].replace(\"'\", \"\")"
      ]
    },
    {
      "cell_type": "code",
      "execution_count": 51,
      "metadata": {
        "id": "-b5SugvuifJv"
      },
      "outputs": [],
      "source": [
        "lista = lista_str[1:-1].replace(\"'\", \"\").split(\", \")"
      ]
    },
    {
      "cell_type": "code",
      "execution_count": 52,
      "metadata": {
        "id": "OagOgk64ifJx",
        "colab": {
          "base_uri": "https://localhost:8080/"
        },
        "outputId": "492c2664-984b-4615-b15e-426a7b841d28"
      },
      "outputs": [
        {
          "output_type": "execute_result",
          "data": {
            "text/plain": [
              "list"
            ]
          },
          "metadata": {},
          "execution_count": 52
        }
      ],
      "source": [
        "type(lista)"
      ]
    },
    {
      "cell_type": "code",
      "execution_count": 53,
      "metadata": {
        "id": "Ek6sMqhsifJz",
        "colab": {
          "base_uri": "https://localhost:8080/"
        },
        "outputId": "b8d55a6d-fa99-459b-b355-0d045a8977da"
      },
      "outputs": [
        {
          "output_type": "execute_result",
          "data": {
            "text/plain": [
              "0     ['Área de Serviço', 'Terraço', 'Churrasqueira'...\n",
              "1                                             ['Sauna']\n",
              "2     ['Acessibilidade', 'Área de Serviço', 'Sauna',...\n",
              "3     ['Vista Panorâmica', 'Piscina', 'Sauna', 'Clos...\n",
              "4                               ['Armários Planejados']\n",
              "5     ['Mobiliado', 'Varanda', 'Closet', 'Churrasque...\n",
              "6     ['Churrasqueira', 'Gás Encanado', 'Cozinha Ame...\n",
              "7     ['Quarto/WC Empregada', 'Gás Encanado', 'Sauna...\n",
              "8     ['Acessibilidade', 'Mobiliado', 'Churrasqueira...\n",
              "9     ['Área de Serviço', 'Terraço', 'Ambientes Inte...\n",
              "10    ['Closet', 'Ambientes Integrados', 'Área de Se...\n",
              "11                                                   []\n",
              "12    ['Piscina', 'Quarto/WC Empregada', 'Gás Encana...\n",
              "13    ['Sauna', 'Terraço', 'Closet', 'Gás Encanado',...\n",
              "14                                                   []\n",
              "15    ['Quarto/WC Empregada', 'Varanda', 'Piscina', ...\n",
              "16    ['Vista Panorâmica', 'Sauna', 'Área de Serviço...\n",
              "17    ['Quarto/WC Empregada', 'Churrasqueira', 'Sauna']\n",
              "18    ['Sauna', 'Ambientes Integrados', 'Armários Pl...\n",
              "19    ['Mobiliado', 'Acessibilidade', 'Área de Servi...\n",
              "20    ['Sauna', 'Gás Encanado', 'Terraço', 'Ambiente...\n",
              "21                                                   []\n",
              "22    ['Terraço', 'Armários Planejados', 'Ambientes ...\n",
              "23    ['Área de Serviço', 'Quarto/WC Empregada', 'Cl...\n",
              "24    ['Cozinha Americana', 'Gás Encanado', 'Mobilia...\n",
              "25    ['Área de Serviço', 'Ambientes Integrados', 'V...\n",
              "26    ['Gás Encanado', 'Cozinha Americana', 'Vista P...\n",
              "27    ['Vista Panorâmica', 'Quarto/WC Empregada', 'S...\n",
              "28    ['Armários Planejados', 'Piscina', 'Churrasque...\n",
              "29                                                   []\n",
              "30    ['Mobiliado', 'Sauna', 'Cozinha Americana', 'Á...\n",
              "31    ['Cozinha Americana', 'Varanda', 'Vista Panorâ...\n",
              "32    ['Terraço', 'Vista Panorâmica', 'Piscina', 'Ac...\n",
              "33    ['Cozinha Americana', 'Quarto/WC Empregada', '...\n",
              "34    ['Área de Serviço', 'Terraço', 'Piscina', 'Clo...\n",
              "35    ['Acessibilidade', 'Churrasqueira', 'Sauna', '...\n",
              "36    ['Sauna', 'Vista Panorâmica', 'Terraço', 'Mobi...\n",
              "37    ['Gás Encanado', 'Mobiliado', 'Cozinha America...\n",
              "38    ['Área de Serviço', 'Gás Encanado', 'Cozinha A...\n",
              "39    ['Acessibilidade', 'Cozinha Americana', 'Varan...\n",
              "40    ['Sauna', 'Piscina', 'Closet', 'Varanda', 'Ace...\n",
              "41                    ['Mobiliado', 'Vista Panorâmica']\n",
              "42                                                   []\n",
              "43    ['Cozinha Americana', 'Vista Panorâmica', 'Gás...\n",
              "44    ['Mobiliado', 'Varanda', 'Cozinha Americana', ...\n",
              "45    ['Ambientes Integrados', 'Sauna', 'Piscina', '...\n",
              "46    ['Acessibilidade', 'Gás Encanado', 'Área de Se...\n",
              "47    ['Acessibilidade', 'Quarto/WC Empregada', 'Arm...\n",
              "48    ['Cozinha Americana', 'Mobiliado', 'Sauna', 'P...\n",
              "49    ['Varanda', 'Closet', 'Armários Planejados', '...\n",
              "Name: imovel_caracteristicas_propriedade, dtype: object"
            ]
          },
          "metadata": {},
          "execution_count": 53
        }
      ],
      "source": [
        "Texto = dados_normal_listings.loc[:, 'imovel_caracteristicas_propriedade']\n",
        "Texto"
      ]
    },
    {
      "cell_type": "code",
      "source": [
        "data_string = \"#-> Churrasqueira | Sauna | Mobiliado | Piscina <-#\""
      ],
      "metadata": {
        "id": "9SePUuaCt9R7"
      },
      "execution_count": 54,
      "outputs": []
    },
    {
      "cell_type": "code",
      "source": [
        "\n",
        "data_string[4:-4].split(' | ')"
      ],
      "metadata": {
        "colab": {
          "base_uri": "https://localhost:8080/"
        },
        "id": "INRrKW-At-45",
        "outputId": "d6587bae-dfc1-40b3-a764-fed8336799d5"
      },
      "execution_count": 66,
      "outputs": [
        {
          "output_type": "execute_result",
          "data": {
            "text/plain": [
              "['Churrasqueira', 'Sauna', 'Mobiliado', 'Piscina']"
            ]
          },
          "metadata": {},
          "execution_count": 66
        }
      ]
    },
    {
      "cell_type": "code",
      "source": [
        "\n",
        "data_string.strip(\"#->< \").split(' | ')"
      ],
      "metadata": {
        "colab": {
          "base_uri": "https://localhost:8080/"
        },
        "id": "X1zmQDVFucsB",
        "outputId": "1a3ba064-a61d-4dd5-81f8-263359a027e8"
      },
      "execution_count": 57,
      "outputs": [
        {
          "output_type": "execute_result",
          "data": {
            "text/plain": [
              "['Churrasqueira', 'Sauna', 'Mobiliado', 'Piscina']"
            ]
          },
          "metadata": {},
          "execution_count": 57
        }
      ]
    },
    {
      "cell_type": "markdown",
      "metadata": {
        "id": "8Ak250BYevga"
      },
      "source": [
        "#### `str`\n",
        "\n",
        "[Documentação](https://pandas.pydata.org/pandas-docs/stable/reference/api/pandas.Series.str.html)"
      ]
    },
    {
      "cell_type": "code",
      "execution_count": 67,
      "metadata": {
        "id": "6vv8s40ievga",
        "colab": {
          "base_uri": "https://localhost:8080/"
        },
        "outputId": "1a56cff8-b2ba-42ee-e927-7fd23c006bfb"
      },
      "outputs": [
        {
          "output_type": "execute_result",
          "data": {
            "text/plain": [
              "<pandas.core.strings.accessor.StringMethods at 0x7f4a98953950>"
            ]
          },
          "metadata": {},
          "execution_count": 67
        }
      ],
      "source": [
        "Texto.str"
      ]
    },
    {
      "cell_type": "code",
      "execution_count": 68,
      "metadata": {
        "id": "GKIZLU9_ifJ3",
        "colab": {
          "base_uri": "https://localhost:8080/"
        },
        "outputId": "45ff6df6-4e30-47d7-8206-e2b1e51105c6"
      },
      "outputs": [
        {
          "output_type": "execute_result",
          "data": {
            "text/plain": [
              "0     'Área de Serviço', 'Terraço', 'Churrasqueira',...\n",
              "1                                               'Sauna'\n",
              "2     'Acessibilidade', 'Área de Serviço', 'Sauna', ...\n",
              "3     'Vista Panorâmica', 'Piscina', 'Sauna', 'Close...\n",
              "4                                 'Armários Planejados'\n",
              "5     'Mobiliado', 'Varanda', 'Closet', 'Churrasquei...\n",
              "6     'Churrasqueira', 'Gás Encanado', 'Cozinha Amer...\n",
              "7     'Quarto/WC Empregada', 'Gás Encanado', 'Sauna'...\n",
              "8     'Acessibilidade', 'Mobiliado', 'Churrasqueira'...\n",
              "9     'Área de Serviço', 'Terraço', 'Ambientes Integ...\n",
              "10    'Closet', 'Ambientes Integrados', 'Área de Ser...\n",
              "11                                                     \n",
              "12    'Piscina', 'Quarto/WC Empregada', 'Gás Encanad...\n",
              "13    'Sauna', 'Terraço', 'Closet', 'Gás Encanado', ...\n",
              "14                                                     \n",
              "15    'Quarto/WC Empregada', 'Varanda', 'Piscina', '...\n",
              "16    'Vista Panorâmica', 'Sauna', 'Área de Serviço'...\n",
              "17      'Quarto/WC Empregada', 'Churrasqueira', 'Sauna'\n",
              "18    'Sauna', 'Ambientes Integrados', 'Armários Pla...\n",
              "19    'Mobiliado', 'Acessibilidade', 'Área de Serviç...\n",
              "20    'Sauna', 'Gás Encanado', 'Terraço', 'Ambientes...\n",
              "21                                                     \n",
              "22    'Terraço', 'Armários Planejados', 'Ambientes I...\n",
              "23    'Área de Serviço', 'Quarto/WC Empregada', 'Clo...\n",
              "24    'Cozinha Americana', 'Gás Encanado', 'Mobiliad...\n",
              "25    'Área de Serviço', 'Ambientes Integrados', 'Vi...\n",
              "26    'Gás Encanado', 'Cozinha Americana', 'Vista Pa...\n",
              "27    'Vista Panorâmica', 'Quarto/WC Empregada', 'Sa...\n",
              "28    'Armários Planejados', 'Piscina', 'Churrasquei...\n",
              "29                                                     \n",
              "30    'Mobiliado', 'Sauna', 'Cozinha Americana', 'Ár...\n",
              "31    'Cozinha Americana', 'Varanda', 'Vista Panorâm...\n",
              "32    'Terraço', 'Vista Panorâmica', 'Piscina', 'Ace...\n",
              "33    'Cozinha Americana', 'Quarto/WC Empregada', 'Á...\n",
              "34    'Área de Serviço', 'Terraço', 'Piscina', 'Clos...\n",
              "35    'Acessibilidade', 'Churrasqueira', 'Sauna', 'C...\n",
              "36    'Sauna', 'Vista Panorâmica', 'Terraço', 'Mobil...\n",
              "37     'Gás Encanado', 'Mobiliado', 'Cozinha Americana'\n",
              "38    'Área de Serviço', 'Gás Encanado', 'Cozinha Am...\n",
              "39    'Acessibilidade', 'Cozinha Americana', 'Varand...\n",
              "40    'Sauna', 'Piscina', 'Closet', 'Varanda', 'Aces...\n",
              "41                      'Mobiliado', 'Vista Panorâmica'\n",
              "42                                                     \n",
              "43    'Cozinha Americana', 'Vista Panorâmica', 'Gás ...\n",
              "44    'Mobiliado', 'Varanda', 'Cozinha Americana', '...\n",
              "45    'Ambientes Integrados', 'Sauna', 'Piscina', 'V...\n",
              "46    'Acessibilidade', 'Gás Encanado', 'Área de Ser...\n",
              "47    'Acessibilidade', 'Quarto/WC Empregada', 'Armá...\n",
              "48    'Cozinha Americana', 'Mobiliado', 'Sauna', 'Pi...\n",
              "49    'Varanda', 'Closet', 'Armários Planejados', 'P...\n",
              "Name: imovel_caracteristicas_propriedade, dtype: object"
            ]
          },
          "metadata": {},
          "execution_count": 68
        }
      ],
      "source": [
        "Texto.str[1:-1]"
      ]
    },
    {
      "cell_type": "code",
      "execution_count": 69,
      "metadata": {
        "id": "j5ZntTzAifJ5",
        "colab": {
          "base_uri": "https://localhost:8080/"
        },
        "outputId": "660ee155-ca44-42b5-fad9-c49e10f592dd"
      },
      "outputs": [
        {
          "output_type": "execute_result",
          "data": {
            "text/plain": [
              "0     'Área de Serviço', 'Terraço', 'Churrasqueira',...\n",
              "1                                               'Sauna'\n",
              "2     'Acessibilidade', 'Área de Serviço', 'Sauna', ...\n",
              "3     'Vista Panorâmica', 'Piscina', 'Sauna', 'Close...\n",
              "4                                 'Armários Planejados'\n",
              "5     'Mobiliado', 'Varanda', 'Closet', 'Churrasquei...\n",
              "6     'Churrasqueira', 'Gás Encanado', 'Cozinha Amer...\n",
              "7     'Quarto/WC Empregada', 'Gás Encanado', 'Sauna'...\n",
              "8     'Acessibilidade', 'Mobiliado', 'Churrasqueira'...\n",
              "9     'Área de Serviço', 'Terraço', 'Ambientes Integ...\n",
              "10    'Closet', 'Ambientes Integrados', 'Área de Ser...\n",
              "11                                                     \n",
              "12    'Piscina', 'Quarto/WC Empregada', 'Gás Encanad...\n",
              "13    'Sauna', 'Terraço', 'Closet', 'Gás Encanado', ...\n",
              "14                                                     \n",
              "15    'Quarto/WC Empregada', 'Varanda', 'Piscina', '...\n",
              "16    'Vista Panorâmica', 'Sauna', 'Área de Serviço'...\n",
              "17      'Quarto/WC Empregada', 'Churrasqueira', 'Sauna'\n",
              "18    'Sauna', 'Ambientes Integrados', 'Armários Pla...\n",
              "19    'Mobiliado', 'Acessibilidade', 'Área de Serviç...\n",
              "20    'Sauna', 'Gás Encanado', 'Terraço', 'Ambientes...\n",
              "21                                                     \n",
              "22    'Terraço', 'Armários Planejados', 'Ambientes I...\n",
              "23    'Área de Serviço', 'Quarto/WC Empregada', 'Clo...\n",
              "24    'Cozinha Americana', 'Gás Encanado', 'Mobiliad...\n",
              "25    'Área de Serviço', 'Ambientes Integrados', 'Vi...\n",
              "26    'Gás Encanado', 'Cozinha Americana', 'Vista Pa...\n",
              "27    'Vista Panorâmica', 'Quarto/WC Empregada', 'Sa...\n",
              "28    'Armários Planejados', 'Piscina', 'Churrasquei...\n",
              "29                                                     \n",
              "30    'Mobiliado', 'Sauna', 'Cozinha Americana', 'Ár...\n",
              "31    'Cozinha Americana', 'Varanda', 'Vista Panorâm...\n",
              "32    'Terraço', 'Vista Panorâmica', 'Piscina', 'Ace...\n",
              "33    'Cozinha Americana', 'Quarto/WC Empregada', 'Á...\n",
              "34    'Área de Serviço', 'Terraço', 'Piscina', 'Clos...\n",
              "35    'Acessibilidade', 'Churrasqueira', 'Sauna', 'C...\n",
              "36    'Sauna', 'Vista Panorâmica', 'Terraço', 'Mobil...\n",
              "37     'Gás Encanado', 'Mobiliado', 'Cozinha Americana'\n",
              "38    'Área de Serviço', 'Gás Encanado', 'Cozinha Am...\n",
              "39    'Acessibilidade', 'Cozinha Americana', 'Varand...\n",
              "40    'Sauna', 'Piscina', 'Closet', 'Varanda', 'Aces...\n",
              "41                      'Mobiliado', 'Vista Panorâmica'\n",
              "42                                                     \n",
              "43    'Cozinha Americana', 'Vista Panorâmica', 'Gás ...\n",
              "44    'Mobiliado', 'Varanda', 'Cozinha Americana', '...\n",
              "45    'Ambientes Integrados', 'Sauna', 'Piscina', 'V...\n",
              "46    'Acessibilidade', 'Gás Encanado', 'Área de Ser...\n",
              "47    'Acessibilidade', 'Quarto/WC Empregada', 'Armá...\n",
              "48    'Cozinha Americana', 'Mobiliado', 'Sauna', 'Pi...\n",
              "49    'Varanda', 'Closet', 'Armários Planejados', 'P...\n",
              "Name: imovel_caracteristicas_propriedade, dtype: object"
            ]
          },
          "metadata": {},
          "execution_count": 69
        }
      ],
      "source": [
        "Texto.str[1:-1].replace(\"'\",\"\")"
      ]
    },
    {
      "cell_type": "code",
      "execution_count": 70,
      "metadata": {
        "id": "TJpsQdSPifJ9",
        "colab": {
          "base_uri": "https://localhost:8080/"
        },
        "outputId": "b16d495d-d9db-4e78-b52e-d51d89109f41"
      },
      "outputs": [
        {
          "output_type": "execute_result",
          "data": {
            "text/plain": [
              "0     Área de Serviço, Terraço, Churrasqueira, Quart...\n",
              "1                                                 Sauna\n",
              "2     Acessibilidade, Área de Serviço, Sauna, Ambien...\n",
              "3     Vista Panorâmica, Piscina, Sauna, Closet, Mobi...\n",
              "4                                   Armários Planejados\n",
              "5     Mobiliado, Varanda, Closet, Churrasqueira, Amb...\n",
              "6     Churrasqueira, Gás Encanado, Cozinha Americana...\n",
              "7     Quarto/WC Empregada, Gás Encanado, Sauna, Vara...\n",
              "8     Acessibilidade, Mobiliado, Churrasqueira, Pisc...\n",
              "9     Área de Serviço, Terraço, Ambientes Integrados...\n",
              "10    Closet, Ambientes Integrados, Área de Serviço,...\n",
              "11                                                     \n",
              "12    Piscina, Quarto/WC Empregada, Gás Encanado, Mo...\n",
              "13    Sauna, Terraço, Closet, Gás Encanado, Vista Pa...\n",
              "14                                                     \n",
              "15    Quarto/WC Empregada, Varanda, Piscina, Sauna, ...\n",
              "16    Vista Panorâmica, Sauna, Área de Serviço, Pisc...\n",
              "17            Quarto/WC Empregada, Churrasqueira, Sauna\n",
              "18    Sauna, Ambientes Integrados, Armários Planejad...\n",
              "19    Mobiliado, Acessibilidade, Área de Serviço, Vi...\n",
              "20    Sauna, Gás Encanado, Terraço, Ambientes Integr...\n",
              "21                                                     \n",
              "22    Terraço, Armários Planejados, Ambientes Integr...\n",
              "23    Área de Serviço, Quarto/WC Empregada, Closet, ...\n",
              "24    Cozinha Americana, Gás Encanado, Mobiliado, Ár...\n",
              "25    Área de Serviço, Ambientes Integrados, Vista P...\n",
              "26    Gás Encanado, Cozinha Americana, Vista Panorâm...\n",
              "27    Vista Panorâmica, Quarto/WC Empregada, Sauna, ...\n",
              "28    Armários Planejados, Piscina, Churrasqueira, A...\n",
              "29                                                     \n",
              "30    Mobiliado, Sauna, Cozinha Americana, Área de S...\n",
              "31    Cozinha Americana, Varanda, Vista Panorâmica, ...\n",
              "32    Terraço, Vista Panorâmica, Piscina, Acessibili...\n",
              "33    Cozinha Americana, Quarto/WC Empregada, Área d...\n",
              "34    Área de Serviço, Terraço, Piscina, Closet, Gás...\n",
              "35    Acessibilidade, Churrasqueira, Sauna, Closet, ...\n",
              "36    Sauna, Vista Panorâmica, Terraço, Mobiliado, P...\n",
              "37           Gás Encanado, Mobiliado, Cozinha Americana\n",
              "38    Área de Serviço, Gás Encanado, Cozinha America...\n",
              "39    Acessibilidade, Cozinha Americana, Varanda, Gá...\n",
              "40    Sauna, Piscina, Closet, Varanda, Acessibilidad...\n",
              "41                          Mobiliado, Vista Panorâmica\n",
              "42                                                     \n",
              "43    Cozinha Americana, Vista Panorâmica, Gás Encan...\n",
              "44    Mobiliado, Varanda, Cozinha Americana, Armário...\n",
              "45    Ambientes Integrados, Sauna, Piscina, Vista Pa...\n",
              "46    Acessibilidade, Gás Encanado, Área de Serviço,...\n",
              "47    Acessibilidade, Quarto/WC Empregada, Armários ...\n",
              "48    Cozinha Americana, Mobiliado, Sauna, Piscina, ...\n",
              "49    Varanda, Closet, Armários Planejados, Piscina,...\n",
              "Name: imovel_caracteristicas_propriedade, dtype: object"
            ]
          },
          "metadata": {},
          "execution_count": 70
        }
      ],
      "source": [
        "Texto.str[1:-1].str.replace(\"'\",\"\")"
      ]
    },
    {
      "cell_type": "code",
      "execution_count": 72,
      "metadata": {
        "id": "-diMtJl7ifKA",
        "colab": {
          "base_uri": "https://localhost:8080/"
        },
        "outputId": "5c4f36ba-6621-4566-a238-bb49f29b1e71"
      },
      "outputs": [
        {
          "output_type": "execute_result",
          "data": {
            "text/plain": [
              "0     [Área de Serviço, Terraço, Churrasqueira, Quar...\n",
              "1                                               [Sauna]\n",
              "2     [Acessibilidade, Área de Serviço, Sauna, Ambie...\n",
              "3     [Vista Panorâmica, Piscina, Sauna, Closet, Mob...\n",
              "4                                 [Armários Planejados]\n",
              "5     [Mobiliado, Varanda, Closet, Churrasqueira, Am...\n",
              "6     [Churrasqueira, Gás Encanado, Cozinha American...\n",
              "7     [Quarto/WC Empregada, Gás Encanado, Sauna, Var...\n",
              "8     [Acessibilidade, Mobiliado, Churrasqueira, Pis...\n",
              "9     [Área de Serviço, Terraço, Ambientes Integrado...\n",
              "10    [Closet, Ambientes Integrados, Área de Serviço...\n",
              "11                                                   []\n",
              "12    [Piscina, Quarto/WC Empregada, Gás Encanado, M...\n",
              "13    [Sauna, Terraço, Closet, Gás Encanado, Vista P...\n",
              "14                                                   []\n",
              "15    [Quarto/WC Empregada, Varanda, Piscina, Sauna,...\n",
              "16    [Vista Panorâmica, Sauna, Área de Serviço, Pis...\n",
              "17          [Quarto/WC Empregada, Churrasqueira, Sauna]\n",
              "18    [Sauna, Ambientes Integrados, Armários Planeja...\n",
              "19    [Mobiliado, Acessibilidade, Área de Serviço, V...\n",
              "20    [Sauna, Gás Encanado, Terraço, Ambientes Integ...\n",
              "21                                                   []\n",
              "22    [Terraço, Armários Planejados, Ambientes Integ...\n",
              "23    [Área de Serviço, Quarto/WC Empregada, Closet,...\n",
              "24    [Cozinha Americana, Gás Encanado, Mobiliado, Á...\n",
              "25    [Área de Serviço, Ambientes Integrados, Vista ...\n",
              "26    [Gás Encanado, Cozinha Americana, Vista Panorâ...\n",
              "27    [Vista Panorâmica, Quarto/WC Empregada, Sauna,...\n",
              "28    [Armários Planejados, Piscina, Churrasqueira, ...\n",
              "29                                                   []\n",
              "30    [Mobiliado, Sauna, Cozinha Americana, Área de ...\n",
              "31    [Cozinha Americana, Varanda, Vista Panorâmica,...\n",
              "32    [Terraço, Vista Panorâmica, Piscina, Acessibil...\n",
              "33    [Cozinha Americana, Quarto/WC Empregada, Área ...\n",
              "34    [Área de Serviço, Terraço, Piscina, Closet, Gá...\n",
              "35    [Acessibilidade, Churrasqueira, Sauna, Closet,...\n",
              "36    [Sauna, Vista Panorâmica, Terraço, Mobiliado, ...\n",
              "37         [Gás Encanado, Mobiliado, Cozinha Americana]\n",
              "38    [Área de Serviço, Gás Encanado, Cozinha Americ...\n",
              "39    [Acessibilidade, Cozinha Americana, Varanda, G...\n",
              "40    [Sauna, Piscina, Closet, Varanda, Acessibilida...\n",
              "41                        [Mobiliado, Vista Panorâmica]\n",
              "42                                                   []\n",
              "43    [Cozinha Americana, Vista Panorâmica, Gás Enca...\n",
              "44    [Mobiliado, Varanda, Cozinha Americana, Armári...\n",
              "45    [Ambientes Integrados, Sauna, Piscina, Vista P...\n",
              "46    [Acessibilidade, Gás Encanado, Área de Serviço...\n",
              "47    [Acessibilidade, Quarto/WC Empregada, Armários...\n",
              "48    [Cozinha Americana, Mobiliado, Sauna, Piscina,...\n",
              "49    [Varanda, Closet, Armários Planejados, Piscina...\n",
              "Name: imovel_caracteristicas_propriedade, dtype: object"
            ]
          },
          "metadata": {},
          "execution_count": 72
        }
      ],
      "source": [
        "Texto = Texto.str[1:-1].str.replace(\"'\",\"\").str.split(\", \")\n",
        "Texto"
      ]
    },
    {
      "cell_type": "code",
      "execution_count": 73,
      "metadata": {
        "id": "yM8GML9yifKC",
        "colab": {
          "base_uri": "https://localhost:8080/"
        },
        "outputId": "12c6c69e-dd64-4584-9033-b422feb4ba9d"
      },
      "outputs": [
        {
          "output_type": "execute_result",
          "data": {
            "text/plain": [
              "list"
            ]
          },
          "metadata": {},
          "execution_count": 73
        }
      ],
      "source": [
        "type(Texto[0])"
      ]
    },
    {
      "cell_type": "code",
      "execution_count": null,
      "metadata": {
        "id": "-yHC8F6fifKF"
      },
      "outputs": [],
      "source": [
        ""
      ]
    },
    {
      "cell_type": "code",
      "execution_count": null,
      "metadata": {
        "id": "TOZJO0GRifKG"
      },
      "outputs": [],
      "source": [
        ""
      ]
    },
    {
      "cell_type": "markdown",
      "metadata": {
        "id": "udrVGc3_evgb"
      },
      "source": [
        "#### `filter`\n",
        "\n",
        "[Documentação](https://pandas.pydata.org/pandas-docs/stable/reference/api/pandas.DataFrame.filter.html)"
      ]
    },
    {
      "cell_type": "code",
      "execution_count": 78,
      "metadata": {
        "id": "7uNZ9jOCevgc"
      },
      "outputs": [],
      "source": [
        "columns= dados_normal_listings.filter(like='imovel_caracteristicas').columns\n",
        "\n",
        "for column in columns:\n",
        " dados_normal_listings[column] = dados_normal_listings[column].str[1:-1].str.replace(\"'\",\"\").str.split(\", \")\n",
        " dados_highlights_listings[column] = dados_highlights_listings[column].str[1:-1].str.replace(\"'\",\"\").str.split(\", \")"
      ]
    },
    {
      "cell_type": "code",
      "execution_count": 79,
      "metadata": {
        "id": "S1vRA6-pifKN",
        "scrolled": true,
        "colab": {
          "base_uri": "https://localhost:8080/",
          "height": 36
        },
        "outputId": "86a31b51-b46a-4c01-b8f0-7d4d1f98a308"
      },
      "outputs": [
        {
          "output_type": "execute_result",
          "data": {
            "text/plain": [
              "'Área de Serviço'"
            ],
            "application/vnd.google.colaboratory.intrinsic+json": {
              "type": "string"
            }
          },
          "metadata": {},
          "execution_count": 79
        }
      ],
      "source": [
        "dados_normal_listings.loc[0, 'imovel_caracteristicas_propriedade'][0]"
      ]
    },
    {
      "cell_type": "markdown",
      "metadata": {
        "id": "1NRyywesevgc"
      },
      "source": [
        "# COMBINANDO CONJUNTOS DE DADOS\n",
        "---"
      ]
    },
    {
      "cell_type": "code",
      "execution_count": 80,
      "metadata": {
        "id": "fVukYp7wevgc",
        "colab": {
          "base_uri": "https://localhost:8080/",
          "height": 312
        },
        "outputId": "04d780ea-23ff-419c-8921-0a033eab0e27"
      },
      "outputs": [
        {
          "output_type": "execute_result",
          "data": {
            "text/plain": [
              "  imovel_tipos_propriedade imovel_endereco_bairro  \\\n",
              "0                     Casa        Barra da Tijuca   \n",
              "1              Apartamento           Campo Grande   \n",
              "2                Cobertura        Barra da Tijuca   \n",
              "\n",
              "  imovel_endereco_localizacao_type imovel_endereco_localizacao_coordinates  \\\n",
              "0                            Point              [-43.3039086, -23.0139692]   \n",
              "1                            Point                                  [0, 0]   \n",
              "2                            Point              [-43.3037186, -22.9951304]   \n",
              "\n",
              "   imovel_vagasGaragem  imovel_area  \\\n",
              "0                    4          279   \n",
              "1                    1           60   \n",
              "2                    2          380   \n",
              "\n",
              "                  imovel_caracteristicas_propriedade  \\\n",
              "0  [Área de Serviço, Terraço, Churrasqueira, Quar...   \n",
              "1                                            [Sauna]   \n",
              "2  [Acessibilidade, Área de Serviço, Sauna, Ambie...   \n",
              "\n",
              "                   imovel_caracteristicas_condominio  \\\n",
              "0  [Churrasqueira, Salão de Jogos, Sauna, Estacio...   \n",
              "1  [Elevador, Playground, Salão de Festas, Sistem...   \n",
              "2  [Sauna, Playground, Quadra Poliesportiva, Salã...   \n",
              "\n",
              "                      imovel_caracteristicas_entorno anuncio_tipos_publicacao  \\\n",
              "0  [Próximo a Escola Particular, Próximo ao Metrô...                   Padrão   \n",
              "1  [Próximo ao Shopping, Próximo a Áreas de Lazer...                   Padrão   \n",
              "2                      [Próximo a Escola Particular]                  Premium   \n",
              "\n",
              "  anuncio_tipos_listagem  anuncio_valores_venda  anuncio_valores_aluguel  \\\n",
              "0             Lançamento              2400000.0                      0.0   \n",
              "1                  Usado               200000.0                      0.0   \n",
              "2                  Usado              4400000.0                      0.0   \n",
              "\n",
              "   anuncio_valores_condominio  anuncio_valores_iptu  \\\n",
              "0                       790.0                5700.0   \n",
              "1                         0.0                   0.0   \n",
              "2                      1200.0                 850.0   \n",
              "\n",
              "                                   anuncio_descricao  \n",
              "0  Amplo imóvel para venda com 3 quartos, sendo 1...  \n",
              "1  Amplo imóvel para venda com 2 quartos, sendo 0...  \n",
              "2  Amplo imóvel para venda com 5 quartos, sendo 4...  "
            ],
            "text/html": [
              "\n",
              "  <div id=\"df-4f5640fe-d791-4ac7-8fb0-8aad87dac151\">\n",
              "    <div class=\"colab-df-container\">\n",
              "      <div>\n",
              "<style scoped>\n",
              "    .dataframe tbody tr th:only-of-type {\n",
              "        vertical-align: middle;\n",
              "    }\n",
              "\n",
              "    .dataframe tbody tr th {\n",
              "        vertical-align: top;\n",
              "    }\n",
              "\n",
              "    .dataframe thead th {\n",
              "        text-align: right;\n",
              "    }\n",
              "</style>\n",
              "<table border=\"1\" class=\"dataframe\">\n",
              "  <thead>\n",
              "    <tr style=\"text-align: right;\">\n",
              "      <th></th>\n",
              "      <th>imovel_tipos_propriedade</th>\n",
              "      <th>imovel_endereco_bairro</th>\n",
              "      <th>imovel_endereco_localizacao_type</th>\n",
              "      <th>imovel_endereco_localizacao_coordinates</th>\n",
              "      <th>imovel_vagasGaragem</th>\n",
              "      <th>imovel_area</th>\n",
              "      <th>imovel_caracteristicas_propriedade</th>\n",
              "      <th>imovel_caracteristicas_condominio</th>\n",
              "      <th>imovel_caracteristicas_entorno</th>\n",
              "      <th>anuncio_tipos_publicacao</th>\n",
              "      <th>anuncio_tipos_listagem</th>\n",
              "      <th>anuncio_valores_venda</th>\n",
              "      <th>anuncio_valores_aluguel</th>\n",
              "      <th>anuncio_valores_condominio</th>\n",
              "      <th>anuncio_valores_iptu</th>\n",
              "      <th>anuncio_descricao</th>\n",
              "    </tr>\n",
              "  </thead>\n",
              "  <tbody>\n",
              "    <tr>\n",
              "      <th>0</th>\n",
              "      <td>Casa</td>\n",
              "      <td>Barra da Tijuca</td>\n",
              "      <td>Point</td>\n",
              "      <td>[-43.3039086, -23.0139692]</td>\n",
              "      <td>4</td>\n",
              "      <td>279</td>\n",
              "      <td>[Área de Serviço, Terraço, Churrasqueira, Quar...</td>\n",
              "      <td>[Churrasqueira, Salão de Jogos, Sauna, Estacio...</td>\n",
              "      <td>[Próximo a Escola Particular, Próximo ao Metrô...</td>\n",
              "      <td>Padrão</td>\n",
              "      <td>Lançamento</td>\n",
              "      <td>2400000.0</td>\n",
              "      <td>0.0</td>\n",
              "      <td>790.0</td>\n",
              "      <td>5700.0</td>\n",
              "      <td>Amplo imóvel para venda com 3 quartos, sendo 1...</td>\n",
              "    </tr>\n",
              "    <tr>\n",
              "      <th>1</th>\n",
              "      <td>Apartamento</td>\n",
              "      <td>Campo Grande</td>\n",
              "      <td>Point</td>\n",
              "      <td>[0, 0]</td>\n",
              "      <td>1</td>\n",
              "      <td>60</td>\n",
              "      <td>[Sauna]</td>\n",
              "      <td>[Elevador, Playground, Salão de Festas, Sistem...</td>\n",
              "      <td>[Próximo ao Shopping, Próximo a Áreas de Lazer...</td>\n",
              "      <td>Padrão</td>\n",
              "      <td>Usado</td>\n",
              "      <td>200000.0</td>\n",
              "      <td>0.0</td>\n",
              "      <td>0.0</td>\n",
              "      <td>0.0</td>\n",
              "      <td>Amplo imóvel para venda com 2 quartos, sendo 0...</td>\n",
              "    </tr>\n",
              "    <tr>\n",
              "      <th>2</th>\n",
              "      <td>Cobertura</td>\n",
              "      <td>Barra da Tijuca</td>\n",
              "      <td>Point</td>\n",
              "      <td>[-43.3037186, -22.9951304]</td>\n",
              "      <td>2</td>\n",
              "      <td>380</td>\n",
              "      <td>[Acessibilidade, Área de Serviço, Sauna, Ambie...</td>\n",
              "      <td>[Sauna, Playground, Quadra Poliesportiva, Salã...</td>\n",
              "      <td>[Próximo a Escola Particular]</td>\n",
              "      <td>Premium</td>\n",
              "      <td>Usado</td>\n",
              "      <td>4400000.0</td>\n",
              "      <td>0.0</td>\n",
              "      <td>1200.0</td>\n",
              "      <td>850.0</td>\n",
              "      <td>Amplo imóvel para venda com 5 quartos, sendo 4...</td>\n",
              "    </tr>\n",
              "  </tbody>\n",
              "</table>\n",
              "</div>\n",
              "      <button class=\"colab-df-convert\" onclick=\"convertToInteractive('df-4f5640fe-d791-4ac7-8fb0-8aad87dac151')\"\n",
              "              title=\"Convert this dataframe to an interactive table.\"\n",
              "              style=\"display:none;\">\n",
              "        \n",
              "  <svg xmlns=\"http://www.w3.org/2000/svg\" height=\"24px\"viewBox=\"0 0 24 24\"\n",
              "       width=\"24px\">\n",
              "    <path d=\"M0 0h24v24H0V0z\" fill=\"none\"/>\n",
              "    <path d=\"M18.56 5.44l.94 2.06.94-2.06 2.06-.94-2.06-.94-.94-2.06-.94 2.06-2.06.94zm-11 1L8.5 8.5l.94-2.06 2.06-.94-2.06-.94L8.5 2.5l-.94 2.06-2.06.94zm10 10l.94 2.06.94-2.06 2.06-.94-2.06-.94-.94-2.06-.94 2.06-2.06.94z\"/><path d=\"M17.41 7.96l-1.37-1.37c-.4-.4-.92-.59-1.43-.59-.52 0-1.04.2-1.43.59L10.3 9.45l-7.72 7.72c-.78.78-.78 2.05 0 2.83L4 21.41c.39.39.9.59 1.41.59.51 0 1.02-.2 1.41-.59l7.78-7.78 2.81-2.81c.8-.78.8-2.07 0-2.86zM5.41 20L4 18.59l7.72-7.72 1.47 1.35L5.41 20z\"/>\n",
              "  </svg>\n",
              "      </button>\n",
              "      \n",
              "  <style>\n",
              "    .colab-df-container {\n",
              "      display:flex;\n",
              "      flex-wrap:wrap;\n",
              "      gap: 12px;\n",
              "    }\n",
              "\n",
              "    .colab-df-convert {\n",
              "      background-color: #E8F0FE;\n",
              "      border: none;\n",
              "      border-radius: 50%;\n",
              "      cursor: pointer;\n",
              "      display: none;\n",
              "      fill: #1967D2;\n",
              "      height: 32px;\n",
              "      padding: 0 0 0 0;\n",
              "      width: 32px;\n",
              "    }\n",
              "\n",
              "    .colab-df-convert:hover {\n",
              "      background-color: #E2EBFA;\n",
              "      box-shadow: 0px 1px 2px rgba(60, 64, 67, 0.3), 0px 1px 3px 1px rgba(60, 64, 67, 0.15);\n",
              "      fill: #174EA6;\n",
              "    }\n",
              "\n",
              "    [theme=dark] .colab-df-convert {\n",
              "      background-color: #3B4455;\n",
              "      fill: #D2E3FC;\n",
              "    }\n",
              "\n",
              "    [theme=dark] .colab-df-convert:hover {\n",
              "      background-color: #434B5C;\n",
              "      box-shadow: 0px 1px 3px 1px rgba(0, 0, 0, 0.15);\n",
              "      filter: drop-shadow(0px 1px 2px rgba(0, 0, 0, 0.3));\n",
              "      fill: #FFFFFF;\n",
              "    }\n",
              "  </style>\n",
              "\n",
              "      <script>\n",
              "        const buttonEl =\n",
              "          document.querySelector('#df-4f5640fe-d791-4ac7-8fb0-8aad87dac151 button.colab-df-convert');\n",
              "        buttonEl.style.display =\n",
              "          google.colab.kernel.accessAllowed ? 'block' : 'none';\n",
              "\n",
              "        async function convertToInteractive(key) {\n",
              "          const element = document.querySelector('#df-4f5640fe-d791-4ac7-8fb0-8aad87dac151');\n",
              "          const dataTable =\n",
              "            await google.colab.kernel.invokeFunction('convertToInteractive',\n",
              "                                                     [key], {});\n",
              "          if (!dataTable) return;\n",
              "\n",
              "          const docLinkHtml = 'Like what you see? Visit the ' +\n",
              "            '<a target=\"_blank\" href=https://colab.research.google.com/notebooks/data_table.ipynb>data table notebook</a>'\n",
              "            + ' to learn more about interactive tables.';\n",
              "          element.innerHTML = '';\n",
              "          dataTable['output_type'] = 'display_data';\n",
              "          await google.colab.output.renderOutput(dataTable, element);\n",
              "          const docLink = document.createElement('div');\n",
              "          docLink.innerHTML = docLinkHtml;\n",
              "          element.appendChild(docLink);\n",
              "        }\n",
              "      </script>\n",
              "    </div>\n",
              "  </div>\n",
              "  "
            ]
          },
          "metadata": {},
          "execution_count": 80
        }
      ],
      "source": [
        "dados_normal_listings.head(3)"
      ]
    },
    {
      "cell_type": "code",
      "execution_count": 81,
      "metadata": {
        "id": "ssxgfqonevgc",
        "colab": {
          "base_uri": "https://localhost:8080/",
          "height": 312
        },
        "outputId": "702ebac1-9582-4dba-a3c2-02a7e20923fc"
      },
      "outputs": [
        {
          "output_type": "execute_result",
          "data": {
            "text/plain": [
              "  imovel_tipos_propriedade imovel_endereco_bairro  \\\n",
              "0                     Casa           Engenho Novo   \n",
              "1                Cobertura          Vargem Grande   \n",
              "2         Imóvel Comercial                Ribeira   \n",
              "\n",
              "  imovel_endereco_localizacao_type imovel_endereco_localizacao_coordinates  \\\n",
              "0                            Point              [-43.2634918, -22.8971768]   \n",
              "1                            Point               [-43.4907917, -22.988122]   \n",
              "2                            Point              [-43.1690005, -22.8239272]   \n",
              "\n",
              "   imovel_vagasGaragem  imovel_area  \\\n",
              "0                    0            0   \n",
              "1                    1           61   \n",
              "2                    4          180   \n",
              "\n",
              "                  imovel_caracteristicas_propriedade  \\\n",
              "0  [Sauna, Terraço, Acessibilidade, Mobiliado, Vi...   \n",
              "1                                                 []   \n",
              "2  [Vista Panorâmica, Acessibilidade, Área de Ser...   \n",
              "\n",
              "                   imovel_caracteristicas_condominio  \\\n",
              "0  [Estacionamento Coberto, Estacionamento Visita...   \n",
              "1  [Estacionamento Visitantes, Estacionamento Cob...   \n",
              "2  [Segurança Interna, Salão de Festas, Academia,...   \n",
              "\n",
              "                      imovel_caracteristicas_entorno anuncio_tipos_publicacao  \\\n",
              "0  [Próximo a Serviços de Saúde, Próximo ao Shopp...                   Padrão   \n",
              "1  [Próximo ao Metrô, Próximo a Praia, Próximo a ...                 Destaque   \n",
              "2  [Próximo a Restaurante, Próximo a Praia, Próxi...                   Padrão   \n",
              "\n",
              "  anuncio_tipos_listagem  anuncio_valores_venda  anuncio_valores_aluguel  \\\n",
              "0                  Usado               195772.0                      0.0   \n",
              "1                  Usado               305000.0                      0.0   \n",
              "2                  Usado              1050000.0                      0.0   \n",
              "\n",
              "   anuncio_valores_condominio  anuncio_valores_iptu  \\\n",
              "0                         0.0                   0.0   \n",
              "1                       667.0                 162.0   \n",
              "2                         0.0                 315.0   \n",
              "\n",
              "                                   anuncio_descricao  \n",
              "0  Amplo imóvel para venda com 0 quartos, sendo 0...  \n",
              "1  Amplo imóvel para venda com 2 quartos, sendo 0...  \n",
              "2  Amplo imóvel para venda com 3 quartos, sendo 1...  "
            ],
            "text/html": [
              "\n",
              "  <div id=\"df-04f0cac9-efb6-487d-8a59-b7262f9c9663\">\n",
              "    <div class=\"colab-df-container\">\n",
              "      <div>\n",
              "<style scoped>\n",
              "    .dataframe tbody tr th:only-of-type {\n",
              "        vertical-align: middle;\n",
              "    }\n",
              "\n",
              "    .dataframe tbody tr th {\n",
              "        vertical-align: top;\n",
              "    }\n",
              "\n",
              "    .dataframe thead th {\n",
              "        text-align: right;\n",
              "    }\n",
              "</style>\n",
              "<table border=\"1\" class=\"dataframe\">\n",
              "  <thead>\n",
              "    <tr style=\"text-align: right;\">\n",
              "      <th></th>\n",
              "      <th>imovel_tipos_propriedade</th>\n",
              "      <th>imovel_endereco_bairro</th>\n",
              "      <th>imovel_endereco_localizacao_type</th>\n",
              "      <th>imovel_endereco_localizacao_coordinates</th>\n",
              "      <th>imovel_vagasGaragem</th>\n",
              "      <th>imovel_area</th>\n",
              "      <th>imovel_caracteristicas_propriedade</th>\n",
              "      <th>imovel_caracteristicas_condominio</th>\n",
              "      <th>imovel_caracteristicas_entorno</th>\n",
              "      <th>anuncio_tipos_publicacao</th>\n",
              "      <th>anuncio_tipos_listagem</th>\n",
              "      <th>anuncio_valores_venda</th>\n",
              "      <th>anuncio_valores_aluguel</th>\n",
              "      <th>anuncio_valores_condominio</th>\n",
              "      <th>anuncio_valores_iptu</th>\n",
              "      <th>anuncio_descricao</th>\n",
              "    </tr>\n",
              "  </thead>\n",
              "  <tbody>\n",
              "    <tr>\n",
              "      <th>0</th>\n",
              "      <td>Casa</td>\n",
              "      <td>Engenho Novo</td>\n",
              "      <td>Point</td>\n",
              "      <td>[-43.2634918, -22.8971768]</td>\n",
              "      <td>0</td>\n",
              "      <td>0</td>\n",
              "      <td>[Sauna, Terraço, Acessibilidade, Mobiliado, Vi...</td>\n",
              "      <td>[Estacionamento Coberto, Estacionamento Visita...</td>\n",
              "      <td>[Próximo a Serviços de Saúde, Próximo ao Shopp...</td>\n",
              "      <td>Padrão</td>\n",
              "      <td>Usado</td>\n",
              "      <td>195772.0</td>\n",
              "      <td>0.0</td>\n",
              "      <td>0.0</td>\n",
              "      <td>0.0</td>\n",
              "      <td>Amplo imóvel para venda com 0 quartos, sendo 0...</td>\n",
              "    </tr>\n",
              "    <tr>\n",
              "      <th>1</th>\n",
              "      <td>Cobertura</td>\n",
              "      <td>Vargem Grande</td>\n",
              "      <td>Point</td>\n",
              "      <td>[-43.4907917, -22.988122]</td>\n",
              "      <td>1</td>\n",
              "      <td>61</td>\n",
              "      <td>[]</td>\n",
              "      <td>[Estacionamento Visitantes, Estacionamento Cob...</td>\n",
              "      <td>[Próximo ao Metrô, Próximo a Praia, Próximo a ...</td>\n",
              "      <td>Destaque</td>\n",
              "      <td>Usado</td>\n",
              "      <td>305000.0</td>\n",
              "      <td>0.0</td>\n",
              "      <td>667.0</td>\n",
              "      <td>162.0</td>\n",
              "      <td>Amplo imóvel para venda com 2 quartos, sendo 0...</td>\n",
              "    </tr>\n",
              "    <tr>\n",
              "      <th>2</th>\n",
              "      <td>Imóvel Comercial</td>\n",
              "      <td>Ribeira</td>\n",
              "      <td>Point</td>\n",
              "      <td>[-43.1690005, -22.8239272]</td>\n",
              "      <td>4</td>\n",
              "      <td>180</td>\n",
              "      <td>[Vista Panorâmica, Acessibilidade, Área de Ser...</td>\n",
              "      <td>[Segurança Interna, Salão de Festas, Academia,...</td>\n",
              "      <td>[Próximo a Restaurante, Próximo a Praia, Próxi...</td>\n",
              "      <td>Padrão</td>\n",
              "      <td>Usado</td>\n",
              "      <td>1050000.0</td>\n",
              "      <td>0.0</td>\n",
              "      <td>0.0</td>\n",
              "      <td>315.0</td>\n",
              "      <td>Amplo imóvel para venda com 3 quartos, sendo 1...</td>\n",
              "    </tr>\n",
              "  </tbody>\n",
              "</table>\n",
              "</div>\n",
              "      <button class=\"colab-df-convert\" onclick=\"convertToInteractive('df-04f0cac9-efb6-487d-8a59-b7262f9c9663')\"\n",
              "              title=\"Convert this dataframe to an interactive table.\"\n",
              "              style=\"display:none;\">\n",
              "        \n",
              "  <svg xmlns=\"http://www.w3.org/2000/svg\" height=\"24px\"viewBox=\"0 0 24 24\"\n",
              "       width=\"24px\">\n",
              "    <path d=\"M0 0h24v24H0V0z\" fill=\"none\"/>\n",
              "    <path d=\"M18.56 5.44l.94 2.06.94-2.06 2.06-.94-2.06-.94-.94-2.06-.94 2.06-2.06.94zm-11 1L8.5 8.5l.94-2.06 2.06-.94-2.06-.94L8.5 2.5l-.94 2.06-2.06.94zm10 10l.94 2.06.94-2.06 2.06-.94-2.06-.94-.94-2.06-.94 2.06-2.06.94z\"/><path d=\"M17.41 7.96l-1.37-1.37c-.4-.4-.92-.59-1.43-.59-.52 0-1.04.2-1.43.59L10.3 9.45l-7.72 7.72c-.78.78-.78 2.05 0 2.83L4 21.41c.39.39.9.59 1.41.59.51 0 1.02-.2 1.41-.59l7.78-7.78 2.81-2.81c.8-.78.8-2.07 0-2.86zM5.41 20L4 18.59l7.72-7.72 1.47 1.35L5.41 20z\"/>\n",
              "  </svg>\n",
              "      </button>\n",
              "      \n",
              "  <style>\n",
              "    .colab-df-container {\n",
              "      display:flex;\n",
              "      flex-wrap:wrap;\n",
              "      gap: 12px;\n",
              "    }\n",
              "\n",
              "    .colab-df-convert {\n",
              "      background-color: #E8F0FE;\n",
              "      border: none;\n",
              "      border-radius: 50%;\n",
              "      cursor: pointer;\n",
              "      display: none;\n",
              "      fill: #1967D2;\n",
              "      height: 32px;\n",
              "      padding: 0 0 0 0;\n",
              "      width: 32px;\n",
              "    }\n",
              "\n",
              "    .colab-df-convert:hover {\n",
              "      background-color: #E2EBFA;\n",
              "      box-shadow: 0px 1px 2px rgba(60, 64, 67, 0.3), 0px 1px 3px 1px rgba(60, 64, 67, 0.15);\n",
              "      fill: #174EA6;\n",
              "    }\n",
              "\n",
              "    [theme=dark] .colab-df-convert {\n",
              "      background-color: #3B4455;\n",
              "      fill: #D2E3FC;\n",
              "    }\n",
              "\n",
              "    [theme=dark] .colab-df-convert:hover {\n",
              "      background-color: #434B5C;\n",
              "      box-shadow: 0px 1px 3px 1px rgba(0, 0, 0, 0.15);\n",
              "      filter: drop-shadow(0px 1px 2px rgba(0, 0, 0, 0.3));\n",
              "      fill: #FFFFFF;\n",
              "    }\n",
              "  </style>\n",
              "\n",
              "      <script>\n",
              "        const buttonEl =\n",
              "          document.querySelector('#df-04f0cac9-efb6-487d-8a59-b7262f9c9663 button.colab-df-convert');\n",
              "        buttonEl.style.display =\n",
              "          google.colab.kernel.accessAllowed ? 'block' : 'none';\n",
              "\n",
              "        async function convertToInteractive(key) {\n",
              "          const element = document.querySelector('#df-04f0cac9-efb6-487d-8a59-b7262f9c9663');\n",
              "          const dataTable =\n",
              "            await google.colab.kernel.invokeFunction('convertToInteractive',\n",
              "                                                     [key], {});\n",
              "          if (!dataTable) return;\n",
              "\n",
              "          const docLinkHtml = 'Like what you see? Visit the ' +\n",
              "            '<a target=\"_blank\" href=https://colab.research.google.com/notebooks/data_table.ipynb>data table notebook</a>'\n",
              "            + ' to learn more about interactive tables.';\n",
              "          element.innerHTML = '';\n",
              "          dataTable['output_type'] = 'display_data';\n",
              "          await google.colab.output.renderOutput(dataTable, element);\n",
              "          const docLink = document.createElement('div');\n",
              "          docLink.innerHTML = docLinkHtml;\n",
              "          element.appendChild(docLink);\n",
              "        }\n",
              "      </script>\n",
              "    </div>\n",
              "  </div>\n",
              "  "
            ]
          },
          "metadata": {},
          "execution_count": 81
        }
      ],
      "source": [
        "dados_highlights_listings.head(3)"
      ]
    },
    {
      "cell_type": "code",
      "source": [
        "dados_normal_listings.columns == dados_highlights_listings.columns"
      ],
      "metadata": {
        "colab": {
          "base_uri": "https://localhost:8080/"
        },
        "id": "3VxBgxTI1gqE",
        "outputId": "3466748d-9edf-42a8-a8b0-10e8b8073135"
      },
      "execution_count": 82,
      "outputs": [
        {
          "output_type": "execute_result",
          "data": {
            "text/plain": [
              "array([ True,  True,  True,  True,  True,  True,  True,  True,  True,\n",
              "        True,  True,  True,  True,  True,  True,  True])"
            ]
          },
          "metadata": {},
          "execution_count": 82
        }
      ]
    },
    {
      "cell_type": "markdown",
      "metadata": {
        "id": "rZgiUKLdevgc"
      },
      "source": [
        "## Empilhando *DataFrames*"
      ]
    },
    {
      "cell_type": "markdown",
      "metadata": {
        "id": "-h32tlhVevgd"
      },
      "source": [
        "### `append`\n",
        "\n",
        "[Documentação](https://pandas.pydata.org/pandas-docs/stable/reference/api/pandas.DataFrame.append.html)"
      ]
    },
    {
      "cell_type": "code",
      "execution_count": 86,
      "metadata": {
        "id": "LHCKRDJ_evgd",
        "scrolled": true,
        "colab": {
          "base_uri": "https://localhost:8080/",
          "height": 835
        },
        "outputId": "661a0864-7510-4af3-acb7-fce81c6974e0"
      },
      "outputs": [
        {
          "output_type": "execute_result",
          "data": {
            "text/plain": [
              "   imovel_tipos_propriedade imovel_endereco_bairro  \\\n",
              "0                      Casa        Barra da Tijuca   \n",
              "1               Apartamento           Campo Grande   \n",
              "2                 Cobertura        Barra da Tijuca   \n",
              "3                 Cobertura        Barra da Tijuca   \n",
              "4            Sala Comercial                 Glória   \n",
              "..                      ...                    ...   \n",
              "15              Apartamento             Copacabana   \n",
              "16              Apartamento                 Leblon   \n",
              "17                     Casa             Copacabana   \n",
              "18           Sala Comercial               Cachambi   \n",
              "19              Apartamento                 Tijuca   \n",
              "\n",
              "   imovel_endereco_localizacao_type imovel_endereco_localizacao_coordinates  \\\n",
              "0                             Point              [-43.3039086, -23.0139692]   \n",
              "1                             Point                                  [0, 0]   \n",
              "2                             Point              [-43.3037186, -22.9951304]   \n",
              "3                             Point              [-43.3548121, -23.0097423]   \n",
              "4                             Point              [-43.1779703, -22.9174894]   \n",
              "..                              ...                                     ...   \n",
              "15                            Point              [-43.1943902, -22.9816847]   \n",
              "16                            Point              [-43.2253114, -22.9843603]   \n",
              "17                            Point              [-43.1951842, -22.9818646]   \n",
              "18                            Point              [-43.2781994, -22.8917611]   \n",
              "19                            Point              [-43.2356544, -22.9264543]   \n",
              "\n",
              "    imovel_vagasGaragem  imovel_area  \\\n",
              "0                     4          279   \n",
              "1                     1           60   \n",
              "2                     2          380   \n",
              "3                     1           73   \n",
              "4                     1           32   \n",
              "..                  ...          ...   \n",
              "15                    1          216   \n",
              "16                    1          218   \n",
              "17                    0           25   \n",
              "18                    2          138   \n",
              "19                    0          100   \n",
              "\n",
              "                   imovel_caracteristicas_propriedade  \\\n",
              "0   [Área de Serviço, Terraço, Churrasqueira, Quar...   \n",
              "1                                             [Sauna]   \n",
              "2   [Acessibilidade, Área de Serviço, Sauna, Ambie...   \n",
              "3   [Vista Panorâmica, Piscina, Sauna, Closet, Mob...   \n",
              "4                               [Armários Planejados]   \n",
              "..                                                ...   \n",
              "15  [Cozinha Americana, Quarto/WC Empregada, Pisci...   \n",
              "16                            [Piscina, Gás Encanado]   \n",
              "17  [Closet, Armários Planejados, Quarto/WC Empreg...   \n",
              "18  [Gás Encanado, Acessibilidade, Ambientes Integ...   \n",
              "19  [Churrasqueira, Gás Encanado, Quarto/WC Empreg...   \n",
              "\n",
              "                    imovel_caracteristicas_condominio  \\\n",
              "0   [Churrasqueira, Salão de Jogos, Sauna, Estacio...   \n",
              "1   [Elevador, Playground, Salão de Festas, Sistem...   \n",
              "2   [Sauna, Playground, Quadra Poliesportiva, Salã...   \n",
              "3   [Quadra Poliesportiva, Aceita Pet, Playground,...   \n",
              "4   [Quadra Poliesportiva, Porteiro 24 Horas, Elev...   \n",
              "..                                                ...   \n",
              "15  [Elevador, Salão de Festas, Porteiro 24 Horas,...   \n",
              "16  [Academia, Aceita Pet, Sistema de Incêndio, Bi...   \n",
              "17  [Bicicletário, Sistema de Incêndio, Segurança ...   \n",
              "18  [Playground, Depósito Privativo, Academia, Qua...   \n",
              "19  [Academia, Quadra Poliesportiva, Sauna, Estaci...   \n",
              "\n",
              "                       imovel_caracteristicas_entorno  \\\n",
              "0   [Próximo a Escola Particular, Próximo ao Metrô...   \n",
              "1   [Próximo ao Shopping, Próximo a Áreas de Lazer...   \n",
              "2                       [Próximo a Escola Particular]   \n",
              "3   [Próximo a Farmácia, Próximo a Academia, Próxi...   \n",
              "4   [Próximo a Centro Empresarial, Próximo a Áreas...   \n",
              "..                                                ...   \n",
              "15  [Próximo a Farmácia, Próximo a Academia, Próxi...   \n",
              "16  [Próximo a Comércio Diversos, Próximo a Centro...   \n",
              "17                                                 []   \n",
              "18  [Próximo a Praia, Próximo a Serviços de Saúde,...   \n",
              "19  [Próximo a Comércio Diversos, Próximo a Áreas ...   \n",
              "\n",
              "   anuncio_tipos_publicacao anuncio_tipos_listagem  anuncio_valores_venda  \\\n",
              "0                    Padrão             Lançamento              2400000.0   \n",
              "1                    Padrão                  Usado               200000.0   \n",
              "2                   Premium                  Usado              4400000.0   \n",
              "3                    Padrão                  Usado              1100000.0   \n",
              "4                    Padrão                  Usado               260000.0   \n",
              "..                      ...                    ...                    ...   \n",
              "15                   Padrão                  Usado              1800000.0   \n",
              "16                  Premium                  Usado              4500000.0   \n",
              "17                 Destaque                  Usado               350000.0   \n",
              "18                  Premium                  Usado               619000.0   \n",
              "19                   Padrão                  Usado               580000.0   \n",
              "\n",
              "    anuncio_valores_aluguel  anuncio_valores_condominio  anuncio_valores_iptu  \\\n",
              "0                       0.0                       790.0                5700.0   \n",
              "1                       0.0                         0.0                   0.0   \n",
              "2                       0.0                      1200.0                 850.0   \n",
              "3                       0.0                      1300.0                 364.0   \n",
              "4                       0.0                       450.0                 800.0   \n",
              "..                      ...                         ...                   ...   \n",
              "15                      0.0                      2000.0                2300.0   \n",
              "16                      0.0                      3600.0                7000.0   \n",
              "17                      0.0                       290.0                 182.0   \n",
              "18                      0.0                       506.0                1404.0   \n",
              "19                      0.0                         0.0                   0.0   \n",
              "\n",
              "                                    anuncio_descricao  \n",
              "0   Amplo imóvel para venda com 3 quartos, sendo 1...  \n",
              "1   Amplo imóvel para venda com 2 quartos, sendo 0...  \n",
              "2   Amplo imóvel para venda com 5 quartos, sendo 4...  \n",
              "3   Amplo imóvel para venda com 2 quartos, sendo 1...  \n",
              "4   Amplo imóvel para venda com 0 quartos, sendo 0...  \n",
              "..                                                ...  \n",
              "15  Amplo imóvel para venda com 4 quartos, sendo 2...  \n",
              "16  Amplo imóvel para venda com 3 quartos, sendo 1...  \n",
              "17  Amplo imóvel para venda com 1 quartos, sendo 0...  \n",
              "18  Amplo imóvel para venda com 3 quartos, sendo 1...  \n",
              "19  Amplo imóvel para venda com 3 quartos, sendo 1...  \n",
              "\n",
              "[70 rows x 16 columns]"
            ],
            "text/html": [
              "\n",
              "  <div id=\"df-560b9c62-2a81-420b-9f72-214e35e373d3\">\n",
              "    <div class=\"colab-df-container\">\n",
              "      <div>\n",
              "<style scoped>\n",
              "    .dataframe tbody tr th:only-of-type {\n",
              "        vertical-align: middle;\n",
              "    }\n",
              "\n",
              "    .dataframe tbody tr th {\n",
              "        vertical-align: top;\n",
              "    }\n",
              "\n",
              "    .dataframe thead th {\n",
              "        text-align: right;\n",
              "    }\n",
              "</style>\n",
              "<table border=\"1\" class=\"dataframe\">\n",
              "  <thead>\n",
              "    <tr style=\"text-align: right;\">\n",
              "      <th></th>\n",
              "      <th>imovel_tipos_propriedade</th>\n",
              "      <th>imovel_endereco_bairro</th>\n",
              "      <th>imovel_endereco_localizacao_type</th>\n",
              "      <th>imovel_endereco_localizacao_coordinates</th>\n",
              "      <th>imovel_vagasGaragem</th>\n",
              "      <th>imovel_area</th>\n",
              "      <th>imovel_caracteristicas_propriedade</th>\n",
              "      <th>imovel_caracteristicas_condominio</th>\n",
              "      <th>imovel_caracteristicas_entorno</th>\n",
              "      <th>anuncio_tipos_publicacao</th>\n",
              "      <th>anuncio_tipos_listagem</th>\n",
              "      <th>anuncio_valores_venda</th>\n",
              "      <th>anuncio_valores_aluguel</th>\n",
              "      <th>anuncio_valores_condominio</th>\n",
              "      <th>anuncio_valores_iptu</th>\n",
              "      <th>anuncio_descricao</th>\n",
              "    </tr>\n",
              "  </thead>\n",
              "  <tbody>\n",
              "    <tr>\n",
              "      <th>0</th>\n",
              "      <td>Casa</td>\n",
              "      <td>Barra da Tijuca</td>\n",
              "      <td>Point</td>\n",
              "      <td>[-43.3039086, -23.0139692]</td>\n",
              "      <td>4</td>\n",
              "      <td>279</td>\n",
              "      <td>[Área de Serviço, Terraço, Churrasqueira, Quar...</td>\n",
              "      <td>[Churrasqueira, Salão de Jogos, Sauna, Estacio...</td>\n",
              "      <td>[Próximo a Escola Particular, Próximo ao Metrô...</td>\n",
              "      <td>Padrão</td>\n",
              "      <td>Lançamento</td>\n",
              "      <td>2400000.0</td>\n",
              "      <td>0.0</td>\n",
              "      <td>790.0</td>\n",
              "      <td>5700.0</td>\n",
              "      <td>Amplo imóvel para venda com 3 quartos, sendo 1...</td>\n",
              "    </tr>\n",
              "    <tr>\n",
              "      <th>1</th>\n",
              "      <td>Apartamento</td>\n",
              "      <td>Campo Grande</td>\n",
              "      <td>Point</td>\n",
              "      <td>[0, 0]</td>\n",
              "      <td>1</td>\n",
              "      <td>60</td>\n",
              "      <td>[Sauna]</td>\n",
              "      <td>[Elevador, Playground, Salão de Festas, Sistem...</td>\n",
              "      <td>[Próximo ao Shopping, Próximo a Áreas de Lazer...</td>\n",
              "      <td>Padrão</td>\n",
              "      <td>Usado</td>\n",
              "      <td>200000.0</td>\n",
              "      <td>0.0</td>\n",
              "      <td>0.0</td>\n",
              "      <td>0.0</td>\n",
              "      <td>Amplo imóvel para venda com 2 quartos, sendo 0...</td>\n",
              "    </tr>\n",
              "    <tr>\n",
              "      <th>2</th>\n",
              "      <td>Cobertura</td>\n",
              "      <td>Barra da Tijuca</td>\n",
              "      <td>Point</td>\n",
              "      <td>[-43.3037186, -22.9951304]</td>\n",
              "      <td>2</td>\n",
              "      <td>380</td>\n",
              "      <td>[Acessibilidade, Área de Serviço, Sauna, Ambie...</td>\n",
              "      <td>[Sauna, Playground, Quadra Poliesportiva, Salã...</td>\n",
              "      <td>[Próximo a Escola Particular]</td>\n",
              "      <td>Premium</td>\n",
              "      <td>Usado</td>\n",
              "      <td>4400000.0</td>\n",
              "      <td>0.0</td>\n",
              "      <td>1200.0</td>\n",
              "      <td>850.0</td>\n",
              "      <td>Amplo imóvel para venda com 5 quartos, sendo 4...</td>\n",
              "    </tr>\n",
              "    <tr>\n",
              "      <th>3</th>\n",
              "      <td>Cobertura</td>\n",
              "      <td>Barra da Tijuca</td>\n",
              "      <td>Point</td>\n",
              "      <td>[-43.3548121, -23.0097423]</td>\n",
              "      <td>1</td>\n",
              "      <td>73</td>\n",
              "      <td>[Vista Panorâmica, Piscina, Sauna, Closet, Mob...</td>\n",
              "      <td>[Quadra Poliesportiva, Aceita Pet, Playground,...</td>\n",
              "      <td>[Próximo a Farmácia, Próximo a Academia, Próxi...</td>\n",
              "      <td>Padrão</td>\n",
              "      <td>Usado</td>\n",
              "      <td>1100000.0</td>\n",
              "      <td>0.0</td>\n",
              "      <td>1300.0</td>\n",
              "      <td>364.0</td>\n",
              "      <td>Amplo imóvel para venda com 2 quartos, sendo 1...</td>\n",
              "    </tr>\n",
              "    <tr>\n",
              "      <th>4</th>\n",
              "      <td>Sala Comercial</td>\n",
              "      <td>Glória</td>\n",
              "      <td>Point</td>\n",
              "      <td>[-43.1779703, -22.9174894]</td>\n",
              "      <td>1</td>\n",
              "      <td>32</td>\n",
              "      <td>[Armários Planejados]</td>\n",
              "      <td>[Quadra Poliesportiva, Porteiro 24 Horas, Elev...</td>\n",
              "      <td>[Próximo a Centro Empresarial, Próximo a Áreas...</td>\n",
              "      <td>Padrão</td>\n",
              "      <td>Usado</td>\n",
              "      <td>260000.0</td>\n",
              "      <td>0.0</td>\n",
              "      <td>450.0</td>\n",
              "      <td>800.0</td>\n",
              "      <td>Amplo imóvel para venda com 0 quartos, sendo 0...</td>\n",
              "    </tr>\n",
              "    <tr>\n",
              "      <th>...</th>\n",
              "      <td>...</td>\n",
              "      <td>...</td>\n",
              "      <td>...</td>\n",
              "      <td>...</td>\n",
              "      <td>...</td>\n",
              "      <td>...</td>\n",
              "      <td>...</td>\n",
              "      <td>...</td>\n",
              "      <td>...</td>\n",
              "      <td>...</td>\n",
              "      <td>...</td>\n",
              "      <td>...</td>\n",
              "      <td>...</td>\n",
              "      <td>...</td>\n",
              "      <td>...</td>\n",
              "      <td>...</td>\n",
              "    </tr>\n",
              "    <tr>\n",
              "      <th>15</th>\n",
              "      <td>Apartamento</td>\n",
              "      <td>Copacabana</td>\n",
              "      <td>Point</td>\n",
              "      <td>[-43.1943902, -22.9816847]</td>\n",
              "      <td>1</td>\n",
              "      <td>216</td>\n",
              "      <td>[Cozinha Americana, Quarto/WC Empregada, Pisci...</td>\n",
              "      <td>[Elevador, Salão de Festas, Porteiro 24 Horas,...</td>\n",
              "      <td>[Próximo a Farmácia, Próximo a Academia, Próxi...</td>\n",
              "      <td>Padrão</td>\n",
              "      <td>Usado</td>\n",
              "      <td>1800000.0</td>\n",
              "      <td>0.0</td>\n",
              "      <td>2000.0</td>\n",
              "      <td>2300.0</td>\n",
              "      <td>Amplo imóvel para venda com 4 quartos, sendo 2...</td>\n",
              "    </tr>\n",
              "    <tr>\n",
              "      <th>16</th>\n",
              "      <td>Apartamento</td>\n",
              "      <td>Leblon</td>\n",
              "      <td>Point</td>\n",
              "      <td>[-43.2253114, -22.9843603]</td>\n",
              "      <td>1</td>\n",
              "      <td>218</td>\n",
              "      <td>[Piscina, Gás Encanado]</td>\n",
              "      <td>[Academia, Aceita Pet, Sistema de Incêndio, Bi...</td>\n",
              "      <td>[Próximo a Comércio Diversos, Próximo a Centro...</td>\n",
              "      <td>Premium</td>\n",
              "      <td>Usado</td>\n",
              "      <td>4500000.0</td>\n",
              "      <td>0.0</td>\n",
              "      <td>3600.0</td>\n",
              "      <td>7000.0</td>\n",
              "      <td>Amplo imóvel para venda com 3 quartos, sendo 1...</td>\n",
              "    </tr>\n",
              "    <tr>\n",
              "      <th>17</th>\n",
              "      <td>Casa</td>\n",
              "      <td>Copacabana</td>\n",
              "      <td>Point</td>\n",
              "      <td>[-43.1951842, -22.9818646]</td>\n",
              "      <td>0</td>\n",
              "      <td>25</td>\n",
              "      <td>[Closet, Armários Planejados, Quarto/WC Empreg...</td>\n",
              "      <td>[Bicicletário, Sistema de Incêndio, Segurança ...</td>\n",
              "      <td>[]</td>\n",
              "      <td>Destaque</td>\n",
              "      <td>Usado</td>\n",
              "      <td>350000.0</td>\n",
              "      <td>0.0</td>\n",
              "      <td>290.0</td>\n",
              "      <td>182.0</td>\n",
              "      <td>Amplo imóvel para venda com 1 quartos, sendo 0...</td>\n",
              "    </tr>\n",
              "    <tr>\n",
              "      <th>18</th>\n",
              "      <td>Sala Comercial</td>\n",
              "      <td>Cachambi</td>\n",
              "      <td>Point</td>\n",
              "      <td>[-43.2781994, -22.8917611]</td>\n",
              "      <td>2</td>\n",
              "      <td>138</td>\n",
              "      <td>[Gás Encanado, Acessibilidade, Ambientes Integ...</td>\n",
              "      <td>[Playground, Depósito Privativo, Academia, Qua...</td>\n",
              "      <td>[Próximo a Praia, Próximo a Serviços de Saúde,...</td>\n",
              "      <td>Premium</td>\n",
              "      <td>Usado</td>\n",
              "      <td>619000.0</td>\n",
              "      <td>0.0</td>\n",
              "      <td>506.0</td>\n",
              "      <td>1404.0</td>\n",
              "      <td>Amplo imóvel para venda com 3 quartos, sendo 1...</td>\n",
              "    </tr>\n",
              "    <tr>\n",
              "      <th>19</th>\n",
              "      <td>Apartamento</td>\n",
              "      <td>Tijuca</td>\n",
              "      <td>Point</td>\n",
              "      <td>[-43.2356544, -22.9264543]</td>\n",
              "      <td>0</td>\n",
              "      <td>100</td>\n",
              "      <td>[Churrasqueira, Gás Encanado, Quarto/WC Empreg...</td>\n",
              "      <td>[Academia, Quadra Poliesportiva, Sauna, Estaci...</td>\n",
              "      <td>[Próximo a Comércio Diversos, Próximo a Áreas ...</td>\n",
              "      <td>Padrão</td>\n",
              "      <td>Usado</td>\n",
              "      <td>580000.0</td>\n",
              "      <td>0.0</td>\n",
              "      <td>0.0</td>\n",
              "      <td>0.0</td>\n",
              "      <td>Amplo imóvel para venda com 3 quartos, sendo 1...</td>\n",
              "    </tr>\n",
              "  </tbody>\n",
              "</table>\n",
              "<p>70 rows × 16 columns</p>\n",
              "</div>\n",
              "      <button class=\"colab-df-convert\" onclick=\"convertToInteractive('df-560b9c62-2a81-420b-9f72-214e35e373d3')\"\n",
              "              title=\"Convert this dataframe to an interactive table.\"\n",
              "              style=\"display:none;\">\n",
              "        \n",
              "  <svg xmlns=\"http://www.w3.org/2000/svg\" height=\"24px\"viewBox=\"0 0 24 24\"\n",
              "       width=\"24px\">\n",
              "    <path d=\"M0 0h24v24H0V0z\" fill=\"none\"/>\n",
              "    <path d=\"M18.56 5.44l.94 2.06.94-2.06 2.06-.94-2.06-.94-.94-2.06-.94 2.06-2.06.94zm-11 1L8.5 8.5l.94-2.06 2.06-.94-2.06-.94L8.5 2.5l-.94 2.06-2.06.94zm10 10l.94 2.06.94-2.06 2.06-.94-2.06-.94-.94-2.06-.94 2.06-2.06.94z\"/><path d=\"M17.41 7.96l-1.37-1.37c-.4-.4-.92-.59-1.43-.59-.52 0-1.04.2-1.43.59L10.3 9.45l-7.72 7.72c-.78.78-.78 2.05 0 2.83L4 21.41c.39.39.9.59 1.41.59.51 0 1.02-.2 1.41-.59l7.78-7.78 2.81-2.81c.8-.78.8-2.07 0-2.86zM5.41 20L4 18.59l7.72-7.72 1.47 1.35L5.41 20z\"/>\n",
              "  </svg>\n",
              "      </button>\n",
              "      \n",
              "  <style>\n",
              "    .colab-df-container {\n",
              "      display:flex;\n",
              "      flex-wrap:wrap;\n",
              "      gap: 12px;\n",
              "    }\n",
              "\n",
              "    .colab-df-convert {\n",
              "      background-color: #E8F0FE;\n",
              "      border: none;\n",
              "      border-radius: 50%;\n",
              "      cursor: pointer;\n",
              "      display: none;\n",
              "      fill: #1967D2;\n",
              "      height: 32px;\n",
              "      padding: 0 0 0 0;\n",
              "      width: 32px;\n",
              "    }\n",
              "\n",
              "    .colab-df-convert:hover {\n",
              "      background-color: #E2EBFA;\n",
              "      box-shadow: 0px 1px 2px rgba(60, 64, 67, 0.3), 0px 1px 3px 1px rgba(60, 64, 67, 0.15);\n",
              "      fill: #174EA6;\n",
              "    }\n",
              "\n",
              "    [theme=dark] .colab-df-convert {\n",
              "      background-color: #3B4455;\n",
              "      fill: #D2E3FC;\n",
              "    }\n",
              "\n",
              "    [theme=dark] .colab-df-convert:hover {\n",
              "      background-color: #434B5C;\n",
              "      box-shadow: 0px 1px 3px 1px rgba(0, 0, 0, 0.15);\n",
              "      filter: drop-shadow(0px 1px 2px rgba(0, 0, 0, 0.3));\n",
              "      fill: #FFFFFF;\n",
              "    }\n",
              "  </style>\n",
              "\n",
              "      <script>\n",
              "        const buttonEl =\n",
              "          document.querySelector('#df-560b9c62-2a81-420b-9f72-214e35e373d3 button.colab-df-convert');\n",
              "        buttonEl.style.display =\n",
              "          google.colab.kernel.accessAllowed ? 'block' : 'none';\n",
              "\n",
              "        async function convertToInteractive(key) {\n",
              "          const element = document.querySelector('#df-560b9c62-2a81-420b-9f72-214e35e373d3');\n",
              "          const dataTable =\n",
              "            await google.colab.kernel.invokeFunction('convertToInteractive',\n",
              "                                                     [key], {});\n",
              "          if (!dataTable) return;\n",
              "\n",
              "          const docLinkHtml = 'Like what you see? Visit the ' +\n",
              "            '<a target=\"_blank\" href=https://colab.research.google.com/notebooks/data_table.ipynb>data table notebook</a>'\n",
              "            + ' to learn more about interactive tables.';\n",
              "          element.innerHTML = '';\n",
              "          dataTable['output_type'] = 'display_data';\n",
              "          await google.colab.output.renderOutput(dataTable, element);\n",
              "          const docLink = document.createElement('div');\n",
              "          docLink.innerHTML = docLinkHtml;\n",
              "          element.appendChild(docLink);\n",
              "        }\n",
              "      </script>\n",
              "    </div>\n",
              "  </div>\n",
              "  "
            ]
          },
          "metadata": {},
          "execution_count": 86
        }
      ],
      "source": [
        "dados_normal_listings.append(dados_highlights_listings)"
      ]
    },
    {
      "cell_type": "code",
      "execution_count": 87,
      "metadata": {
        "id": "tF1g0sR2evgd",
        "scrolled": true,
        "colab": {
          "base_uri": "https://localhost:8080/",
          "height": 835
        },
        "outputId": "e6944087-b2c2-4968-8fc2-8a61f91454d6"
      },
      "outputs": [
        {
          "output_type": "execute_result",
          "data": {
            "text/plain": [
              "   imovel_tipos_propriedade imovel_endereco_bairro  \\\n",
              "0                      Casa        Barra da Tijuca   \n",
              "1               Apartamento           Campo Grande   \n",
              "2                 Cobertura        Barra da Tijuca   \n",
              "3                 Cobertura        Barra da Tijuca   \n",
              "4            Sala Comercial                 Glória   \n",
              "..                      ...                    ...   \n",
              "65              Apartamento             Copacabana   \n",
              "66              Apartamento                 Leblon   \n",
              "67                     Casa             Copacabana   \n",
              "68           Sala Comercial               Cachambi   \n",
              "69              Apartamento                 Tijuca   \n",
              "\n",
              "   imovel_endereco_localizacao_type imovel_endereco_localizacao_coordinates  \\\n",
              "0                             Point              [-43.3039086, -23.0139692]   \n",
              "1                             Point                                  [0, 0]   \n",
              "2                             Point              [-43.3037186, -22.9951304]   \n",
              "3                             Point              [-43.3548121, -23.0097423]   \n",
              "4                             Point              [-43.1779703, -22.9174894]   \n",
              "..                              ...                                     ...   \n",
              "65                            Point              [-43.1943902, -22.9816847]   \n",
              "66                            Point              [-43.2253114, -22.9843603]   \n",
              "67                            Point              [-43.1951842, -22.9818646]   \n",
              "68                            Point              [-43.2781994, -22.8917611]   \n",
              "69                            Point              [-43.2356544, -22.9264543]   \n",
              "\n",
              "    imovel_vagasGaragem  imovel_area  \\\n",
              "0                     4          279   \n",
              "1                     1           60   \n",
              "2                     2          380   \n",
              "3                     1           73   \n",
              "4                     1           32   \n",
              "..                  ...          ...   \n",
              "65                    1          216   \n",
              "66                    1          218   \n",
              "67                    0           25   \n",
              "68                    2          138   \n",
              "69                    0          100   \n",
              "\n",
              "                   imovel_caracteristicas_propriedade  \\\n",
              "0   [Área de Serviço, Terraço, Churrasqueira, Quar...   \n",
              "1                                             [Sauna]   \n",
              "2   [Acessibilidade, Área de Serviço, Sauna, Ambie...   \n",
              "3   [Vista Panorâmica, Piscina, Sauna, Closet, Mob...   \n",
              "4                               [Armários Planejados]   \n",
              "..                                                ...   \n",
              "65  [Cozinha Americana, Quarto/WC Empregada, Pisci...   \n",
              "66                            [Piscina, Gás Encanado]   \n",
              "67  [Closet, Armários Planejados, Quarto/WC Empreg...   \n",
              "68  [Gás Encanado, Acessibilidade, Ambientes Integ...   \n",
              "69  [Churrasqueira, Gás Encanado, Quarto/WC Empreg...   \n",
              "\n",
              "                    imovel_caracteristicas_condominio  \\\n",
              "0   [Churrasqueira, Salão de Jogos, Sauna, Estacio...   \n",
              "1   [Elevador, Playground, Salão de Festas, Sistem...   \n",
              "2   [Sauna, Playground, Quadra Poliesportiva, Salã...   \n",
              "3   [Quadra Poliesportiva, Aceita Pet, Playground,...   \n",
              "4   [Quadra Poliesportiva, Porteiro 24 Horas, Elev...   \n",
              "..                                                ...   \n",
              "65  [Elevador, Salão de Festas, Porteiro 24 Horas,...   \n",
              "66  [Academia, Aceita Pet, Sistema de Incêndio, Bi...   \n",
              "67  [Bicicletário, Sistema de Incêndio, Segurança ...   \n",
              "68  [Playground, Depósito Privativo, Academia, Qua...   \n",
              "69  [Academia, Quadra Poliesportiva, Sauna, Estaci...   \n",
              "\n",
              "                       imovel_caracteristicas_entorno  \\\n",
              "0   [Próximo a Escola Particular, Próximo ao Metrô...   \n",
              "1   [Próximo ao Shopping, Próximo a Áreas de Lazer...   \n",
              "2                       [Próximo a Escola Particular]   \n",
              "3   [Próximo a Farmácia, Próximo a Academia, Próxi...   \n",
              "4   [Próximo a Centro Empresarial, Próximo a Áreas...   \n",
              "..                                                ...   \n",
              "65  [Próximo a Farmácia, Próximo a Academia, Próxi...   \n",
              "66  [Próximo a Comércio Diversos, Próximo a Centro...   \n",
              "67                                                 []   \n",
              "68  [Próximo a Praia, Próximo a Serviços de Saúde,...   \n",
              "69  [Próximo a Comércio Diversos, Próximo a Áreas ...   \n",
              "\n",
              "   anuncio_tipos_publicacao anuncio_tipos_listagem  anuncio_valores_venda  \\\n",
              "0                    Padrão             Lançamento              2400000.0   \n",
              "1                    Padrão                  Usado               200000.0   \n",
              "2                   Premium                  Usado              4400000.0   \n",
              "3                    Padrão                  Usado              1100000.0   \n",
              "4                    Padrão                  Usado               260000.0   \n",
              "..                      ...                    ...                    ...   \n",
              "65                   Padrão                  Usado              1800000.0   \n",
              "66                  Premium                  Usado              4500000.0   \n",
              "67                 Destaque                  Usado               350000.0   \n",
              "68                  Premium                  Usado               619000.0   \n",
              "69                   Padrão                  Usado               580000.0   \n",
              "\n",
              "    anuncio_valores_aluguel  anuncio_valores_condominio  anuncio_valores_iptu  \\\n",
              "0                       0.0                       790.0                5700.0   \n",
              "1                       0.0                         0.0                   0.0   \n",
              "2                       0.0                      1200.0                 850.0   \n",
              "3                       0.0                      1300.0                 364.0   \n",
              "4                       0.0                       450.0                 800.0   \n",
              "..                      ...                         ...                   ...   \n",
              "65                      0.0                      2000.0                2300.0   \n",
              "66                      0.0                      3600.0                7000.0   \n",
              "67                      0.0                       290.0                 182.0   \n",
              "68                      0.0                       506.0                1404.0   \n",
              "69                      0.0                         0.0                   0.0   \n",
              "\n",
              "                                    anuncio_descricao  \n",
              "0   Amplo imóvel para venda com 3 quartos, sendo 1...  \n",
              "1   Amplo imóvel para venda com 2 quartos, sendo 0...  \n",
              "2   Amplo imóvel para venda com 5 quartos, sendo 4...  \n",
              "3   Amplo imóvel para venda com 2 quartos, sendo 1...  \n",
              "4   Amplo imóvel para venda com 0 quartos, sendo 0...  \n",
              "..                                                ...  \n",
              "65  Amplo imóvel para venda com 4 quartos, sendo 2...  \n",
              "66  Amplo imóvel para venda com 3 quartos, sendo 1...  \n",
              "67  Amplo imóvel para venda com 1 quartos, sendo 0...  \n",
              "68  Amplo imóvel para venda com 3 quartos, sendo 1...  \n",
              "69  Amplo imóvel para venda com 3 quartos, sendo 1...  \n",
              "\n",
              "[70 rows x 16 columns]"
            ],
            "text/html": [
              "\n",
              "  <div id=\"df-4c13919b-b395-415b-94f3-c4dff98570d9\">\n",
              "    <div class=\"colab-df-container\">\n",
              "      <div>\n",
              "<style scoped>\n",
              "    .dataframe tbody tr th:only-of-type {\n",
              "        vertical-align: middle;\n",
              "    }\n",
              "\n",
              "    .dataframe tbody tr th {\n",
              "        vertical-align: top;\n",
              "    }\n",
              "\n",
              "    .dataframe thead th {\n",
              "        text-align: right;\n",
              "    }\n",
              "</style>\n",
              "<table border=\"1\" class=\"dataframe\">\n",
              "  <thead>\n",
              "    <tr style=\"text-align: right;\">\n",
              "      <th></th>\n",
              "      <th>imovel_tipos_propriedade</th>\n",
              "      <th>imovel_endereco_bairro</th>\n",
              "      <th>imovel_endereco_localizacao_type</th>\n",
              "      <th>imovel_endereco_localizacao_coordinates</th>\n",
              "      <th>imovel_vagasGaragem</th>\n",
              "      <th>imovel_area</th>\n",
              "      <th>imovel_caracteristicas_propriedade</th>\n",
              "      <th>imovel_caracteristicas_condominio</th>\n",
              "      <th>imovel_caracteristicas_entorno</th>\n",
              "      <th>anuncio_tipos_publicacao</th>\n",
              "      <th>anuncio_tipos_listagem</th>\n",
              "      <th>anuncio_valores_venda</th>\n",
              "      <th>anuncio_valores_aluguel</th>\n",
              "      <th>anuncio_valores_condominio</th>\n",
              "      <th>anuncio_valores_iptu</th>\n",
              "      <th>anuncio_descricao</th>\n",
              "    </tr>\n",
              "  </thead>\n",
              "  <tbody>\n",
              "    <tr>\n",
              "      <th>0</th>\n",
              "      <td>Casa</td>\n",
              "      <td>Barra da Tijuca</td>\n",
              "      <td>Point</td>\n",
              "      <td>[-43.3039086, -23.0139692]</td>\n",
              "      <td>4</td>\n",
              "      <td>279</td>\n",
              "      <td>[Área de Serviço, Terraço, Churrasqueira, Quar...</td>\n",
              "      <td>[Churrasqueira, Salão de Jogos, Sauna, Estacio...</td>\n",
              "      <td>[Próximo a Escola Particular, Próximo ao Metrô...</td>\n",
              "      <td>Padrão</td>\n",
              "      <td>Lançamento</td>\n",
              "      <td>2400000.0</td>\n",
              "      <td>0.0</td>\n",
              "      <td>790.0</td>\n",
              "      <td>5700.0</td>\n",
              "      <td>Amplo imóvel para venda com 3 quartos, sendo 1...</td>\n",
              "    </tr>\n",
              "    <tr>\n",
              "      <th>1</th>\n",
              "      <td>Apartamento</td>\n",
              "      <td>Campo Grande</td>\n",
              "      <td>Point</td>\n",
              "      <td>[0, 0]</td>\n",
              "      <td>1</td>\n",
              "      <td>60</td>\n",
              "      <td>[Sauna]</td>\n",
              "      <td>[Elevador, Playground, Salão de Festas, Sistem...</td>\n",
              "      <td>[Próximo ao Shopping, Próximo a Áreas de Lazer...</td>\n",
              "      <td>Padrão</td>\n",
              "      <td>Usado</td>\n",
              "      <td>200000.0</td>\n",
              "      <td>0.0</td>\n",
              "      <td>0.0</td>\n",
              "      <td>0.0</td>\n",
              "      <td>Amplo imóvel para venda com 2 quartos, sendo 0...</td>\n",
              "    </tr>\n",
              "    <tr>\n",
              "      <th>2</th>\n",
              "      <td>Cobertura</td>\n",
              "      <td>Barra da Tijuca</td>\n",
              "      <td>Point</td>\n",
              "      <td>[-43.3037186, -22.9951304]</td>\n",
              "      <td>2</td>\n",
              "      <td>380</td>\n",
              "      <td>[Acessibilidade, Área de Serviço, Sauna, Ambie...</td>\n",
              "      <td>[Sauna, Playground, Quadra Poliesportiva, Salã...</td>\n",
              "      <td>[Próximo a Escola Particular]</td>\n",
              "      <td>Premium</td>\n",
              "      <td>Usado</td>\n",
              "      <td>4400000.0</td>\n",
              "      <td>0.0</td>\n",
              "      <td>1200.0</td>\n",
              "      <td>850.0</td>\n",
              "      <td>Amplo imóvel para venda com 5 quartos, sendo 4...</td>\n",
              "    </tr>\n",
              "    <tr>\n",
              "      <th>3</th>\n",
              "      <td>Cobertura</td>\n",
              "      <td>Barra da Tijuca</td>\n",
              "      <td>Point</td>\n",
              "      <td>[-43.3548121, -23.0097423]</td>\n",
              "      <td>1</td>\n",
              "      <td>73</td>\n",
              "      <td>[Vista Panorâmica, Piscina, Sauna, Closet, Mob...</td>\n",
              "      <td>[Quadra Poliesportiva, Aceita Pet, Playground,...</td>\n",
              "      <td>[Próximo a Farmácia, Próximo a Academia, Próxi...</td>\n",
              "      <td>Padrão</td>\n",
              "      <td>Usado</td>\n",
              "      <td>1100000.0</td>\n",
              "      <td>0.0</td>\n",
              "      <td>1300.0</td>\n",
              "      <td>364.0</td>\n",
              "      <td>Amplo imóvel para venda com 2 quartos, sendo 1...</td>\n",
              "    </tr>\n",
              "    <tr>\n",
              "      <th>4</th>\n",
              "      <td>Sala Comercial</td>\n",
              "      <td>Glória</td>\n",
              "      <td>Point</td>\n",
              "      <td>[-43.1779703, -22.9174894]</td>\n",
              "      <td>1</td>\n",
              "      <td>32</td>\n",
              "      <td>[Armários Planejados]</td>\n",
              "      <td>[Quadra Poliesportiva, Porteiro 24 Horas, Elev...</td>\n",
              "      <td>[Próximo a Centro Empresarial, Próximo a Áreas...</td>\n",
              "      <td>Padrão</td>\n",
              "      <td>Usado</td>\n",
              "      <td>260000.0</td>\n",
              "      <td>0.0</td>\n",
              "      <td>450.0</td>\n",
              "      <td>800.0</td>\n",
              "      <td>Amplo imóvel para venda com 0 quartos, sendo 0...</td>\n",
              "    </tr>\n",
              "    <tr>\n",
              "      <th>...</th>\n",
              "      <td>...</td>\n",
              "      <td>...</td>\n",
              "      <td>...</td>\n",
              "      <td>...</td>\n",
              "      <td>...</td>\n",
              "      <td>...</td>\n",
              "      <td>...</td>\n",
              "      <td>...</td>\n",
              "      <td>...</td>\n",
              "      <td>...</td>\n",
              "      <td>...</td>\n",
              "      <td>...</td>\n",
              "      <td>...</td>\n",
              "      <td>...</td>\n",
              "      <td>...</td>\n",
              "      <td>...</td>\n",
              "    </tr>\n",
              "    <tr>\n",
              "      <th>65</th>\n",
              "      <td>Apartamento</td>\n",
              "      <td>Copacabana</td>\n",
              "      <td>Point</td>\n",
              "      <td>[-43.1943902, -22.9816847]</td>\n",
              "      <td>1</td>\n",
              "      <td>216</td>\n",
              "      <td>[Cozinha Americana, Quarto/WC Empregada, Pisci...</td>\n",
              "      <td>[Elevador, Salão de Festas, Porteiro 24 Horas,...</td>\n",
              "      <td>[Próximo a Farmácia, Próximo a Academia, Próxi...</td>\n",
              "      <td>Padrão</td>\n",
              "      <td>Usado</td>\n",
              "      <td>1800000.0</td>\n",
              "      <td>0.0</td>\n",
              "      <td>2000.0</td>\n",
              "      <td>2300.0</td>\n",
              "      <td>Amplo imóvel para venda com 4 quartos, sendo 2...</td>\n",
              "    </tr>\n",
              "    <tr>\n",
              "      <th>66</th>\n",
              "      <td>Apartamento</td>\n",
              "      <td>Leblon</td>\n",
              "      <td>Point</td>\n",
              "      <td>[-43.2253114, -22.9843603]</td>\n",
              "      <td>1</td>\n",
              "      <td>218</td>\n",
              "      <td>[Piscina, Gás Encanado]</td>\n",
              "      <td>[Academia, Aceita Pet, Sistema de Incêndio, Bi...</td>\n",
              "      <td>[Próximo a Comércio Diversos, Próximo a Centro...</td>\n",
              "      <td>Premium</td>\n",
              "      <td>Usado</td>\n",
              "      <td>4500000.0</td>\n",
              "      <td>0.0</td>\n",
              "      <td>3600.0</td>\n",
              "      <td>7000.0</td>\n",
              "      <td>Amplo imóvel para venda com 3 quartos, sendo 1...</td>\n",
              "    </tr>\n",
              "    <tr>\n",
              "      <th>67</th>\n",
              "      <td>Casa</td>\n",
              "      <td>Copacabana</td>\n",
              "      <td>Point</td>\n",
              "      <td>[-43.1951842, -22.9818646]</td>\n",
              "      <td>0</td>\n",
              "      <td>25</td>\n",
              "      <td>[Closet, Armários Planejados, Quarto/WC Empreg...</td>\n",
              "      <td>[Bicicletário, Sistema de Incêndio, Segurança ...</td>\n",
              "      <td>[]</td>\n",
              "      <td>Destaque</td>\n",
              "      <td>Usado</td>\n",
              "      <td>350000.0</td>\n",
              "      <td>0.0</td>\n",
              "      <td>290.0</td>\n",
              "      <td>182.0</td>\n",
              "      <td>Amplo imóvel para venda com 1 quartos, sendo 0...</td>\n",
              "    </tr>\n",
              "    <tr>\n",
              "      <th>68</th>\n",
              "      <td>Sala Comercial</td>\n",
              "      <td>Cachambi</td>\n",
              "      <td>Point</td>\n",
              "      <td>[-43.2781994, -22.8917611]</td>\n",
              "      <td>2</td>\n",
              "      <td>138</td>\n",
              "      <td>[Gás Encanado, Acessibilidade, Ambientes Integ...</td>\n",
              "      <td>[Playground, Depósito Privativo, Academia, Qua...</td>\n",
              "      <td>[Próximo a Praia, Próximo a Serviços de Saúde,...</td>\n",
              "      <td>Premium</td>\n",
              "      <td>Usado</td>\n",
              "      <td>619000.0</td>\n",
              "      <td>0.0</td>\n",
              "      <td>506.0</td>\n",
              "      <td>1404.0</td>\n",
              "      <td>Amplo imóvel para venda com 3 quartos, sendo 1...</td>\n",
              "    </tr>\n",
              "    <tr>\n",
              "      <th>69</th>\n",
              "      <td>Apartamento</td>\n",
              "      <td>Tijuca</td>\n",
              "      <td>Point</td>\n",
              "      <td>[-43.2356544, -22.9264543]</td>\n",
              "      <td>0</td>\n",
              "      <td>100</td>\n",
              "      <td>[Churrasqueira, Gás Encanado, Quarto/WC Empreg...</td>\n",
              "      <td>[Academia, Quadra Poliesportiva, Sauna, Estaci...</td>\n",
              "      <td>[Próximo a Comércio Diversos, Próximo a Áreas ...</td>\n",
              "      <td>Padrão</td>\n",
              "      <td>Usado</td>\n",
              "      <td>580000.0</td>\n",
              "      <td>0.0</td>\n",
              "      <td>0.0</td>\n",
              "      <td>0.0</td>\n",
              "      <td>Amplo imóvel para venda com 3 quartos, sendo 1...</td>\n",
              "    </tr>\n",
              "  </tbody>\n",
              "</table>\n",
              "<p>70 rows × 16 columns</p>\n",
              "</div>\n",
              "      <button class=\"colab-df-convert\" onclick=\"convertToInteractive('df-4c13919b-b395-415b-94f3-c4dff98570d9')\"\n",
              "              title=\"Convert this dataframe to an interactive table.\"\n",
              "              style=\"display:none;\">\n",
              "        \n",
              "  <svg xmlns=\"http://www.w3.org/2000/svg\" height=\"24px\"viewBox=\"0 0 24 24\"\n",
              "       width=\"24px\">\n",
              "    <path d=\"M0 0h24v24H0V0z\" fill=\"none\"/>\n",
              "    <path d=\"M18.56 5.44l.94 2.06.94-2.06 2.06-.94-2.06-.94-.94-2.06-.94 2.06-2.06.94zm-11 1L8.5 8.5l.94-2.06 2.06-.94-2.06-.94L8.5 2.5l-.94 2.06-2.06.94zm10 10l.94 2.06.94-2.06 2.06-.94-2.06-.94-.94-2.06-.94 2.06-2.06.94z\"/><path d=\"M17.41 7.96l-1.37-1.37c-.4-.4-.92-.59-1.43-.59-.52 0-1.04.2-1.43.59L10.3 9.45l-7.72 7.72c-.78.78-.78 2.05 0 2.83L4 21.41c.39.39.9.59 1.41.59.51 0 1.02-.2 1.41-.59l7.78-7.78 2.81-2.81c.8-.78.8-2.07 0-2.86zM5.41 20L4 18.59l7.72-7.72 1.47 1.35L5.41 20z\"/>\n",
              "  </svg>\n",
              "      </button>\n",
              "      \n",
              "  <style>\n",
              "    .colab-df-container {\n",
              "      display:flex;\n",
              "      flex-wrap:wrap;\n",
              "      gap: 12px;\n",
              "    }\n",
              "\n",
              "    .colab-df-convert {\n",
              "      background-color: #E8F0FE;\n",
              "      border: none;\n",
              "      border-radius: 50%;\n",
              "      cursor: pointer;\n",
              "      display: none;\n",
              "      fill: #1967D2;\n",
              "      height: 32px;\n",
              "      padding: 0 0 0 0;\n",
              "      width: 32px;\n",
              "    }\n",
              "\n",
              "    .colab-df-convert:hover {\n",
              "      background-color: #E2EBFA;\n",
              "      box-shadow: 0px 1px 2px rgba(60, 64, 67, 0.3), 0px 1px 3px 1px rgba(60, 64, 67, 0.15);\n",
              "      fill: #174EA6;\n",
              "    }\n",
              "\n",
              "    [theme=dark] .colab-df-convert {\n",
              "      background-color: #3B4455;\n",
              "      fill: #D2E3FC;\n",
              "    }\n",
              "\n",
              "    [theme=dark] .colab-df-convert:hover {\n",
              "      background-color: #434B5C;\n",
              "      box-shadow: 0px 1px 3px 1px rgba(0, 0, 0, 0.15);\n",
              "      filter: drop-shadow(0px 1px 2px rgba(0, 0, 0, 0.3));\n",
              "      fill: #FFFFFF;\n",
              "    }\n",
              "  </style>\n",
              "\n",
              "      <script>\n",
              "        const buttonEl =\n",
              "          document.querySelector('#df-4c13919b-b395-415b-94f3-c4dff98570d9 button.colab-df-convert');\n",
              "        buttonEl.style.display =\n",
              "          google.colab.kernel.accessAllowed ? 'block' : 'none';\n",
              "\n",
              "        async function convertToInteractive(key) {\n",
              "          const element = document.querySelector('#df-4c13919b-b395-415b-94f3-c4dff98570d9');\n",
              "          const dataTable =\n",
              "            await google.colab.kernel.invokeFunction('convertToInteractive',\n",
              "                                                     [key], {});\n",
              "          if (!dataTable) return;\n",
              "\n",
              "          const docLinkHtml = 'Like what you see? Visit the ' +\n",
              "            '<a target=\"_blank\" href=https://colab.research.google.com/notebooks/data_table.ipynb>data table notebook</a>'\n",
              "            + ' to learn more about interactive tables.';\n",
              "          element.innerHTML = '';\n",
              "          dataTable['output_type'] = 'display_data';\n",
              "          await google.colab.output.renderOutput(dataTable, element);\n",
              "          const docLink = document.createElement('div');\n",
              "          docLink.innerHTML = docLinkHtml;\n",
              "          element.appendChild(docLink);\n",
              "        }\n",
              "      </script>\n",
              "    </div>\n",
              "  </div>\n",
              "  "
            ]
          },
          "metadata": {},
          "execution_count": 87
        }
      ],
      "source": [
        "dados_normal_listings.append(dados_highlights_listings, ignore_index=True)"
      ]
    },
    {
      "cell_type": "code",
      "execution_count": null,
      "metadata": {
        "id": "bbBmb6dRevgd"
      },
      "outputs": [],
      "source": [
        "dados_listings = dados_normal_listings.append(dados_highlights_listings, ignore_index=True)\n",
        "dados_listings"
      ]
    },
    {
      "cell_type": "code",
      "execution_count": null,
      "metadata": {
        "id": "i9p8pJONevgd",
        "scrolled": true
      },
      "outputs": [],
      "source": [
        ""
      ]
    },
    {
      "cell_type": "markdown",
      "metadata": {
        "id": "r2--u5uMevgd"
      },
      "source": [
        "### `concat`\n",
        "\n",
        "[Documentação](https://pandas.pydata.org/pandas-docs/stable/reference/api/pandas.concat.html)"
      ]
    },
    {
      "cell_type": "code",
      "execution_count": null,
      "metadata": {
        "id": "Slce5RQdevge"
      },
      "outputs": [],
      "source": [
        "dados_listings = pd.concat([dados_normal_listings, dados_highlights_listings])\n",
        "dados_listings"
      ]
    },
    {
      "cell_type": "code",
      "execution_count": 92,
      "metadata": {
        "id": "44uiNz8Oevge",
        "colab": {
          "base_uri": "https://localhost:8080/",
          "height": 835
        },
        "outputId": "7a05841d-5453-40af-bd90-a70079e2dce4"
      },
      "outputs": [
        {
          "output_type": "execute_result",
          "data": {
            "text/plain": [
              "   imovel_tipos_propriedade imovel_endereco_bairro  \\\n",
              "0                      Casa        Barra da Tijuca   \n",
              "1               Apartamento           Campo Grande   \n",
              "2                 Cobertura        Barra da Tijuca   \n",
              "3                 Cobertura        Barra da Tijuca   \n",
              "4            Sala Comercial                 Glória   \n",
              "..                      ...                    ...   \n",
              "65              Apartamento             Copacabana   \n",
              "66              Apartamento                 Leblon   \n",
              "67                     Casa             Copacabana   \n",
              "68           Sala Comercial               Cachambi   \n",
              "69              Apartamento                 Tijuca   \n",
              "\n",
              "   imovel_endereco_localizacao_type imovel_endereco_localizacao_coordinates  \\\n",
              "0                             Point              [-43.3039086, -23.0139692]   \n",
              "1                             Point                                  [0, 0]   \n",
              "2                             Point              [-43.3037186, -22.9951304]   \n",
              "3                             Point              [-43.3548121, -23.0097423]   \n",
              "4                             Point              [-43.1779703, -22.9174894]   \n",
              "..                              ...                                     ...   \n",
              "65                            Point              [-43.1943902, -22.9816847]   \n",
              "66                            Point              [-43.2253114, -22.9843603]   \n",
              "67                            Point              [-43.1951842, -22.9818646]   \n",
              "68                            Point              [-43.2781994, -22.8917611]   \n",
              "69                            Point              [-43.2356544, -22.9264543]   \n",
              "\n",
              "    imovel_vagasGaragem  imovel_area  \\\n",
              "0                     4          279   \n",
              "1                     1           60   \n",
              "2                     2          380   \n",
              "3                     1           73   \n",
              "4                     1           32   \n",
              "..                  ...          ...   \n",
              "65                    1          216   \n",
              "66                    1          218   \n",
              "67                    0           25   \n",
              "68                    2          138   \n",
              "69                    0          100   \n",
              "\n",
              "                   imovel_caracteristicas_propriedade  \\\n",
              "0   [Área de Serviço, Terraço, Churrasqueira, Quar...   \n",
              "1                                             [Sauna]   \n",
              "2   [Acessibilidade, Área de Serviço, Sauna, Ambie...   \n",
              "3   [Vista Panorâmica, Piscina, Sauna, Closet, Mob...   \n",
              "4                               [Armários Planejados]   \n",
              "..                                                ...   \n",
              "65  [Cozinha Americana, Quarto/WC Empregada, Pisci...   \n",
              "66                            [Piscina, Gás Encanado]   \n",
              "67  [Closet, Armários Planejados, Quarto/WC Empreg...   \n",
              "68  [Gás Encanado, Acessibilidade, Ambientes Integ...   \n",
              "69  [Churrasqueira, Gás Encanado, Quarto/WC Empreg...   \n",
              "\n",
              "                    imovel_caracteristicas_condominio  \\\n",
              "0   [Churrasqueira, Salão de Jogos, Sauna, Estacio...   \n",
              "1   [Elevador, Playground, Salão de Festas, Sistem...   \n",
              "2   [Sauna, Playground, Quadra Poliesportiva, Salã...   \n",
              "3   [Quadra Poliesportiva, Aceita Pet, Playground,...   \n",
              "4   [Quadra Poliesportiva, Porteiro 24 Horas, Elev...   \n",
              "..                                                ...   \n",
              "65  [Elevador, Salão de Festas, Porteiro 24 Horas,...   \n",
              "66  [Academia, Aceita Pet, Sistema de Incêndio, Bi...   \n",
              "67  [Bicicletário, Sistema de Incêndio, Segurança ...   \n",
              "68  [Playground, Depósito Privativo, Academia, Qua...   \n",
              "69  [Academia, Quadra Poliesportiva, Sauna, Estaci...   \n",
              "\n",
              "                       imovel_caracteristicas_entorno  \\\n",
              "0   [Próximo a Escola Particular, Próximo ao Metrô...   \n",
              "1   [Próximo ao Shopping, Próximo a Áreas de Lazer...   \n",
              "2                       [Próximo a Escola Particular]   \n",
              "3   [Próximo a Farmácia, Próximo a Academia, Próxi...   \n",
              "4   [Próximo a Centro Empresarial, Próximo a Áreas...   \n",
              "..                                                ...   \n",
              "65  [Próximo a Farmácia, Próximo a Academia, Próxi...   \n",
              "66  [Próximo a Comércio Diversos, Próximo a Centro...   \n",
              "67                                                 []   \n",
              "68  [Próximo a Praia, Próximo a Serviços de Saúde,...   \n",
              "69  [Próximo a Comércio Diversos, Próximo a Áreas ...   \n",
              "\n",
              "   anuncio_tipos_publicacao anuncio_tipos_listagem  anuncio_valores_venda  \\\n",
              "0                    Padrão             Lançamento              2400000.0   \n",
              "1                    Padrão                  Usado               200000.0   \n",
              "2                   Premium                  Usado              4400000.0   \n",
              "3                    Padrão                  Usado              1100000.0   \n",
              "4                    Padrão                  Usado               260000.0   \n",
              "..                      ...                    ...                    ...   \n",
              "65                   Padrão                  Usado              1800000.0   \n",
              "66                  Premium                  Usado              4500000.0   \n",
              "67                 Destaque                  Usado               350000.0   \n",
              "68                  Premium                  Usado               619000.0   \n",
              "69                   Padrão                  Usado               580000.0   \n",
              "\n",
              "    anuncio_valores_aluguel  anuncio_valores_condominio  anuncio_valores_iptu  \\\n",
              "0                       0.0                       790.0                5700.0   \n",
              "1                       0.0                         0.0                   0.0   \n",
              "2                       0.0                      1200.0                 850.0   \n",
              "3                       0.0                      1300.0                 364.0   \n",
              "4                       0.0                       450.0                 800.0   \n",
              "..                      ...                         ...                   ...   \n",
              "65                      0.0                      2000.0                2300.0   \n",
              "66                      0.0                      3600.0                7000.0   \n",
              "67                      0.0                       290.0                 182.0   \n",
              "68                      0.0                       506.0                1404.0   \n",
              "69                      0.0                         0.0                   0.0   \n",
              "\n",
              "                                    anuncio_descricao  \n",
              "0   Amplo imóvel para venda com 3 quartos, sendo 1...  \n",
              "1   Amplo imóvel para venda com 2 quartos, sendo 0...  \n",
              "2   Amplo imóvel para venda com 5 quartos, sendo 4...  \n",
              "3   Amplo imóvel para venda com 2 quartos, sendo 1...  \n",
              "4   Amplo imóvel para venda com 0 quartos, sendo 0...  \n",
              "..                                                ...  \n",
              "65  Amplo imóvel para venda com 4 quartos, sendo 2...  \n",
              "66  Amplo imóvel para venda com 3 quartos, sendo 1...  \n",
              "67  Amplo imóvel para venda com 1 quartos, sendo 0...  \n",
              "68  Amplo imóvel para venda com 3 quartos, sendo 1...  \n",
              "69  Amplo imóvel para venda com 3 quartos, sendo 1...  \n",
              "\n",
              "[70 rows x 16 columns]"
            ],
            "text/html": [
              "\n",
              "  <div id=\"df-5a8a169f-4049-4bc3-9dba-03200e737124\">\n",
              "    <div class=\"colab-df-container\">\n",
              "      <div>\n",
              "<style scoped>\n",
              "    .dataframe tbody tr th:only-of-type {\n",
              "        vertical-align: middle;\n",
              "    }\n",
              "\n",
              "    .dataframe tbody tr th {\n",
              "        vertical-align: top;\n",
              "    }\n",
              "\n",
              "    .dataframe thead th {\n",
              "        text-align: right;\n",
              "    }\n",
              "</style>\n",
              "<table border=\"1\" class=\"dataframe\">\n",
              "  <thead>\n",
              "    <tr style=\"text-align: right;\">\n",
              "      <th></th>\n",
              "      <th>imovel_tipos_propriedade</th>\n",
              "      <th>imovel_endereco_bairro</th>\n",
              "      <th>imovel_endereco_localizacao_type</th>\n",
              "      <th>imovel_endereco_localizacao_coordinates</th>\n",
              "      <th>imovel_vagasGaragem</th>\n",
              "      <th>imovel_area</th>\n",
              "      <th>imovel_caracteristicas_propriedade</th>\n",
              "      <th>imovel_caracteristicas_condominio</th>\n",
              "      <th>imovel_caracteristicas_entorno</th>\n",
              "      <th>anuncio_tipos_publicacao</th>\n",
              "      <th>anuncio_tipos_listagem</th>\n",
              "      <th>anuncio_valores_venda</th>\n",
              "      <th>anuncio_valores_aluguel</th>\n",
              "      <th>anuncio_valores_condominio</th>\n",
              "      <th>anuncio_valores_iptu</th>\n",
              "      <th>anuncio_descricao</th>\n",
              "    </tr>\n",
              "  </thead>\n",
              "  <tbody>\n",
              "    <tr>\n",
              "      <th>0</th>\n",
              "      <td>Casa</td>\n",
              "      <td>Barra da Tijuca</td>\n",
              "      <td>Point</td>\n",
              "      <td>[-43.3039086, -23.0139692]</td>\n",
              "      <td>4</td>\n",
              "      <td>279</td>\n",
              "      <td>[Área de Serviço, Terraço, Churrasqueira, Quar...</td>\n",
              "      <td>[Churrasqueira, Salão de Jogos, Sauna, Estacio...</td>\n",
              "      <td>[Próximo a Escola Particular, Próximo ao Metrô...</td>\n",
              "      <td>Padrão</td>\n",
              "      <td>Lançamento</td>\n",
              "      <td>2400000.0</td>\n",
              "      <td>0.0</td>\n",
              "      <td>790.0</td>\n",
              "      <td>5700.0</td>\n",
              "      <td>Amplo imóvel para venda com 3 quartos, sendo 1...</td>\n",
              "    </tr>\n",
              "    <tr>\n",
              "      <th>1</th>\n",
              "      <td>Apartamento</td>\n",
              "      <td>Campo Grande</td>\n",
              "      <td>Point</td>\n",
              "      <td>[0, 0]</td>\n",
              "      <td>1</td>\n",
              "      <td>60</td>\n",
              "      <td>[Sauna]</td>\n",
              "      <td>[Elevador, Playground, Salão de Festas, Sistem...</td>\n",
              "      <td>[Próximo ao Shopping, Próximo a Áreas de Lazer...</td>\n",
              "      <td>Padrão</td>\n",
              "      <td>Usado</td>\n",
              "      <td>200000.0</td>\n",
              "      <td>0.0</td>\n",
              "      <td>0.0</td>\n",
              "      <td>0.0</td>\n",
              "      <td>Amplo imóvel para venda com 2 quartos, sendo 0...</td>\n",
              "    </tr>\n",
              "    <tr>\n",
              "      <th>2</th>\n",
              "      <td>Cobertura</td>\n",
              "      <td>Barra da Tijuca</td>\n",
              "      <td>Point</td>\n",
              "      <td>[-43.3037186, -22.9951304]</td>\n",
              "      <td>2</td>\n",
              "      <td>380</td>\n",
              "      <td>[Acessibilidade, Área de Serviço, Sauna, Ambie...</td>\n",
              "      <td>[Sauna, Playground, Quadra Poliesportiva, Salã...</td>\n",
              "      <td>[Próximo a Escola Particular]</td>\n",
              "      <td>Premium</td>\n",
              "      <td>Usado</td>\n",
              "      <td>4400000.0</td>\n",
              "      <td>0.0</td>\n",
              "      <td>1200.0</td>\n",
              "      <td>850.0</td>\n",
              "      <td>Amplo imóvel para venda com 5 quartos, sendo 4...</td>\n",
              "    </tr>\n",
              "    <tr>\n",
              "      <th>3</th>\n",
              "      <td>Cobertura</td>\n",
              "      <td>Barra da Tijuca</td>\n",
              "      <td>Point</td>\n",
              "      <td>[-43.3548121, -23.0097423]</td>\n",
              "      <td>1</td>\n",
              "      <td>73</td>\n",
              "      <td>[Vista Panorâmica, Piscina, Sauna, Closet, Mob...</td>\n",
              "      <td>[Quadra Poliesportiva, Aceita Pet, Playground,...</td>\n",
              "      <td>[Próximo a Farmácia, Próximo a Academia, Próxi...</td>\n",
              "      <td>Padrão</td>\n",
              "      <td>Usado</td>\n",
              "      <td>1100000.0</td>\n",
              "      <td>0.0</td>\n",
              "      <td>1300.0</td>\n",
              "      <td>364.0</td>\n",
              "      <td>Amplo imóvel para venda com 2 quartos, sendo 1...</td>\n",
              "    </tr>\n",
              "    <tr>\n",
              "      <th>4</th>\n",
              "      <td>Sala Comercial</td>\n",
              "      <td>Glória</td>\n",
              "      <td>Point</td>\n",
              "      <td>[-43.1779703, -22.9174894]</td>\n",
              "      <td>1</td>\n",
              "      <td>32</td>\n",
              "      <td>[Armários Planejados]</td>\n",
              "      <td>[Quadra Poliesportiva, Porteiro 24 Horas, Elev...</td>\n",
              "      <td>[Próximo a Centro Empresarial, Próximo a Áreas...</td>\n",
              "      <td>Padrão</td>\n",
              "      <td>Usado</td>\n",
              "      <td>260000.0</td>\n",
              "      <td>0.0</td>\n",
              "      <td>450.0</td>\n",
              "      <td>800.0</td>\n",
              "      <td>Amplo imóvel para venda com 0 quartos, sendo 0...</td>\n",
              "    </tr>\n",
              "    <tr>\n",
              "      <th>...</th>\n",
              "      <td>...</td>\n",
              "      <td>...</td>\n",
              "      <td>...</td>\n",
              "      <td>...</td>\n",
              "      <td>...</td>\n",
              "      <td>...</td>\n",
              "      <td>...</td>\n",
              "      <td>...</td>\n",
              "      <td>...</td>\n",
              "      <td>...</td>\n",
              "      <td>...</td>\n",
              "      <td>...</td>\n",
              "      <td>...</td>\n",
              "      <td>...</td>\n",
              "      <td>...</td>\n",
              "      <td>...</td>\n",
              "    </tr>\n",
              "    <tr>\n",
              "      <th>65</th>\n",
              "      <td>Apartamento</td>\n",
              "      <td>Copacabana</td>\n",
              "      <td>Point</td>\n",
              "      <td>[-43.1943902, -22.9816847]</td>\n",
              "      <td>1</td>\n",
              "      <td>216</td>\n",
              "      <td>[Cozinha Americana, Quarto/WC Empregada, Pisci...</td>\n",
              "      <td>[Elevador, Salão de Festas, Porteiro 24 Horas,...</td>\n",
              "      <td>[Próximo a Farmácia, Próximo a Academia, Próxi...</td>\n",
              "      <td>Padrão</td>\n",
              "      <td>Usado</td>\n",
              "      <td>1800000.0</td>\n",
              "      <td>0.0</td>\n",
              "      <td>2000.0</td>\n",
              "      <td>2300.0</td>\n",
              "      <td>Amplo imóvel para venda com 4 quartos, sendo 2...</td>\n",
              "    </tr>\n",
              "    <tr>\n",
              "      <th>66</th>\n",
              "      <td>Apartamento</td>\n",
              "      <td>Leblon</td>\n",
              "      <td>Point</td>\n",
              "      <td>[-43.2253114, -22.9843603]</td>\n",
              "      <td>1</td>\n",
              "      <td>218</td>\n",
              "      <td>[Piscina, Gás Encanado]</td>\n",
              "      <td>[Academia, Aceita Pet, Sistema de Incêndio, Bi...</td>\n",
              "      <td>[Próximo a Comércio Diversos, Próximo a Centro...</td>\n",
              "      <td>Premium</td>\n",
              "      <td>Usado</td>\n",
              "      <td>4500000.0</td>\n",
              "      <td>0.0</td>\n",
              "      <td>3600.0</td>\n",
              "      <td>7000.0</td>\n",
              "      <td>Amplo imóvel para venda com 3 quartos, sendo 1...</td>\n",
              "    </tr>\n",
              "    <tr>\n",
              "      <th>67</th>\n",
              "      <td>Casa</td>\n",
              "      <td>Copacabana</td>\n",
              "      <td>Point</td>\n",
              "      <td>[-43.1951842, -22.9818646]</td>\n",
              "      <td>0</td>\n",
              "      <td>25</td>\n",
              "      <td>[Closet, Armários Planejados, Quarto/WC Empreg...</td>\n",
              "      <td>[Bicicletário, Sistema de Incêndio, Segurança ...</td>\n",
              "      <td>[]</td>\n",
              "      <td>Destaque</td>\n",
              "      <td>Usado</td>\n",
              "      <td>350000.0</td>\n",
              "      <td>0.0</td>\n",
              "      <td>290.0</td>\n",
              "      <td>182.0</td>\n",
              "      <td>Amplo imóvel para venda com 1 quartos, sendo 0...</td>\n",
              "    </tr>\n",
              "    <tr>\n",
              "      <th>68</th>\n",
              "      <td>Sala Comercial</td>\n",
              "      <td>Cachambi</td>\n",
              "      <td>Point</td>\n",
              "      <td>[-43.2781994, -22.8917611]</td>\n",
              "      <td>2</td>\n",
              "      <td>138</td>\n",
              "      <td>[Gás Encanado, Acessibilidade, Ambientes Integ...</td>\n",
              "      <td>[Playground, Depósito Privativo, Academia, Qua...</td>\n",
              "      <td>[Próximo a Praia, Próximo a Serviços de Saúde,...</td>\n",
              "      <td>Premium</td>\n",
              "      <td>Usado</td>\n",
              "      <td>619000.0</td>\n",
              "      <td>0.0</td>\n",
              "      <td>506.0</td>\n",
              "      <td>1404.0</td>\n",
              "      <td>Amplo imóvel para venda com 3 quartos, sendo 1...</td>\n",
              "    </tr>\n",
              "    <tr>\n",
              "      <th>69</th>\n",
              "      <td>Apartamento</td>\n",
              "      <td>Tijuca</td>\n",
              "      <td>Point</td>\n",
              "      <td>[-43.2356544, -22.9264543]</td>\n",
              "      <td>0</td>\n",
              "      <td>100</td>\n",
              "      <td>[Churrasqueira, Gás Encanado, Quarto/WC Empreg...</td>\n",
              "      <td>[Academia, Quadra Poliesportiva, Sauna, Estaci...</td>\n",
              "      <td>[Próximo a Comércio Diversos, Próximo a Áreas ...</td>\n",
              "      <td>Padrão</td>\n",
              "      <td>Usado</td>\n",
              "      <td>580000.0</td>\n",
              "      <td>0.0</td>\n",
              "      <td>0.0</td>\n",
              "      <td>0.0</td>\n",
              "      <td>Amplo imóvel para venda com 3 quartos, sendo 1...</td>\n",
              "    </tr>\n",
              "  </tbody>\n",
              "</table>\n",
              "<p>70 rows × 16 columns</p>\n",
              "</div>\n",
              "      <button class=\"colab-df-convert\" onclick=\"convertToInteractive('df-5a8a169f-4049-4bc3-9dba-03200e737124')\"\n",
              "              title=\"Convert this dataframe to an interactive table.\"\n",
              "              style=\"display:none;\">\n",
              "        \n",
              "  <svg xmlns=\"http://www.w3.org/2000/svg\" height=\"24px\"viewBox=\"0 0 24 24\"\n",
              "       width=\"24px\">\n",
              "    <path d=\"M0 0h24v24H0V0z\" fill=\"none\"/>\n",
              "    <path d=\"M18.56 5.44l.94 2.06.94-2.06 2.06-.94-2.06-.94-.94-2.06-.94 2.06-2.06.94zm-11 1L8.5 8.5l.94-2.06 2.06-.94-2.06-.94L8.5 2.5l-.94 2.06-2.06.94zm10 10l.94 2.06.94-2.06 2.06-.94-2.06-.94-.94-2.06-.94 2.06-2.06.94z\"/><path d=\"M17.41 7.96l-1.37-1.37c-.4-.4-.92-.59-1.43-.59-.52 0-1.04.2-1.43.59L10.3 9.45l-7.72 7.72c-.78.78-.78 2.05 0 2.83L4 21.41c.39.39.9.59 1.41.59.51 0 1.02-.2 1.41-.59l7.78-7.78 2.81-2.81c.8-.78.8-2.07 0-2.86zM5.41 20L4 18.59l7.72-7.72 1.47 1.35L5.41 20z\"/>\n",
              "  </svg>\n",
              "      </button>\n",
              "      \n",
              "  <style>\n",
              "    .colab-df-container {\n",
              "      display:flex;\n",
              "      flex-wrap:wrap;\n",
              "      gap: 12px;\n",
              "    }\n",
              "\n",
              "    .colab-df-convert {\n",
              "      background-color: #E8F0FE;\n",
              "      border: none;\n",
              "      border-radius: 50%;\n",
              "      cursor: pointer;\n",
              "      display: none;\n",
              "      fill: #1967D2;\n",
              "      height: 32px;\n",
              "      padding: 0 0 0 0;\n",
              "      width: 32px;\n",
              "    }\n",
              "\n",
              "    .colab-df-convert:hover {\n",
              "      background-color: #E2EBFA;\n",
              "      box-shadow: 0px 1px 2px rgba(60, 64, 67, 0.3), 0px 1px 3px 1px rgba(60, 64, 67, 0.15);\n",
              "      fill: #174EA6;\n",
              "    }\n",
              "\n",
              "    [theme=dark] .colab-df-convert {\n",
              "      background-color: #3B4455;\n",
              "      fill: #D2E3FC;\n",
              "    }\n",
              "\n",
              "    [theme=dark] .colab-df-convert:hover {\n",
              "      background-color: #434B5C;\n",
              "      box-shadow: 0px 1px 3px 1px rgba(0, 0, 0, 0.15);\n",
              "      filter: drop-shadow(0px 1px 2px rgba(0, 0, 0, 0.3));\n",
              "      fill: #FFFFFF;\n",
              "    }\n",
              "  </style>\n",
              "\n",
              "      <script>\n",
              "        const buttonEl =\n",
              "          document.querySelector('#df-5a8a169f-4049-4bc3-9dba-03200e737124 button.colab-df-convert');\n",
              "        buttonEl.style.display =\n",
              "          google.colab.kernel.accessAllowed ? 'block' : 'none';\n",
              "\n",
              "        async function convertToInteractive(key) {\n",
              "          const element = document.querySelector('#df-5a8a169f-4049-4bc3-9dba-03200e737124');\n",
              "          const dataTable =\n",
              "            await google.colab.kernel.invokeFunction('convertToInteractive',\n",
              "                                                     [key], {});\n",
              "          if (!dataTable) return;\n",
              "\n",
              "          const docLinkHtml = 'Like what you see? Visit the ' +\n",
              "            '<a target=\"_blank\" href=https://colab.research.google.com/notebooks/data_table.ipynb>data table notebook</a>'\n",
              "            + ' to learn more about interactive tables.';\n",
              "          element.innerHTML = '';\n",
              "          dataTable['output_type'] = 'display_data';\n",
              "          await google.colab.output.renderOutput(dataTable, element);\n",
              "          const docLink = document.createElement('div');\n",
              "          docLink.innerHTML = docLinkHtml;\n",
              "          element.appendChild(docLink);\n",
              "        }\n",
              "      </script>\n",
              "    </div>\n",
              "  </div>\n",
              "  "
            ]
          },
          "metadata": {},
          "execution_count": 92
        }
      ],
      "source": [
        "dados_listings = pd.concat([dados_normal_listings, dados_highlights_listings], ignore_index=True)\n",
        "dados_listings"
      ]
    },
    {
      "cell_type": "markdown",
      "metadata": {
        "id": "GJbtme1Gevge"
      },
      "source": [
        "## Combinando *DataFrames* a partir de uma chave de ligação"
      ]
    },
    {
      "cell_type": "code",
      "execution_count": 93,
      "metadata": {
        "id": "-wKGhtQ0evge",
        "colab": {
          "base_uri": "https://localhost:8080/",
          "height": 245
        },
        "outputId": "48d9001c-bb68-4877-ac52-79a6660b36c3"
      },
      "outputs": [
        {
          "output_type": "execute_result",
          "data": {
            "text/plain": [
              "  imovel_tipos_propriedade imovel_endereco_bairro  \\\n",
              "0                     Casa        Barra da Tijuca   \n",
              "1              Apartamento           Campo Grande   \n",
              "\n",
              "  imovel_endereco_localizacao_type imovel_endereco_localizacao_coordinates  \\\n",
              "0                            Point              [-43.3039086, -23.0139692]   \n",
              "1                            Point                                  [0, 0]   \n",
              "\n",
              "   imovel_vagasGaragem  imovel_area  \\\n",
              "0                    4          279   \n",
              "1                    1           60   \n",
              "\n",
              "                  imovel_caracteristicas_propriedade  \\\n",
              "0  [Área de Serviço, Terraço, Churrasqueira, Quar...   \n",
              "1                                            [Sauna]   \n",
              "\n",
              "                   imovel_caracteristicas_condominio  \\\n",
              "0  [Churrasqueira, Salão de Jogos, Sauna, Estacio...   \n",
              "1  [Elevador, Playground, Salão de Festas, Sistem...   \n",
              "\n",
              "                      imovel_caracteristicas_entorno anuncio_tipos_publicacao  \\\n",
              "0  [Próximo a Escola Particular, Próximo ao Metrô...                   Padrão   \n",
              "1  [Próximo ao Shopping, Próximo a Áreas de Lazer...                   Padrão   \n",
              "\n",
              "  anuncio_tipos_listagem  anuncio_valores_venda  anuncio_valores_aluguel  \\\n",
              "0             Lançamento              2400000.0                      0.0   \n",
              "1                  Usado               200000.0                      0.0   \n",
              "\n",
              "   anuncio_valores_condominio  anuncio_valores_iptu  \\\n",
              "0                       790.0                5700.0   \n",
              "1                         0.0                   0.0   \n",
              "\n",
              "                                   anuncio_descricao  \n",
              "0  Amplo imóvel para venda com 3 quartos, sendo 1...  \n",
              "1  Amplo imóvel para venda com 2 quartos, sendo 0...  "
            ],
            "text/html": [
              "\n",
              "  <div id=\"df-4892575f-f956-4737-9002-c94601a372ed\">\n",
              "    <div class=\"colab-df-container\">\n",
              "      <div>\n",
              "<style scoped>\n",
              "    .dataframe tbody tr th:only-of-type {\n",
              "        vertical-align: middle;\n",
              "    }\n",
              "\n",
              "    .dataframe tbody tr th {\n",
              "        vertical-align: top;\n",
              "    }\n",
              "\n",
              "    .dataframe thead th {\n",
              "        text-align: right;\n",
              "    }\n",
              "</style>\n",
              "<table border=\"1\" class=\"dataframe\">\n",
              "  <thead>\n",
              "    <tr style=\"text-align: right;\">\n",
              "      <th></th>\n",
              "      <th>imovel_tipos_propriedade</th>\n",
              "      <th>imovel_endereco_bairro</th>\n",
              "      <th>imovel_endereco_localizacao_type</th>\n",
              "      <th>imovel_endereco_localizacao_coordinates</th>\n",
              "      <th>imovel_vagasGaragem</th>\n",
              "      <th>imovel_area</th>\n",
              "      <th>imovel_caracteristicas_propriedade</th>\n",
              "      <th>imovel_caracteristicas_condominio</th>\n",
              "      <th>imovel_caracteristicas_entorno</th>\n",
              "      <th>anuncio_tipos_publicacao</th>\n",
              "      <th>anuncio_tipos_listagem</th>\n",
              "      <th>anuncio_valores_venda</th>\n",
              "      <th>anuncio_valores_aluguel</th>\n",
              "      <th>anuncio_valores_condominio</th>\n",
              "      <th>anuncio_valores_iptu</th>\n",
              "      <th>anuncio_descricao</th>\n",
              "    </tr>\n",
              "  </thead>\n",
              "  <tbody>\n",
              "    <tr>\n",
              "      <th>0</th>\n",
              "      <td>Casa</td>\n",
              "      <td>Barra da Tijuca</td>\n",
              "      <td>Point</td>\n",
              "      <td>[-43.3039086, -23.0139692]</td>\n",
              "      <td>4</td>\n",
              "      <td>279</td>\n",
              "      <td>[Área de Serviço, Terraço, Churrasqueira, Quar...</td>\n",
              "      <td>[Churrasqueira, Salão de Jogos, Sauna, Estacio...</td>\n",
              "      <td>[Próximo a Escola Particular, Próximo ao Metrô...</td>\n",
              "      <td>Padrão</td>\n",
              "      <td>Lançamento</td>\n",
              "      <td>2400000.0</td>\n",
              "      <td>0.0</td>\n",
              "      <td>790.0</td>\n",
              "      <td>5700.0</td>\n",
              "      <td>Amplo imóvel para venda com 3 quartos, sendo 1...</td>\n",
              "    </tr>\n",
              "    <tr>\n",
              "      <th>1</th>\n",
              "      <td>Apartamento</td>\n",
              "      <td>Campo Grande</td>\n",
              "      <td>Point</td>\n",
              "      <td>[0, 0]</td>\n",
              "      <td>1</td>\n",
              "      <td>60</td>\n",
              "      <td>[Sauna]</td>\n",
              "      <td>[Elevador, Playground, Salão de Festas, Sistem...</td>\n",
              "      <td>[Próximo ao Shopping, Próximo a Áreas de Lazer...</td>\n",
              "      <td>Padrão</td>\n",
              "      <td>Usado</td>\n",
              "      <td>200000.0</td>\n",
              "      <td>0.0</td>\n",
              "      <td>0.0</td>\n",
              "      <td>0.0</td>\n",
              "      <td>Amplo imóvel para venda com 2 quartos, sendo 0...</td>\n",
              "    </tr>\n",
              "  </tbody>\n",
              "</table>\n",
              "</div>\n",
              "      <button class=\"colab-df-convert\" onclick=\"convertToInteractive('df-4892575f-f956-4737-9002-c94601a372ed')\"\n",
              "              title=\"Convert this dataframe to an interactive table.\"\n",
              "              style=\"display:none;\">\n",
              "        \n",
              "  <svg xmlns=\"http://www.w3.org/2000/svg\" height=\"24px\"viewBox=\"0 0 24 24\"\n",
              "       width=\"24px\">\n",
              "    <path d=\"M0 0h24v24H0V0z\" fill=\"none\"/>\n",
              "    <path d=\"M18.56 5.44l.94 2.06.94-2.06 2.06-.94-2.06-.94-.94-2.06-.94 2.06-2.06.94zm-11 1L8.5 8.5l.94-2.06 2.06-.94-2.06-.94L8.5 2.5l-.94 2.06-2.06.94zm10 10l.94 2.06.94-2.06 2.06-.94-2.06-.94-.94-2.06-.94 2.06-2.06.94z\"/><path d=\"M17.41 7.96l-1.37-1.37c-.4-.4-.92-.59-1.43-.59-.52 0-1.04.2-1.43.59L10.3 9.45l-7.72 7.72c-.78.78-.78 2.05 0 2.83L4 21.41c.39.39.9.59 1.41.59.51 0 1.02-.2 1.41-.59l7.78-7.78 2.81-2.81c.8-.78.8-2.07 0-2.86zM5.41 20L4 18.59l7.72-7.72 1.47 1.35L5.41 20z\"/>\n",
              "  </svg>\n",
              "      </button>\n",
              "      \n",
              "  <style>\n",
              "    .colab-df-container {\n",
              "      display:flex;\n",
              "      flex-wrap:wrap;\n",
              "      gap: 12px;\n",
              "    }\n",
              "\n",
              "    .colab-df-convert {\n",
              "      background-color: #E8F0FE;\n",
              "      border: none;\n",
              "      border-radius: 50%;\n",
              "      cursor: pointer;\n",
              "      display: none;\n",
              "      fill: #1967D2;\n",
              "      height: 32px;\n",
              "      padding: 0 0 0 0;\n",
              "      width: 32px;\n",
              "    }\n",
              "\n",
              "    .colab-df-convert:hover {\n",
              "      background-color: #E2EBFA;\n",
              "      box-shadow: 0px 1px 2px rgba(60, 64, 67, 0.3), 0px 1px 3px 1px rgba(60, 64, 67, 0.15);\n",
              "      fill: #174EA6;\n",
              "    }\n",
              "\n",
              "    [theme=dark] .colab-df-convert {\n",
              "      background-color: #3B4455;\n",
              "      fill: #D2E3FC;\n",
              "    }\n",
              "\n",
              "    [theme=dark] .colab-df-convert:hover {\n",
              "      background-color: #434B5C;\n",
              "      box-shadow: 0px 1px 3px 1px rgba(0, 0, 0, 0.15);\n",
              "      filter: drop-shadow(0px 1px 2px rgba(0, 0, 0, 0.3));\n",
              "      fill: #FFFFFF;\n",
              "    }\n",
              "  </style>\n",
              "\n",
              "      <script>\n",
              "        const buttonEl =\n",
              "          document.querySelector('#df-4892575f-f956-4737-9002-c94601a372ed button.colab-df-convert');\n",
              "        buttonEl.style.display =\n",
              "          google.colab.kernel.accessAllowed ? 'block' : 'none';\n",
              "\n",
              "        async function convertToInteractive(key) {\n",
              "          const element = document.querySelector('#df-4892575f-f956-4737-9002-c94601a372ed');\n",
              "          const dataTable =\n",
              "            await google.colab.kernel.invokeFunction('convertToInteractive',\n",
              "                                                     [key], {});\n",
              "          if (!dataTable) return;\n",
              "\n",
              "          const docLinkHtml = 'Like what you see? Visit the ' +\n",
              "            '<a target=\"_blank\" href=https://colab.research.google.com/notebooks/data_table.ipynb>data table notebook</a>'\n",
              "            + ' to learn more about interactive tables.';\n",
              "          element.innerHTML = '';\n",
              "          dataTable['output_type'] = 'display_data';\n",
              "          await google.colab.output.renderOutput(dataTable, element);\n",
              "          const docLink = document.createElement('div');\n",
              "          docLink.innerHTML = docLinkHtml;\n",
              "          element.appendChild(docLink);\n",
              "        }\n",
              "      </script>\n",
              "    </div>\n",
              "  </div>\n",
              "  "
            ]
          },
          "metadata": {},
          "execution_count": 93
        }
      ],
      "source": [
        "dados_listings.head(2)"
      ]
    },
    {
      "cell_type": "code",
      "execution_count": 94,
      "metadata": {
        "id": "JphM_Y6Vevge",
        "colab": {
          "base_uri": "https://localhost:8080/",
          "height": 455
        },
        "outputId": "d6ca5e4f-4d68-4ffe-ee8d-7fd55f54d7a6"
      },
      "outputs": [
        {
          "output_type": "execute_result",
          "data": {
            "text/plain": [
              "                                valor_m2_bairro\n",
              "bairros       tipo                             \n",
              "São Cristóvão Casa                        13793\n",
              "              Apartamento                  6306\n",
              "              Cobertura                   11695\n",
              "              Consultório                  6991\n",
              "              Imóvel Comercial            19633\n",
              "...                                         ...\n",
              "Vista Alegre  Cobertura                   16567\n",
              "              Consultório                  5812\n",
              "              Imóvel Comercial            12895\n",
              "              Loja                         6182\n",
              "              Sala Comercial               3377\n",
              "\n",
              "[1127 rows x 1 columns]"
            ],
            "text/html": [
              "\n",
              "  <div id=\"df-2214da39-a8c6-491a-aa45-49710f800525\">\n",
              "    <div class=\"colab-df-container\">\n",
              "      <div>\n",
              "<style scoped>\n",
              "    .dataframe tbody tr th:only-of-type {\n",
              "        vertical-align: middle;\n",
              "    }\n",
              "\n",
              "    .dataframe tbody tr th {\n",
              "        vertical-align: top;\n",
              "    }\n",
              "\n",
              "    .dataframe thead th {\n",
              "        text-align: right;\n",
              "    }\n",
              "</style>\n",
              "<table border=\"1\" class=\"dataframe\">\n",
              "  <thead>\n",
              "    <tr style=\"text-align: right;\">\n",
              "      <th></th>\n",
              "      <th></th>\n",
              "      <th>valor_m2_bairro</th>\n",
              "    </tr>\n",
              "    <tr>\n",
              "      <th>bairros</th>\n",
              "      <th>tipo</th>\n",
              "      <th></th>\n",
              "    </tr>\n",
              "  </thead>\n",
              "  <tbody>\n",
              "    <tr>\n",
              "      <th rowspan=\"5\" valign=\"top\">São Cristóvão</th>\n",
              "      <th>Casa</th>\n",
              "      <td>13793</td>\n",
              "    </tr>\n",
              "    <tr>\n",
              "      <th>Apartamento</th>\n",
              "      <td>6306</td>\n",
              "    </tr>\n",
              "    <tr>\n",
              "      <th>Cobertura</th>\n",
              "      <td>11695</td>\n",
              "    </tr>\n",
              "    <tr>\n",
              "      <th>Consultório</th>\n",
              "      <td>6991</td>\n",
              "    </tr>\n",
              "    <tr>\n",
              "      <th>Imóvel Comercial</th>\n",
              "      <td>19633</td>\n",
              "    </tr>\n",
              "    <tr>\n",
              "      <th>...</th>\n",
              "      <th>...</th>\n",
              "      <td>...</td>\n",
              "    </tr>\n",
              "    <tr>\n",
              "      <th rowspan=\"5\" valign=\"top\">Vista Alegre</th>\n",
              "      <th>Cobertura</th>\n",
              "      <td>16567</td>\n",
              "    </tr>\n",
              "    <tr>\n",
              "      <th>Consultório</th>\n",
              "      <td>5812</td>\n",
              "    </tr>\n",
              "    <tr>\n",
              "      <th>Imóvel Comercial</th>\n",
              "      <td>12895</td>\n",
              "    </tr>\n",
              "    <tr>\n",
              "      <th>Loja</th>\n",
              "      <td>6182</td>\n",
              "    </tr>\n",
              "    <tr>\n",
              "      <th>Sala Comercial</th>\n",
              "      <td>3377</td>\n",
              "    </tr>\n",
              "  </tbody>\n",
              "</table>\n",
              "<p>1127 rows × 1 columns</p>\n",
              "</div>\n",
              "      <button class=\"colab-df-convert\" onclick=\"convertToInteractive('df-2214da39-a8c6-491a-aa45-49710f800525')\"\n",
              "              title=\"Convert this dataframe to an interactive table.\"\n",
              "              style=\"display:none;\">\n",
              "        \n",
              "  <svg xmlns=\"http://www.w3.org/2000/svg\" height=\"24px\"viewBox=\"0 0 24 24\"\n",
              "       width=\"24px\">\n",
              "    <path d=\"M0 0h24v24H0V0z\" fill=\"none\"/>\n",
              "    <path d=\"M18.56 5.44l.94 2.06.94-2.06 2.06-.94-2.06-.94-.94-2.06-.94 2.06-2.06.94zm-11 1L8.5 8.5l.94-2.06 2.06-.94-2.06-.94L8.5 2.5l-.94 2.06-2.06.94zm10 10l.94 2.06.94-2.06 2.06-.94-2.06-.94-.94-2.06-.94 2.06-2.06.94z\"/><path d=\"M17.41 7.96l-1.37-1.37c-.4-.4-.92-.59-1.43-.59-.52 0-1.04.2-1.43.59L10.3 9.45l-7.72 7.72c-.78.78-.78 2.05 0 2.83L4 21.41c.39.39.9.59 1.41.59.51 0 1.02-.2 1.41-.59l7.78-7.78 2.81-2.81c.8-.78.8-2.07 0-2.86zM5.41 20L4 18.59l7.72-7.72 1.47 1.35L5.41 20z\"/>\n",
              "  </svg>\n",
              "      </button>\n",
              "      \n",
              "  <style>\n",
              "    .colab-df-container {\n",
              "      display:flex;\n",
              "      flex-wrap:wrap;\n",
              "      gap: 12px;\n",
              "    }\n",
              "\n",
              "    .colab-df-convert {\n",
              "      background-color: #E8F0FE;\n",
              "      border: none;\n",
              "      border-radius: 50%;\n",
              "      cursor: pointer;\n",
              "      display: none;\n",
              "      fill: #1967D2;\n",
              "      height: 32px;\n",
              "      padding: 0 0 0 0;\n",
              "      width: 32px;\n",
              "    }\n",
              "\n",
              "    .colab-df-convert:hover {\n",
              "      background-color: #E2EBFA;\n",
              "      box-shadow: 0px 1px 2px rgba(60, 64, 67, 0.3), 0px 1px 3px 1px rgba(60, 64, 67, 0.15);\n",
              "      fill: #174EA6;\n",
              "    }\n",
              "\n",
              "    [theme=dark] .colab-df-convert {\n",
              "      background-color: #3B4455;\n",
              "      fill: #D2E3FC;\n",
              "    }\n",
              "\n",
              "    [theme=dark] .colab-df-convert:hover {\n",
              "      background-color: #434B5C;\n",
              "      box-shadow: 0px 1px 3px 1px rgba(0, 0, 0, 0.15);\n",
              "      filter: drop-shadow(0px 1px 2px rgba(0, 0, 0, 0.3));\n",
              "      fill: #FFFFFF;\n",
              "    }\n",
              "  </style>\n",
              "\n",
              "      <script>\n",
              "        const buttonEl =\n",
              "          document.querySelector('#df-2214da39-a8c6-491a-aa45-49710f800525 button.colab-df-convert');\n",
              "        buttonEl.style.display =\n",
              "          google.colab.kernel.accessAllowed ? 'block' : 'none';\n",
              "\n",
              "        async function convertToInteractive(key) {\n",
              "          const element = document.querySelector('#df-2214da39-a8c6-491a-aa45-49710f800525');\n",
              "          const dataTable =\n",
              "            await google.colab.kernel.invokeFunction('convertToInteractive',\n",
              "                                                     [key], {});\n",
              "          if (!dataTable) return;\n",
              "\n",
              "          const docLinkHtml = 'Like what you see? Visit the ' +\n",
              "            '<a target=\"_blank\" href=https://colab.research.google.com/notebooks/data_table.ipynb>data table notebook</a>'\n",
              "            + ' to learn more about interactive tables.';\n",
              "          element.innerHTML = '';\n",
              "          dataTable['output_type'] = 'display_data';\n",
              "          await google.colab.output.renderOutput(dataTable, element);\n",
              "          const docLink = document.createElement('div');\n",
              "          docLink.innerHTML = docLinkHtml;\n",
              "          element.appendChild(docLink);\n",
              "        }\n",
              "      </script>\n",
              "    </div>\n",
              "  </div>\n",
              "  "
            ]
          },
          "metadata": {},
          "execution_count": 94
        }
      ],
      "source": [
        "bairros"
      ]
    },
    {
      "cell_type": "markdown",
      "metadata": {
        "id": "iWSZcYnuevgf"
      },
      "source": [
        "### Tratando a variável de ligação"
      ]
    },
    {
      "cell_type": "markdown",
      "metadata": {
        "id": "EnAauv0Qevgf"
      },
      "source": [
        "#### Selecionando a variável de ligação nos dois *DataFrames*"
      ]
    },
    {
      "cell_type": "code",
      "execution_count": 97,
      "metadata": {
        "id": "9ZROypsOevgf",
        "colab": {
          "base_uri": "https://localhost:8080/"
        },
        "outputId": "4e240ff4-a2e4-4354-befa-cb623a514316"
      },
      "outputs": [
        {
          "output_type": "execute_result",
          "data": {
            "text/plain": [
              "0     Barra da Tijuca\n",
              "1        Campo Grande\n",
              "2     Barra da Tijuca\n",
              "3     Barra da Tijuca\n",
              "4              Glória\n",
              "           ...       \n",
              "65         Copacabana\n",
              "66             Leblon\n",
              "67         Copacabana\n",
              "68           Cachambi\n",
              "69             Tijuca\n",
              "Name: imovel_endereco_bairro, Length: 70, dtype: object"
            ]
          },
          "metadata": {},
          "execution_count": 97
        }
      ],
      "source": [
        "bairros_amostra = dados_listings['imovel_endereco_bairro']\n",
        "bairros_amostra"
      ]
    },
    {
      "cell_type": "markdown",
      "metadata": {
        "id": "l38MglWkevgf"
      },
      "source": [
        "[Documentação: `get_level_values`](https://pandas.pydata.org/pandas-docs/stable/reference/api/pandas.MultiIndex.get_level_values.html)"
      ]
    },
    {
      "cell_type": "code",
      "execution_count": 98,
      "metadata": {
        "id": "PqOX0cVRevgf",
        "colab": {
          "base_uri": "https://localhost:8080/"
        },
        "outputId": "bb5c7aae-5214-40ff-c1fa-ef871e6961e1"
      },
      "outputs": [
        {
          "output_type": "execute_result",
          "data": {
            "text/plain": [
              "Index(['São Cristóvão', 'São Cristóvão', 'São Cristóvão', 'São Cristóvão',\n",
              "       'São Cristóvão', 'São Cristóvão', 'São Cristóvão', 'Benfica', 'Benfica',\n",
              "       'Benfica',\n",
              "       ...\n",
              "       'Vila Kosmos', 'Vila Kosmos', 'Vila Kosmos', 'Vista Alegre',\n",
              "       'Vista Alegre', 'Vista Alegre', 'Vista Alegre', 'Vista Alegre',\n",
              "       'Vista Alegre', 'Vista Alegre'],\n",
              "      dtype='object', name='bairros', length=1127)"
            ]
          },
          "metadata": {},
          "execution_count": 98
        }
      ],
      "source": [
        "bairros_todos = bairros.index.get_level_values('bairros')\n",
        "bairros_todos"
      ]
    },
    {
      "cell_type": "markdown",
      "metadata": {
        "id": "mQQGRwbVevgg"
      },
      "source": [
        "#### Identificando e eliminando valores duplicados - `nunique` e `unique`\n",
        "\n",
        "[Documentação: `nunique`](https://pandas.pydata.org/pandas-docs/stable/reference/api/pandas.Series.nunique.html)\n",
        "\n",
        "[Documentação: `unique`](https://pandas.pydata.org/pandas-docs/stable/reference/api/pandas.Series.unique.html)"
      ]
    },
    {
      "cell_type": "code",
      "execution_count": 99,
      "metadata": {
        "id": "oQ7JrM4oevgg",
        "colab": {
          "base_uri": "https://localhost:8080/"
        },
        "outputId": "5061c614-54e8-4215-eb45-6ea0e98e19c3"
      },
      "outputs": [
        {
          "output_type": "execute_result",
          "data": {
            "text/plain": [
              "(70,)"
            ]
          },
          "metadata": {},
          "execution_count": 99
        }
      ],
      "source": [
        "bairros_amostra.shape"
      ]
    },
    {
      "cell_type": "code",
      "execution_count": 100,
      "metadata": {
        "id": "3EseTUMGevgg",
        "colab": {
          "base_uri": "https://localhost:8080/"
        },
        "outputId": "5b3b8e6a-e090-4e24-9bbd-ab6b96e4c66b"
      },
      "outputs": [
        {
          "output_type": "execute_result",
          "data": {
            "text/plain": [
              "30"
            ]
          },
          "metadata": {},
          "execution_count": 100
        }
      ],
      "source": [
        "bairros_amostra.nunique()"
      ]
    },
    {
      "cell_type": "code",
      "execution_count": 101,
      "metadata": {
        "id": "wTzTjSG4evgg",
        "colab": {
          "base_uri": "https://localhost:8080/"
        },
        "outputId": "cbe1b0e9-2b7b-4dfc-9386-b308937e75bc"
      },
      "outputs": [
        {
          "output_type": "execute_result",
          "data": {
            "text/plain": [
              "array(['Barra da Tijuca', 'Campo Grande', 'Glória', 'Vila Isabel',\n",
              "       'Andaraí', 'Copacabana', 'Recreio dos Bandeirantes', 'Tijuca',\n",
              "       'Méier', 'Ipanema', 'Paciência', 'Freguesia (Jacarepaguá)',\n",
              "       'Vargem Pequena', 'Pechincha', 'Freguesia', 'Botafogo',\n",
              "       'Vila da Penha', 'Jacarepaguá', 'Laranjeiras', 'Ribeira', 'Lapa',\n",
              "       'Rocha', 'Flamengo', 'Engenho Novo', 'Vargem Grande', 'Praça Seca',\n",
              "       'Honório Gurgel', 'Lagoa', 'Leblon', 'Cachambi'], dtype=object)"
            ]
          },
          "metadata": {},
          "execution_count": 101
        }
      ],
      "source": [
        "bairros_amostra.unique()"
      ]
    },
    {
      "cell_type": "code",
      "execution_count": 102,
      "metadata": {
        "id": "phexF7SWevgg",
        "colab": {
          "base_uri": "https://localhost:8080/"
        },
        "outputId": "6f4c55cb-55e6-4fac-94e5-fcc5b9e4117b"
      },
      "outputs": [
        {
          "output_type": "execute_result",
          "data": {
            "text/plain": [
              "numpy.ndarray"
            ]
          },
          "metadata": {},
          "execution_count": 102
        }
      ],
      "source": [
        "type(bairros_amostra.unique())"
      ]
    },
    {
      "cell_type": "code",
      "execution_count": 103,
      "metadata": {
        "id": "P8IO0v72evgh",
        "scrolled": true,
        "colab": {
          "base_uri": "https://localhost:8080/"
        },
        "outputId": "328d0d14-b872-4a3b-d75a-ebd2dc53383d"
      },
      "outputs": [
        {
          "output_type": "execute_result",
          "data": {
            "text/plain": [
              "0              Barra da Tijuca\n",
              "1                 Campo Grande\n",
              "2                       Glória\n",
              "3                  Vila Isabel\n",
              "4                      Andaraí\n",
              "5                   Copacabana\n",
              "6     Recreio dos Bandeirantes\n",
              "7                       Tijuca\n",
              "8                        Méier\n",
              "9                      Ipanema\n",
              "10                   Paciência\n",
              "11     Freguesia (Jacarepaguá)\n",
              "12              Vargem Pequena\n",
              "13                   Pechincha\n",
              "14                   Freguesia\n",
              "15                    Botafogo\n",
              "16               Vila da Penha\n",
              "17                 Jacarepaguá\n",
              "18                 Laranjeiras\n",
              "19                     Ribeira\n",
              "20                        Lapa\n",
              "21                       Rocha\n",
              "22                    Flamengo\n",
              "23                Engenho Novo\n",
              "24               Vargem Grande\n",
              "25                  Praça Seca\n",
              "26              Honório Gurgel\n",
              "27                       Lagoa\n",
              "28                      Leblon\n",
              "29                    Cachambi\n",
              "dtype: object"
            ]
          },
          "metadata": {},
          "execution_count": 103
        }
      ],
      "source": [
        "bairros_amostra = pd.Series(bairros_amostra.unique())\n",
        "bairros_amostra"
      ]
    },
    {
      "cell_type": "markdown",
      "metadata": {
        "id": "SzEMZcrBevgh"
      },
      "source": [
        "---"
      ]
    },
    {
      "cell_type": "code",
      "execution_count": 105,
      "metadata": {
        "id": "QDoTILAcevgh",
        "colab": {
          "base_uri": "https://localhost:8080/"
        },
        "outputId": "04a510ec-9fbd-4546-ff30-43640badbde3"
      },
      "outputs": [
        {
          "output_type": "execute_result",
          "data": {
            "text/plain": [
              "(1127,)"
            ]
          },
          "metadata": {},
          "execution_count": 105
        }
      ],
      "source": [
        "bairros_todos.shape"
      ]
    },
    {
      "cell_type": "code",
      "source": [
        "bairros_todos.nunique()"
      ],
      "metadata": {
        "colab": {
          "base_uri": "https://localhost:8080/"
        },
        "id": "oSLpIUZR6mMv",
        "outputId": "63e54675-f6f9-4c7e-c72f-e48c0ce0d21b"
      },
      "execution_count": 110,
      "outputs": [
        {
          "output_type": "execute_result",
          "data": {
            "text/plain": [
              "161"
            ]
          },
          "metadata": {},
          "execution_count": 110
        }
      ]
    },
    {
      "cell_type": "code",
      "execution_count": 106,
      "metadata": {
        "id": "P8VPy0fmevgh",
        "colab": {
          "base_uri": "https://localhost:8080/"
        },
        "outputId": "de9d902e-d0e6-4f4e-98d5-7a22c67aa226"
      },
      "outputs": [
        {
          "output_type": "execute_result",
          "data": {
            "text/plain": [
              "Index(['São Cristóvão', 'Benfica', 'Caju', 'Catumbi', 'Centro', 'Cidade Nova',\n",
              "       'Estácio', 'Gamboa', 'Glória', 'Lapa',\n",
              "       ...\n",
              "       'Ricardo de Albuquerque', 'Rocha Miranda', 'Tomás Coelho', 'Turiaçu',\n",
              "       'Vaz Lobo', 'Vicente de Carvalho', 'Vigário Geral', 'Vila da Penha',\n",
              "       'Vila Kosmos', 'Vista Alegre'],\n",
              "      dtype='object', name='bairros', length=161)"
            ]
          },
          "metadata": {},
          "execution_count": 106
        }
      ],
      "source": [
        "bairros_todos.unique()"
      ]
    },
    {
      "cell_type": "code",
      "execution_count": 111,
      "metadata": {
        "id": "d2r54C34evgi",
        "scrolled": true,
        "colab": {
          "base_uri": "https://localhost:8080/"
        },
        "outputId": "22513c70-49a6-4d13-e09e-9668d8f68e02"
      },
      "outputs": [
        {
          "output_type": "execute_result",
          "data": {
            "text/plain": [
              "0            São Cristóvão\n",
              "1                  Benfica\n",
              "2                     Caju\n",
              "3                  Catumbi\n",
              "4                   Centro\n",
              "              ...         \n",
              "156    Vicente de Carvalho\n",
              "157          Vigário Geral\n",
              "158          Vila da Penha\n",
              "159            Vila Kosmos\n",
              "160           Vista Alegre\n",
              "Name: bairros, Length: 161, dtype: object"
            ]
          },
          "metadata": {},
          "execution_count": 111
        }
      ],
      "source": [
        "bairros_todos = pd.Series(bairros_todos.unique())\n",
        "bairros_todos"
      ]
    },
    {
      "cell_type": "markdown",
      "metadata": {
        "id": "ivrVtUQlevgi"
      },
      "source": [
        "#### Verificando se existe correspondência entre as variáveis de ligação\n",
        "\n",
        "[Documentação](https://pandas.pydata.org/pandas-docs/stable/reference/api/pandas.Series.isin.html)"
      ]
    },
    {
      "cell_type": "code",
      "execution_count": 112,
      "metadata": {
        "id": "RCPjMO2levgi",
        "scrolled": false,
        "colab": {
          "base_uri": "https://localhost:8080/"
        },
        "outputId": "e8f09c06-3916-4155-8592-22641c2b62d0"
      },
      "outputs": [
        {
          "output_type": "execute_result",
          "data": {
            "text/plain": [
              "0              Barra da Tijuca\n",
              "1                 Campo Grande\n",
              "2                       Glória\n",
              "3                  Vila Isabel\n",
              "4                      Andaraí\n",
              "5                   Copacabana\n",
              "6     Recreio dos Bandeirantes\n",
              "7                       Tijuca\n",
              "8                        Méier\n",
              "9                      Ipanema\n",
              "10                   Paciência\n",
              "11     Freguesia (Jacarepaguá)\n",
              "12              Vargem Pequena\n",
              "13                   Pechincha\n",
              "14                   Freguesia\n",
              "15                    Botafogo\n",
              "16               Vila da Penha\n",
              "17                 Jacarepaguá\n",
              "18                 Laranjeiras\n",
              "19                     Ribeira\n",
              "20                        Lapa\n",
              "21                       Rocha\n",
              "22                    Flamengo\n",
              "23                Engenho Novo\n",
              "24               Vargem Grande\n",
              "25                  Praça Seca\n",
              "26              Honório Gurgel\n",
              "27                       Lagoa\n",
              "28                      Leblon\n",
              "29                    Cachambi\n",
              "dtype: object"
            ]
          },
          "metadata": {},
          "execution_count": 112
        }
      ],
      "source": [
        "bairros_amostra"
      ]
    },
    {
      "cell_type": "code",
      "execution_count": 113,
      "metadata": {
        "id": "IFWWnS4Kevgi",
        "scrolled": true,
        "colab": {
          "base_uri": "https://localhost:8080/"
        },
        "outputId": "25bd7c70-1e48-46b7-9a64-73eaf764cc65"
      },
      "outputs": [
        {
          "output_type": "execute_result",
          "data": {
            "text/plain": [
              "0      True\n",
              "1      True\n",
              "2      True\n",
              "3      True\n",
              "4      True\n",
              "5      True\n",
              "6      True\n",
              "7      True\n",
              "8      True\n",
              "9      True\n",
              "10     True\n",
              "11    False\n",
              "12     True\n",
              "13     True\n",
              "14     True\n",
              "15     True\n",
              "16     True\n",
              "17     True\n",
              "18     True\n",
              "19     True\n",
              "20     True\n",
              "21     True\n",
              "22     True\n",
              "23     True\n",
              "24     True\n",
              "25     True\n",
              "26     True\n",
              "27     True\n",
              "28     True\n",
              "29     True\n",
              "dtype: bool"
            ]
          },
          "metadata": {},
          "execution_count": 113
        }
      ],
      "source": [
        "bairros_amostra.isin(bairros_todos)"
      ]
    },
    {
      "cell_type": "code",
      "execution_count": 115,
      "metadata": {
        "id": "uiacZ9lnevgi",
        "colab": {
          "base_uri": "https://localhost:8080/",
          "height": 300
        },
        "outputId": "9c120c9a-0588-488f-aa28-b29977974fc2"
      },
      "outputs": [
        {
          "output_type": "execute_result",
          "data": {
            "text/plain": [
              "                  valor_m2_bairro\n",
              "tipo                             \n",
              "Casa                        15156\n",
              "Apartamento                  7930\n",
              "Cobertura                   15391\n",
              "Consultório                  4479\n",
              "Imóvel Comercial            16730\n",
              "Loja                         7095\n",
              "Sala Comercial               8666"
            ],
            "text/html": [
              "\n",
              "  <div id=\"df-a27940c9-a36b-4fd1-952d-c752e96dc0f2\">\n",
              "    <div class=\"colab-df-container\">\n",
              "      <div>\n",
              "<style scoped>\n",
              "    .dataframe tbody tr th:only-of-type {\n",
              "        vertical-align: middle;\n",
              "    }\n",
              "\n",
              "    .dataframe tbody tr th {\n",
              "        vertical-align: top;\n",
              "    }\n",
              "\n",
              "    .dataframe thead th {\n",
              "        text-align: right;\n",
              "    }\n",
              "</style>\n",
              "<table border=\"1\" class=\"dataframe\">\n",
              "  <thead>\n",
              "    <tr style=\"text-align: right;\">\n",
              "      <th></th>\n",
              "      <th>valor_m2_bairro</th>\n",
              "    </tr>\n",
              "    <tr>\n",
              "      <th>tipo</th>\n",
              "      <th></th>\n",
              "    </tr>\n",
              "  </thead>\n",
              "  <tbody>\n",
              "    <tr>\n",
              "      <th>Casa</th>\n",
              "      <td>15156</td>\n",
              "    </tr>\n",
              "    <tr>\n",
              "      <th>Apartamento</th>\n",
              "      <td>7930</td>\n",
              "    </tr>\n",
              "    <tr>\n",
              "      <th>Cobertura</th>\n",
              "      <td>15391</td>\n",
              "    </tr>\n",
              "    <tr>\n",
              "      <th>Consultório</th>\n",
              "      <td>4479</td>\n",
              "    </tr>\n",
              "    <tr>\n",
              "      <th>Imóvel Comercial</th>\n",
              "      <td>16730</td>\n",
              "    </tr>\n",
              "    <tr>\n",
              "      <th>Loja</th>\n",
              "      <td>7095</td>\n",
              "    </tr>\n",
              "    <tr>\n",
              "      <th>Sala Comercial</th>\n",
              "      <td>8666</td>\n",
              "    </tr>\n",
              "  </tbody>\n",
              "</table>\n",
              "</div>\n",
              "      <button class=\"colab-df-convert\" onclick=\"convertToInteractive('df-a27940c9-a36b-4fd1-952d-c752e96dc0f2')\"\n",
              "              title=\"Convert this dataframe to an interactive table.\"\n",
              "              style=\"display:none;\">\n",
              "        \n",
              "  <svg xmlns=\"http://www.w3.org/2000/svg\" height=\"24px\"viewBox=\"0 0 24 24\"\n",
              "       width=\"24px\">\n",
              "    <path d=\"M0 0h24v24H0V0z\" fill=\"none\"/>\n",
              "    <path d=\"M18.56 5.44l.94 2.06.94-2.06 2.06-.94-2.06-.94-.94-2.06-.94 2.06-2.06.94zm-11 1L8.5 8.5l.94-2.06 2.06-.94-2.06-.94L8.5 2.5l-.94 2.06-2.06.94zm10 10l.94 2.06.94-2.06 2.06-.94-2.06-.94-.94-2.06-.94 2.06-2.06.94z\"/><path d=\"M17.41 7.96l-1.37-1.37c-.4-.4-.92-.59-1.43-.59-.52 0-1.04.2-1.43.59L10.3 9.45l-7.72 7.72c-.78.78-.78 2.05 0 2.83L4 21.41c.39.39.9.59 1.41.59.51 0 1.02-.2 1.41-.59l7.78-7.78 2.81-2.81c.8-.78.8-2.07 0-2.86zM5.41 20L4 18.59l7.72-7.72 1.47 1.35L5.41 20z\"/>\n",
              "  </svg>\n",
              "      </button>\n",
              "      \n",
              "  <style>\n",
              "    .colab-df-container {\n",
              "      display:flex;\n",
              "      flex-wrap:wrap;\n",
              "      gap: 12px;\n",
              "    }\n",
              "\n",
              "    .colab-df-convert {\n",
              "      background-color: #E8F0FE;\n",
              "      border: none;\n",
              "      border-radius: 50%;\n",
              "      cursor: pointer;\n",
              "      display: none;\n",
              "      fill: #1967D2;\n",
              "      height: 32px;\n",
              "      padding: 0 0 0 0;\n",
              "      width: 32px;\n",
              "    }\n",
              "\n",
              "    .colab-df-convert:hover {\n",
              "      background-color: #E2EBFA;\n",
              "      box-shadow: 0px 1px 2px rgba(60, 64, 67, 0.3), 0px 1px 3px 1px rgba(60, 64, 67, 0.15);\n",
              "      fill: #174EA6;\n",
              "    }\n",
              "\n",
              "    [theme=dark] .colab-df-convert {\n",
              "      background-color: #3B4455;\n",
              "      fill: #D2E3FC;\n",
              "    }\n",
              "\n",
              "    [theme=dark] .colab-df-convert:hover {\n",
              "      background-color: #434B5C;\n",
              "      box-shadow: 0px 1px 3px 1px rgba(0, 0, 0, 0.15);\n",
              "      filter: drop-shadow(0px 1px 2px rgba(0, 0, 0, 0.3));\n",
              "      fill: #FFFFFF;\n",
              "    }\n",
              "  </style>\n",
              "\n",
              "      <script>\n",
              "        const buttonEl =\n",
              "          document.querySelector('#df-a27940c9-a36b-4fd1-952d-c752e96dc0f2 button.colab-df-convert');\n",
              "        buttonEl.style.display =\n",
              "          google.colab.kernel.accessAllowed ? 'block' : 'none';\n",
              "\n",
              "        async function convertToInteractive(key) {\n",
              "          const element = document.querySelector('#df-a27940c9-a36b-4fd1-952d-c752e96dc0f2');\n",
              "          const dataTable =\n",
              "            await google.colab.kernel.invokeFunction('convertToInteractive',\n",
              "                                                     [key], {});\n",
              "          if (!dataTable) return;\n",
              "\n",
              "          const docLinkHtml = 'Like what you see? Visit the ' +\n",
              "            '<a target=\"_blank\" href=https://colab.research.google.com/notebooks/data_table.ipynb>data table notebook</a>'\n",
              "            + ' to learn more about interactive tables.';\n",
              "          element.innerHTML = '';\n",
              "          dataTable['output_type'] = 'display_data';\n",
              "          await google.colab.output.renderOutput(dataTable, element);\n",
              "          const docLink = document.createElement('div');\n",
              "          docLink.innerHTML = docLinkHtml;\n",
              "          element.appendChild(docLink);\n",
              "        }\n",
              "      </script>\n",
              "    </div>\n",
              "  </div>\n",
              "  "
            ]
          },
          "metadata": {},
          "execution_count": 115
        }
      ],
      "source": [
        "bairros.loc[\"Freguesia\"]"
      ]
    },
    {
      "cell_type": "code",
      "execution_count": 116,
      "metadata": {
        "id": "HSpGW6vdevgj",
        "colab": {
          "base_uri": "https://localhost:8080/",
          "height": 300
        },
        "outputId": "b026ea01-efbd-44db-99bf-60f19bbd6447"
      },
      "outputs": [
        {
          "output_type": "execute_result",
          "data": {
            "text/plain": [
              "                  valor_m2_bairro\n",
              "tipo                             \n",
              "Casa                        19073\n",
              "Apartamento                  8574\n",
              "Cobertura                   16140\n",
              "Consultório                  7554\n",
              "Imóvel Comercial            10599\n",
              "Loja                         7305\n",
              "Sala Comercial               5023"
            ],
            "text/html": [
              "\n",
              "  <div id=\"df-68a23986-3187-4ae7-8210-6dade54f4088\">\n",
              "    <div class=\"colab-df-container\">\n",
              "      <div>\n",
              "<style scoped>\n",
              "    .dataframe tbody tr th:only-of-type {\n",
              "        vertical-align: middle;\n",
              "    }\n",
              "\n",
              "    .dataframe tbody tr th {\n",
              "        vertical-align: top;\n",
              "    }\n",
              "\n",
              "    .dataframe thead th {\n",
              "        text-align: right;\n",
              "    }\n",
              "</style>\n",
              "<table border=\"1\" class=\"dataframe\">\n",
              "  <thead>\n",
              "    <tr style=\"text-align: right;\">\n",
              "      <th></th>\n",
              "      <th>valor_m2_bairro</th>\n",
              "    </tr>\n",
              "    <tr>\n",
              "      <th>tipo</th>\n",
              "      <th></th>\n",
              "    </tr>\n",
              "  </thead>\n",
              "  <tbody>\n",
              "    <tr>\n",
              "      <th>Casa</th>\n",
              "      <td>19073</td>\n",
              "    </tr>\n",
              "    <tr>\n",
              "      <th>Apartamento</th>\n",
              "      <td>8574</td>\n",
              "    </tr>\n",
              "    <tr>\n",
              "      <th>Cobertura</th>\n",
              "      <td>16140</td>\n",
              "    </tr>\n",
              "    <tr>\n",
              "      <th>Consultório</th>\n",
              "      <td>7554</td>\n",
              "    </tr>\n",
              "    <tr>\n",
              "      <th>Imóvel Comercial</th>\n",
              "      <td>10599</td>\n",
              "    </tr>\n",
              "    <tr>\n",
              "      <th>Loja</th>\n",
              "      <td>7305</td>\n",
              "    </tr>\n",
              "    <tr>\n",
              "      <th>Sala Comercial</th>\n",
              "      <td>5023</td>\n",
              "    </tr>\n",
              "  </tbody>\n",
              "</table>\n",
              "</div>\n",
              "      <button class=\"colab-df-convert\" onclick=\"convertToInteractive('df-68a23986-3187-4ae7-8210-6dade54f4088')\"\n",
              "              title=\"Convert this dataframe to an interactive table.\"\n",
              "              style=\"display:none;\">\n",
              "        \n",
              "  <svg xmlns=\"http://www.w3.org/2000/svg\" height=\"24px\"viewBox=\"0 0 24 24\"\n",
              "       width=\"24px\">\n",
              "    <path d=\"M0 0h24v24H0V0z\" fill=\"none\"/>\n",
              "    <path d=\"M18.56 5.44l.94 2.06.94-2.06 2.06-.94-2.06-.94-.94-2.06-.94 2.06-2.06.94zm-11 1L8.5 8.5l.94-2.06 2.06-.94-2.06-.94L8.5 2.5l-.94 2.06-2.06.94zm10 10l.94 2.06.94-2.06 2.06-.94-2.06-.94-.94-2.06-.94 2.06-2.06.94z\"/><path d=\"M17.41 7.96l-1.37-1.37c-.4-.4-.92-.59-1.43-.59-.52 0-1.04.2-1.43.59L10.3 9.45l-7.72 7.72c-.78.78-.78 2.05 0 2.83L4 21.41c.39.39.9.59 1.41.59.51 0 1.02-.2 1.41-.59l7.78-7.78 2.81-2.81c.8-.78.8-2.07 0-2.86zM5.41 20L4 18.59l7.72-7.72 1.47 1.35L5.41 20z\"/>\n",
              "  </svg>\n",
              "      </button>\n",
              "      \n",
              "  <style>\n",
              "    .colab-df-container {\n",
              "      display:flex;\n",
              "      flex-wrap:wrap;\n",
              "      gap: 12px;\n",
              "    }\n",
              "\n",
              "    .colab-df-convert {\n",
              "      background-color: #E8F0FE;\n",
              "      border: none;\n",
              "      border-radius: 50%;\n",
              "      cursor: pointer;\n",
              "      display: none;\n",
              "      fill: #1967D2;\n",
              "      height: 32px;\n",
              "      padding: 0 0 0 0;\n",
              "      width: 32px;\n",
              "    }\n",
              "\n",
              "    .colab-df-convert:hover {\n",
              "      background-color: #E2EBFA;\n",
              "      box-shadow: 0px 1px 2px rgba(60, 64, 67, 0.3), 0px 1px 3px 1px rgba(60, 64, 67, 0.15);\n",
              "      fill: #174EA6;\n",
              "    }\n",
              "\n",
              "    [theme=dark] .colab-df-convert {\n",
              "      background-color: #3B4455;\n",
              "      fill: #D2E3FC;\n",
              "    }\n",
              "\n",
              "    [theme=dark] .colab-df-convert:hover {\n",
              "      background-color: #434B5C;\n",
              "      box-shadow: 0px 1px 3px 1px rgba(0, 0, 0, 0.15);\n",
              "      filter: drop-shadow(0px 1px 2px rgba(0, 0, 0, 0.3));\n",
              "      fill: #FFFFFF;\n",
              "    }\n",
              "  </style>\n",
              "\n",
              "      <script>\n",
              "        const buttonEl =\n",
              "          document.querySelector('#df-68a23986-3187-4ae7-8210-6dade54f4088 button.colab-df-convert');\n",
              "        buttonEl.style.display =\n",
              "          google.colab.kernel.accessAllowed ? 'block' : 'none';\n",
              "\n",
              "        async function convertToInteractive(key) {\n",
              "          const element = document.querySelector('#df-68a23986-3187-4ae7-8210-6dade54f4088');\n",
              "          const dataTable =\n",
              "            await google.colab.kernel.invokeFunction('convertToInteractive',\n",
              "                                                     [key], {});\n",
              "          if (!dataTable) return;\n",
              "\n",
              "          const docLinkHtml = 'Like what you see? Visit the ' +\n",
              "            '<a target=\"_blank\" href=https://colab.research.google.com/notebooks/data_table.ipynb>data table notebook</a>'\n",
              "            + ' to learn more about interactive tables.';\n",
              "          element.innerHTML = '';\n",
              "          dataTable['output_type'] = 'display_data';\n",
              "          await google.colab.output.renderOutput(dataTable, element);\n",
              "          const docLink = document.createElement('div');\n",
              "          docLink.innerHTML = docLinkHtml;\n",
              "          element.appendChild(docLink);\n",
              "        }\n",
              "      </script>\n",
              "    </div>\n",
              "  </div>\n",
              "  "
            ]
          },
          "metadata": {},
          "execution_count": 116
        }
      ],
      "source": [
        "bairros.loc[\"Jacarepaguá\"]"
      ]
    },
    {
      "cell_type": "markdown",
      "metadata": {
        "id": "poxpGTtuevgj"
      },
      "source": [
        "#### Ajustando os valores\n",
        "\n",
        "[Documentação](https://pandas.pydata.org/pandas-docs/stable/reference/api/pandas.Series.replace.html)"
      ]
    },
    {
      "cell_type": "code",
      "execution_count": 118,
      "metadata": {
        "id": "XTDo7AvYevgk"
      },
      "outputs": [],
      "source": [
        "dados_listings['imovel_endereco_bairro'].replace('Freguesia (Jacarepaguá)', 'Freguesia', inplace=True)"
      ]
    },
    {
      "cell_type": "code",
      "execution_count": 119,
      "metadata": {
        "id": "NAqMX05Yevgk",
        "scrolled": true,
        "colab": {
          "base_uri": "https://localhost:8080/"
        },
        "outputId": "d51d010c-0035-4734-a478-b172bf3ca21f"
      },
      "outputs": [
        {
          "output_type": "execute_result",
          "data": {
            "text/plain": [
              "0              Barra da Tijuca\n",
              "1                 Campo Grande\n",
              "2                       Glória\n",
              "3                  Vila Isabel\n",
              "4                      Andaraí\n",
              "5                   Copacabana\n",
              "6     Recreio dos Bandeirantes\n",
              "7                       Tijuca\n",
              "8                        Méier\n",
              "9                      Ipanema\n",
              "10                   Paciência\n",
              "11                   Freguesia\n",
              "12              Vargem Pequena\n",
              "13                   Pechincha\n",
              "14                    Botafogo\n",
              "15               Vila da Penha\n",
              "16                 Jacarepaguá\n",
              "17                 Laranjeiras\n",
              "18                     Ribeira\n",
              "19                        Lapa\n",
              "20                       Rocha\n",
              "21                    Flamengo\n",
              "22                Engenho Novo\n",
              "23               Vargem Grande\n",
              "24                  Praça Seca\n",
              "25              Honório Gurgel\n",
              "26                       Lagoa\n",
              "27                      Leblon\n",
              "28                    Cachambi\n",
              "dtype: object"
            ]
          },
          "metadata": {},
          "execution_count": 119
        }
      ],
      "source": [
        "bairros_amostra = pd.Series(dados_listings['imovel_endereco_bairro'].unique())\n",
        "bairros_amostra"
      ]
    },
    {
      "cell_type": "code",
      "execution_count": 120,
      "metadata": {
        "id": "iGudgRQ6evgk",
        "scrolled": false,
        "colab": {
          "base_uri": "https://localhost:8080/"
        },
        "outputId": "b349a026-0669-485a-bdd4-90859163c2b1"
      },
      "outputs": [
        {
          "output_type": "execute_result",
          "data": {
            "text/plain": [
              "0     True\n",
              "1     True\n",
              "2     True\n",
              "3     True\n",
              "4     True\n",
              "5     True\n",
              "6     True\n",
              "7     True\n",
              "8     True\n",
              "9     True\n",
              "10    True\n",
              "11    True\n",
              "12    True\n",
              "13    True\n",
              "14    True\n",
              "15    True\n",
              "16    True\n",
              "17    True\n",
              "18    True\n",
              "19    True\n",
              "20    True\n",
              "21    True\n",
              "22    True\n",
              "23    True\n",
              "24    True\n",
              "25    True\n",
              "26    True\n",
              "27    True\n",
              "28    True\n",
              "dtype: bool"
            ]
          },
          "metadata": {},
          "execution_count": 120
        }
      ],
      "source": [
        "bairros_amostra.isin(bairros_todos)"
      ]
    },
    {
      "cell_type": "markdown",
      "metadata": {
        "id": "3btbFOGeevgl"
      },
      "source": [
        "### Combinando os *DataFrames*"
      ]
    },
    {
      "cell_type": "markdown",
      "metadata": {
        "id": "CBTdNyc1evgl"
      },
      "source": [
        "#### `merge`\n",
        "\n",
        "[Documentação](https://pandas.pydata.org/pandas-docs/stable/reference/api/pandas.merge.html)\n",
        "\n",
        "```\n",
        "pandas.merge(left, right, how='inner', on=None, left_on=None, right_on=None, left_index=False, right_index=False, sort=False, suffixes='_x', '_y', copy=True, indicator=False, validate=None)\n",
        "```\n",
        "\n",
        "**Parameters**\n",
        "\n",
        "- **left**: DataFrame\n",
        "\n",
        "\n",
        "- **right**: DataFrame\n",
        "    \n",
        "\n",
        "- **how**: {‘left’, ‘right’, ‘outer’, ‘inner’}, *default* ‘inner’\n",
        "\n",
        "        Tipo de junção que será realizada.\n",
        "\n",
        "        - left: usa apenas as chaves do DataFrame especificado no parâmetro left.\n",
        "\n",
        "        - right: usa apenas as chaves do DataFrame especificado no parâmetro right.\n",
        "\n",
        "        - outer: considera todos os registros dos DataFrames especificados nos parâmetros left e right, isto é, faz a união das chaves.\n",
        "\n",
        "        - inner: considera apenas a interseção das chaves dos DataFrames especificados nos parâmetros left e right.\n",
        "    \n",
        "\n",
        "- **on**: label ou list\n",
        "\n",
        "        Nomes das colunas ou dos índices que serão utilizados na junção. Estes devem ser encontrados em ambos os DataFrames.\n",
        "        \n",
        "\n",
        "- **left_on**: label ou list, or array-like\n",
        "\n",
        "        Nomes das colunas ou dos índices do DataFrame especificado em left que serão utilizados na junção.\n",
        "        \n",
        "\n",
        "- **right_on**: label or list, or array-like\n",
        "\n",
        "        Nomes das colunas ou dos índices do DataFrame especificado em right que serão utilizados na junção.\n",
        "    \n",
        "\n",
        "- **left_index**: bool, *default False*\n",
        "\n",
        "        Indica se o índice do DataFrame especificado no parâmetro left deve ser utilizado como chave de junção.\n",
        "        \n",
        "\n",
        "- **right_index**: bool, *default False*\n",
        "\n",
        "        Indica se o índice do DataFrame especificado no parâmetro right deve ser utilizado como chave de junção."
      ]
    },
    {
      "cell_type": "code",
      "execution_count": null,
      "metadata": {
        "id": "wo8ttXKcevgn",
        "scrolled": true
      },
      "outputs": [],
      "source": [
        ""
      ]
    },
    {
      "cell_type": "markdown",
      "metadata": {
        "id": "ymrhrLaYevgn"
      },
      "source": [
        "# ADICIONANDO INFORMAÇÕES\n",
        "---"
      ]
    },
    {
      "cell_type": "markdown",
      "metadata": {
        "id": "4aqxo4l-evgn"
      },
      "source": [
        "## Criando as colunas `quartos`, `suites` e `banheiros`"
      ]
    },
    {
      "cell_type": "code",
      "execution_count": null,
      "metadata": {
        "id": "giBGU4gOevgs"
      },
      "outputs": [],
      "source": [
        ""
      ]
    },
    {
      "cell_type": "markdown",
      "metadata": {
        "id": "nya9Yy7Kevgs"
      },
      "source": [
        "### `str.extractall`\n",
        "\n",
        "[Documentação](https://pandas.pydata.org/pandas-docs/stable/reference/api/pandas.Series.str.extractall.html)"
      ]
    },
    {
      "cell_type": "code",
      "execution_count": null,
      "metadata": {
        "id": "Toi4yfM-evgs",
        "scrolled": true
      },
      "outputs": [],
      "source": [
        ""
      ]
    },
    {
      "cell_type": "markdown",
      "metadata": {
        "id": "p2bibVe9evgs"
      },
      "source": [
        "### `unstack`\n",
        "\n",
        "[Documentação](https://pandas.pydata.org/pandas-docs/stable/reference/api/pandas.DataFrame.unstack.html)"
      ]
    },
    {
      "cell_type": "code",
      "execution_count": null,
      "metadata": {
        "id": "QXWYy2h8evgt"
      },
      "outputs": [],
      "source": [
        ""
      ]
    },
    {
      "cell_type": "code",
      "execution_count": null,
      "metadata": {
        "id": "FktwCtLTevgt"
      },
      "outputs": [],
      "source": [
        ""
      ]
    },
    {
      "cell_type": "markdown",
      "metadata": {
        "id": "-jVhoVI-evgt"
      },
      "source": [
        "### `droplevel`\n",
        "\n",
        "[Documentação](https://pandas.pydata.org/pandas-docs/stable/reference/api/pandas.DataFrame.droplevel.html)"
      ]
    },
    {
      "cell_type": "code",
      "execution_count": null,
      "metadata": {
        "id": "TSojRmn9evgt"
      },
      "outputs": [],
      "source": [
        ""
      ]
    },
    {
      "cell_type": "code",
      "execution_count": null,
      "metadata": {
        "id": "ac4wLkEGevgt",
        "scrolled": true
      },
      "outputs": [],
      "source": [
        ""
      ]
    },
    {
      "cell_type": "markdown",
      "metadata": {
        "id": "m2CS8xkuevgu"
      },
      "source": [
        "## Criando novas classificações"
      ]
    },
    {
      "cell_type": "markdown",
      "metadata": {
        "id": "bJqulTItevgu"
      },
      "source": [
        "### Com dados categóricos - `map`\n",
        "\n",
        "[Documentação](https://pandas.pydata.org/pandas-docs/stable/reference/api/pandas.Series.map.html)"
      ]
    },
    {
      "cell_type": "code",
      "execution_count": null,
      "metadata": {
        "id": "_l0qDgFzevgu"
      },
      "outputs": [],
      "source": [
        "tipo_uso = {\n",
        "    'Apartamento': 'Residencial',\n",
        "    'Casa': 'Residencial',\n",
        "    'Cobertura': 'Residencial',\n",
        "    'Consultório': 'Comercial',\n",
        "    'Imóvel Comercial': 'Comercial',\n",
        "    'Loja': 'Comercial',\n",
        "    'Sala Comercial': 'Comercial'\n",
        "}"
      ]
    },
    {
      "cell_type": "code",
      "execution_count": null,
      "metadata": {
        "id": "DwyFjomsevgu",
        "scrolled": true
      },
      "outputs": [],
      "source": [
        ""
      ]
    },
    {
      "cell_type": "code",
      "execution_count": null,
      "metadata": {
        "id": "X3B_8DLvevgv"
      },
      "outputs": [],
      "source": [
        ""
      ]
    },
    {
      "cell_type": "markdown",
      "metadata": {
        "id": "995hOzHhevgv"
      },
      "source": [
        "#### `insert`\n",
        "\n",
        "[Documentação](https://pandas.pydata.org/pandas-docs/stable/reference/api/pandas.DataFrame.insert.html)"
      ]
    },
    {
      "cell_type": "code",
      "execution_count": null,
      "metadata": {
        "id": "tuPwv1JTevgv"
      },
      "outputs": [],
      "source": [
        ""
      ]
    },
    {
      "cell_type": "code",
      "execution_count": null,
      "metadata": {
        "id": "IMSZeeIhevgw",
        "scrolled": true
      },
      "outputs": [],
      "source": [
        ""
      ]
    },
    {
      "cell_type": "markdown",
      "metadata": {
        "id": "1CRwFHsfevgw"
      },
      "source": [
        "### Com dados numéricos - `cut`\n",
        "\n",
        "[Documentação](https://pandas.pydata.org/pandas-docs/stable/reference/api/pandas.cut.html)"
      ]
    },
    {
      "cell_type": "markdown",
      "metadata": {
        "id": "2g4jSmX1evgw"
      },
      "source": [
        "#### Utilizando classes fixas"
      ]
    },
    {
      "cell_type": "code",
      "execution_count": null,
      "metadata": {
        "id": "0KTpjlnhevgx"
      },
      "outputs": [],
      "source": [
        ""
      ]
    },
    {
      "cell_type": "code",
      "execution_count": null,
      "metadata": {
        "id": "zapsO_NJAoj7"
      },
      "outputs": [],
      "source": [
        ""
      ]
    },
    {
      "cell_type": "code",
      "execution_count": null,
      "metadata": {
        "id": "ztdhjZ2mevgx"
      },
      "outputs": [],
      "source": [
        ""
      ]
    },
    {
      "cell_type": "code",
      "execution_count": null,
      "metadata": {
        "id": "je6VWPuYevgx",
        "scrolled": true
      },
      "outputs": [],
      "source": [
        ""
      ]
    },
    {
      "cell_type": "code",
      "execution_count": null,
      "metadata": {
        "id": "vY7d-5z5ceWO",
        "scrolled": true
      },
      "outputs": [],
      "source": [
        ""
      ]
    },
    {
      "cell_type": "code",
      "execution_count": null,
      "metadata": {
        "id": "q1ENkBM0evgy"
      },
      "outputs": [],
      "source": [
        ""
      ]
    },
    {
      "cell_type": "markdown",
      "metadata": {
        "id": "hGo5UyTsevgy"
      },
      "source": [
        "#### Utilizando classes personalizadas"
      ]
    },
    {
      "cell_type": "code",
      "execution_count": null,
      "metadata": {
        "id": "XzoW4Hasb8q7"
      },
      "outputs": [],
      "source": [
        ""
      ]
    },
    {
      "cell_type": "code",
      "execution_count": null,
      "metadata": {
        "id": "I65cC8pkevgz",
        "scrolled": true
      },
      "outputs": [],
      "source": [
        ""
      ]
    },
    {
      "cell_type": "code",
      "execution_count": null,
      "metadata": {
        "id": "mfZ0S5b0evgz",
        "scrolled": true
      },
      "outputs": [],
      "source": [
        ""
      ]
    },
    {
      "cell_type": "code",
      "execution_count": null,
      "metadata": {
        "id": "iHDPvSAPevgz"
      },
      "outputs": [],
      "source": [
        ""
      ]
    },
    {
      "cell_type": "markdown",
      "metadata": {
        "id": "zWGPxzcuevg0"
      },
      "source": [
        "## Novas colunas derivadas das informações existentes"
      ]
    },
    {
      "cell_type": "markdown",
      "metadata": {
        "id": "LLxPnrTHevg0"
      },
      "source": [
        "### Valor por m²"
      ]
    },
    {
      "cell_type": "code",
      "execution_count": null,
      "metadata": {
        "id": "ucf8dkBzevg0",
        "scrolled": true
      },
      "outputs": [],
      "source": [
        ""
      ]
    },
    {
      "cell_type": "code",
      "execution_count": null,
      "metadata": {
        "id": "RAPOfBHgevg0"
      },
      "outputs": [],
      "source": [
        ""
      ]
    },
    {
      "cell_type": "markdown",
      "metadata": {
        "id": "JxaCGr1Devg1"
      },
      "source": [
        "#### `apply`\n",
        "\n",
        "[Documentação](https://pandas.pydata.org/pandas-docs/stable/reference/api/pandas.DataFrame.apply.html)"
      ]
    },
    {
      "cell_type": "code",
      "execution_count": null,
      "metadata": {
        "id": "yNmvRWLievg1"
      },
      "outputs": [],
      "source": [
        ""
      ]
    },
    {
      "cell_type": "code",
      "execution_count": null,
      "metadata": {
        "id": "Xeqd609_evg1"
      },
      "outputs": [],
      "source": [
        ""
      ]
    },
    {
      "cell_type": "code",
      "execution_count": null,
      "metadata": {
        "id": "ZEvfUpFoevg2"
      },
      "outputs": [],
      "source": [
        ""
      ]
    },
    {
      "cell_type": "markdown",
      "metadata": {
        "id": "1Pcx255bevg2"
      },
      "source": [
        "### Piscina?"
      ]
    },
    {
      "cell_type": "code",
      "execution_count": null,
      "metadata": {
        "id": "U6z63nqXevg2"
      },
      "outputs": [],
      "source": [
        ""
      ]
    },
    {
      "cell_type": "markdown",
      "metadata": {
        "id": "KNSWnriMevg2"
      },
      "source": [
        "# TABULAÇÕES E SUMARIZAÇÕES\n",
        "---"
      ]
    },
    {
      "cell_type": "markdown",
      "metadata": {
        "id": "eiFZz3Gcevg2"
      },
      "source": [
        "## Agrupamentos"
      ]
    },
    {
      "cell_type": "code",
      "execution_count": null,
      "metadata": {
        "id": "GepN60rgevg2"
      },
      "outputs": [],
      "source": [
        ""
      ]
    },
    {
      "cell_type": "markdown",
      "metadata": {
        "id": "4VGAbY3Sevg3"
      },
      "source": [
        "### `aggregate`\n",
        "\n",
        "[Documentação](https://pandas.pydata.org/pandas-docs/stable/reference/api/pandas.DataFrame.aggregate.html)"
      ]
    },
    {
      "cell_type": "code",
      "execution_count": null,
      "metadata": {
        "id": "CJopCPinevg3"
      },
      "outputs": [],
      "source": [
        ""
      ]
    },
    {
      "cell_type": "code",
      "execution_count": null,
      "metadata": {
        "id": "fiQc4618evg3"
      },
      "outputs": [],
      "source": [
        ""
      ]
    },
    {
      "cell_type": "markdown",
      "metadata": {
        "id": "Y_T5j1Dkevg3"
      },
      "source": [
        "### `groupby`\n",
        "\n",
        "[Documentação](https://pandas.pydata.org/pandas-docs/stable/reference/api/pandas.DataFrame.groupby.html)"
      ]
    },
    {
      "cell_type": "code",
      "execution_count": null,
      "metadata": {
        "id": "Zu9QU8XYevg3"
      },
      "outputs": [],
      "source": [
        ""
      ]
    },
    {
      "cell_type": "code",
      "execution_count": null,
      "metadata": {
        "id": "UVdqyITfevg4"
      },
      "outputs": [],
      "source": [
        ""
      ]
    },
    {
      "cell_type": "code",
      "execution_count": null,
      "metadata": {
        "id": "QNe-9qufevg4"
      },
      "outputs": [],
      "source": [
        ""
      ]
    },
    {
      "cell_type": "code",
      "execution_count": null,
      "metadata": {
        "id": "2mF_L8cAevg4"
      },
      "outputs": [],
      "source": [
        ""
      ]
    },
    {
      "cell_type": "code",
      "execution_count": null,
      "metadata": {
        "id": "cafTo2wUevg4"
      },
      "outputs": [],
      "source": [
        ""
      ]
    },
    {
      "cell_type": "code",
      "execution_count": null,
      "metadata": {
        "id": "zVu7oxvYevg5"
      },
      "outputs": [],
      "source": [
        ""
      ]
    },
    {
      "cell_type": "markdown",
      "metadata": {
        "id": "AUBj_APUevg5"
      },
      "source": [
        "### `value_counts`\n",
        "\n",
        "[Documentação](https://pandas.pydata.org/pandas-docs/stable/reference/api/pandas.DataFrame.value_counts.html)"
      ]
    },
    {
      "cell_type": "code",
      "execution_count": null,
      "metadata": {
        "id": "EF2L8WmHevg5"
      },
      "outputs": [],
      "source": [
        ""
      ]
    },
    {
      "cell_type": "code",
      "execution_count": null,
      "metadata": {
        "id": "IOZ1Fb0Tevg5"
      },
      "outputs": [],
      "source": [
        ""
      ]
    },
    {
      "cell_type": "code",
      "execution_count": null,
      "metadata": {
        "id": "irStjJUvevg5"
      },
      "outputs": [],
      "source": [
        ""
      ]
    },
    {
      "cell_type": "markdown",
      "metadata": {
        "id": "KJtrt3l5evg6"
      },
      "source": [
        "#### `to_frame`\n",
        "\n",
        "[Documentação](https://pandas.pydata.org/pandas-docs/stable/reference/api/pandas.Series.to_frame.html)"
      ]
    },
    {
      "cell_type": "code",
      "execution_count": null,
      "metadata": {
        "id": "86UZBXs9evg6"
      },
      "outputs": [],
      "source": [
        ""
      ]
    },
    {
      "cell_type": "markdown",
      "metadata": {
        "id": "zfIcPdHpevg6"
      },
      "source": [
        "## Mudando o formato de um *DataFrame*"
      ]
    },
    {
      "cell_type": "markdown",
      "metadata": {
        "id": "FMI3APPqevg6"
      },
      "source": [
        "### `unstack`\n",
        "\n",
        "Faz a rotação ou o pivoteamento das linhas para as colunas.\n",
        "\n",
        "[Documentação](https://pandas.pydata.org/pandas-docs/stable/reference/api/pandas.DataFrame.unstack.html)"
      ]
    },
    {
      "cell_type": "code",
      "execution_count": null,
      "metadata": {
        "id": "ihUiFlUoevg6"
      },
      "outputs": [],
      "source": [
        ""
      ]
    },
    {
      "cell_type": "code",
      "execution_count": null,
      "metadata": {
        "id": "QJ4pCdlnevg6"
      },
      "outputs": [],
      "source": [
        ""
      ]
    },
    {
      "cell_type": "code",
      "execution_count": null,
      "metadata": {
        "id": "v_n21a8cevg7"
      },
      "outputs": [],
      "source": [
        ""
      ]
    },
    {
      "cell_type": "markdown",
      "metadata": {
        "id": "se1knkwkevg7"
      },
      "source": [
        "### `stack`\n",
        "\n",
        "Faz a rotação ou o pivoteamento das colunas de um *DataFrame* para as linhas.\n",
        "\n",
        "[Documentação](https://pandas.pydata.org/pandas-docs/stable/reference/api/pandas.DataFrame.stack.html)"
      ]
    },
    {
      "cell_type": "code",
      "execution_count": null,
      "metadata": {
        "id": "xJRpaXH_evg7"
      },
      "outputs": [],
      "source": [
        ""
      ]
    },
    {
      "cell_type": "code",
      "execution_count": null,
      "metadata": {
        "id": "QkWRUW1Hevg7"
      },
      "outputs": [],
      "source": [
        ""
      ]
    },
    {
      "cell_type": "code",
      "execution_count": null,
      "metadata": {
        "id": "dGE9_h4Eevg7",
        "scrolled": true
      },
      "outputs": [],
      "source": [
        ""
      ]
    },
    {
      "cell_type": "code",
      "execution_count": null,
      "metadata": {
        "id": "SYBirwOQevg7",
        "scrolled": true
      },
      "outputs": [],
      "source": [
        ""
      ]
    },
    {
      "cell_type": "markdown",
      "metadata": {
        "id": "721L30DGevg8"
      },
      "source": [
        "## Criando tabelas dinâmicas"
      ]
    },
    {
      "cell_type": "markdown",
      "metadata": {
        "id": "MT9R7ULTevg8"
      },
      "source": [
        "### `pivot`\n",
        "\n",
        "[Documentação](https://pandas.pydata.org/pandas-docs/stable/reference/api/pandas.DataFrame.pivot.html)"
      ]
    },
    {
      "cell_type": "code",
      "execution_count": null,
      "metadata": {
        "id": "TxCjxASHevg8"
      },
      "outputs": [],
      "source": [
        ""
      ]
    },
    {
      "cell_type": "markdown",
      "metadata": {
        "id": "KK2lRVTZevg8"
      },
      "source": [
        "#### `droplevel`\n",
        "\n",
        "[Documentação](https://pandas.pydata.org/pandas-docs/stable/reference/api/pandas.DataFrame.droplevel.html)"
      ]
    },
    {
      "cell_type": "code",
      "execution_count": null,
      "metadata": {
        "id": "WM8eGmWyevg9"
      },
      "outputs": [],
      "source": [
        ""
      ]
    },
    {
      "cell_type": "markdown",
      "metadata": {
        "id": "JV0cPfjjevg9"
      },
      "source": [
        "#### `reset_index`\n",
        "\n",
        "[Documentação](https://pandas.pydata.org/pandas-docs/stable/reference/api/pandas.DataFrame.reset_index.html)"
      ]
    },
    {
      "cell_type": "code",
      "execution_count": null,
      "metadata": {
        "id": "_2zbYlDUevg9",
        "scrolled": true
      },
      "outputs": [],
      "source": [
        ""
      ]
    },
    {
      "cell_type": "code",
      "execution_count": null,
      "metadata": {
        "id": "Tr3lQ7_Pevg9"
      },
      "outputs": [],
      "source": [
        ""
      ]
    },
    {
      "cell_type": "markdown",
      "metadata": {
        "id": "si3S5yVIevg9"
      },
      "source": [
        "### `pivot_table`\n",
        "\n",
        "[Documentação](https://pandas.pydata.org/pandas-docs/stable/reference/api/pandas.DataFrame.pivot_table.html)"
      ]
    },
    {
      "cell_type": "code",
      "execution_count": null,
      "metadata": {
        "id": "Cc8GufF3evg-"
      },
      "outputs": [],
      "source": [
        ""
      ]
    },
    {
      "cell_type": "code",
      "execution_count": null,
      "metadata": {
        "id": "VxFFo13gevg-"
      },
      "outputs": [],
      "source": [
        ""
      ]
    },
    {
      "cell_type": "code",
      "execution_count": null,
      "metadata": {
        "id": "5AzhTNwaevg-"
      },
      "outputs": [],
      "source": [
        ""
      ]
    },
    {
      "cell_type": "markdown",
      "metadata": {
        "id": "z3WPXV_1evg-"
      },
      "source": [
        "# TABULAÇÕES E ESTILIZAÇÃO\n",
        "---"
      ]
    },
    {
      "cell_type": "markdown",
      "metadata": {
        "id": "hEMpF1yYevg-"
      },
      "source": [
        "## Tabulações a partir de informações no formato de listas"
      ]
    },
    {
      "cell_type": "markdown",
      "metadata": {
        "id": "ZFqI6k6_evg-"
      },
      "source": [
        "### `explode`\n",
        "\n",
        "[Documentação](https://pandas.pydata.org/pandas-docs/stable/reference/api/pandas.DataFrame.explode.html)"
      ]
    },
    {
      "cell_type": "code",
      "execution_count": null,
      "metadata": {
        "id": "JFZCZ7Yuevg_",
        "scrolled": true
      },
      "outputs": [],
      "source": [
        ""
      ]
    },
    {
      "cell_type": "code",
      "execution_count": null,
      "metadata": {
        "id": "VhIcLAXzevg_"
      },
      "outputs": [],
      "source": [
        ""
      ]
    },
    {
      "cell_type": "code",
      "execution_count": null,
      "metadata": {
        "id": "q8dhRb3sevg_",
        "scrolled": false
      },
      "outputs": [],
      "source": [
        ""
      ]
    },
    {
      "cell_type": "markdown",
      "metadata": {
        "id": "f8aTRZ-Mevg_"
      },
      "source": [
        "#### `where`\n",
        "\n",
        "[Documentação](https://pandas.pydata.org/pandas-docs/stable/reference/api/pandas.Series.where.html)"
      ]
    },
    {
      "cell_type": "code",
      "execution_count": null,
      "metadata": {
        "id": "eVqYjcWievg_"
      },
      "outputs": [],
      "source": [
        ""
      ]
    },
    {
      "cell_type": "code",
      "execution_count": null,
      "metadata": {
        "id": "IRMPSZhvevhA"
      },
      "outputs": [],
      "source": [
        ""
      ]
    },
    {
      "cell_type": "markdown",
      "metadata": {
        "id": "Hqsk2TCqevhA"
      },
      "source": [
        "## Estilizando um DataFrame"
      ]
    },
    {
      "cell_type": "markdown",
      "metadata": {
        "id": "D9fI8e5TevhA"
      },
      "source": [
        "### `style`\n",
        "\n",
        "[Documentação](https://pandas.pydata.org/pandas-docs/stable/reference/api/pandas.DataFrame.style.html)"
      ]
    },
    {
      "cell_type": "code",
      "execution_count": null,
      "metadata": {
        "id": "6RSwWnIhevhA"
      },
      "outputs": [],
      "source": [
        ""
      ]
    },
    {
      "cell_type": "code",
      "execution_count": null,
      "metadata": {
        "id": "0m_-TJTuevhA"
      },
      "outputs": [],
      "source": [
        ""
      ]
    },
    {
      "cell_type": "code",
      "execution_count": null,
      "metadata": {
        "id": "1KnL7z-CevhA"
      },
      "outputs": [],
      "source": [
        ""
      ]
    },
    {
      "cell_type": "markdown",
      "metadata": {
        "id": "yvFSL0PAevhB"
      },
      "source": [
        "#### `format`\n",
        "\n",
        "[Documentação](https://pandas.pydata.org/pandas-docs/stable/reference/api/pandas.io.formats.style.Styler.format.html)"
      ]
    },
    {
      "cell_type": "code",
      "execution_count": null,
      "metadata": {
        "id": "r_0DbWypevhB"
      },
      "outputs": [],
      "source": [
        ""
      ]
    },
    {
      "cell_type": "markdown",
      "metadata": {
        "id": "ncaZ5etWevhB"
      },
      "source": [
        "#### `bar`\n",
        "\n",
        "[Documentação](https://pandas.pydata.org/pandas-docs/stable/reference/api/pandas.io.formats.style.Styler.bar.html)"
      ]
    },
    {
      "cell_type": "code",
      "execution_count": null,
      "metadata": {
        "id": "0DYposenevhB"
      },
      "outputs": [],
      "source": [
        ""
      ]
    },
    {
      "cell_type": "markdown",
      "metadata": {
        "id": "q9EV6PsZevhB"
      },
      "source": [
        "#### `applymap`\n",
        "\n",
        "[Documentação](https://pandas.pydata.org/pandas-docs/stable/reference/api/pandas.io.formats.style.Styler.applymap.html)"
      ]
    },
    {
      "cell_type": "code",
      "execution_count": null,
      "metadata": {
        "id": "dwRK5vwXevhB"
      },
      "outputs": [],
      "source": [
        ""
      ]
    },
    {
      "cell_type": "code",
      "execution_count": null,
      "metadata": {
        "id": "qyMctQrhevhD"
      },
      "outputs": [],
      "source": [
        ""
      ]
    },
    {
      "cell_type": "markdown",
      "metadata": {
        "id": "xklcN2wjevhD"
      },
      "source": [
        "#### `highlight_max` e `highlight_min`\n",
        "\n",
        "[Documentação: `highlight_max`](https://pandas.pydata.org/pandas-docs/stable/reference/api/pandas.io.formats.style.Styler.highlight_max.html)\n",
        "\n",
        "[Documentação: `highlight_min`](https://pandas.pydata.org/pandas-docs/stable/reference/api/pandas.io.formats.style.Styler.highlight_min.html)"
      ]
    },
    {
      "cell_type": "code",
      "execution_count": null,
      "metadata": {
        "id": "bH5k6L7FevhE"
      },
      "outputs": [],
      "source": [
        ""
      ]
    },
    {
      "cell_type": "code",
      "execution_count": null,
      "metadata": {
        "id": "QfSwVQg9evhE"
      },
      "outputs": [],
      "source": [
        ""
      ]
    },
    {
      "cell_type": "code",
      "execution_count": null,
      "metadata": {
        "id": "Q2WvRk1eevhF",
        "scrolled": true
      },
      "outputs": [],
      "source": [
        ""
      ]
    },
    {
      "cell_type": "code",
      "execution_count": null,
      "metadata": {
        "id": "JHoRZr3gevhG"
      },
      "outputs": [],
      "source": [
        ""
      ]
    },
    {
      "cell_type": "code",
      "execution_count": null,
      "metadata": {
        "id": "07rpMsdIevhG"
      },
      "outputs": [],
      "source": [
        ""
      ]
    },
    {
      "cell_type": "code",
      "execution_count": null,
      "metadata": {
        "id": "OkZyFqDdevhG"
      },
      "outputs": [],
      "source": [
        ""
      ]
    },
    {
      "cell_type": "code",
      "execution_count": null,
      "metadata": {
        "id": "WX5UuzeYevhG"
      },
      "outputs": [],
      "source": [
        ""
      ]
    },
    {
      "cell_type": "markdown",
      "metadata": {
        "id": "A13lh-6WevhH"
      },
      "source": [
        "#### `background_gradient`\n",
        "\n",
        "[Documentação](https://pandas.pydata.org/pandas-docs/stable/reference/api/pandas.io.formats.style.Styler.background_gradient.html)"
      ]
    },
    {
      "cell_type": "code",
      "execution_count": null,
      "metadata": {
        "id": "DUUt_GaRevhH"
      },
      "outputs": [],
      "source": [
        ""
      ]
    },
    {
      "cell_type": "code",
      "execution_count": null,
      "metadata": {
        "id": "Cqbg9GgvevhJ"
      },
      "outputs": [],
      "source": [
        ""
      ]
    },
    {
      "cell_type": "code",
      "execution_count": null,
      "metadata": {
        "id": "1YYNpDxbevhJ"
      },
      "outputs": [],
      "source": [
        ""
      ]
    },
    {
      "cell_type": "markdown",
      "metadata": {
        "id": "IKxU1RsFevhJ"
      },
      "source": [
        "#### `to_excel`\n",
        "\n",
        "[Documentação](https://pandas.pydata.org/pandas-docs/stable/reference/api/pandas.io.formats.style.Styler.to_excel.html)"
      ]
    },
    {
      "cell_type": "code",
      "execution_count": null,
      "metadata": {
        "id": "Hqc01SzXevhK"
      },
      "outputs": [],
      "source": [
        ""
      ]
    },
    {
      "cell_type": "markdown",
      "metadata": {
        "id": "A75CwZB0evhK"
      },
      "source": [
        "# ANEXOS\n",
        "---"
      ]
    },
    {
      "cell_type": "markdown",
      "metadata": {
        "id": "TcE_9F2eevhL"
      },
      "source": [
        "### Opções para o parâmetro `cmap`\n",
        "\n",
        "[Documentação](https://matplotlib.org/3.3.2/tutorials/colors/colormaps.html)"
      ]
    },
    {
      "cell_type": "code",
      "execution_count": null,
      "metadata": {
        "id": "hpyWIdU2evhL"
      },
      "outputs": [],
      "source": [
        "import numpy as np\n",
        "import matplotlib as mpl\n",
        "import matplotlib.pyplot as plt\n",
        "from matplotlib import cm\n",
        "from collections import OrderedDict\n",
        "\n",
        "cmaps = OrderedDict()"
      ]
    },
    {
      "cell_type": "code",
      "execution_count": null,
      "metadata": {
        "id": "DbvdFKVievhM"
      },
      "outputs": [],
      "source": [
        "cmaps['Perceptually Uniform Sequential'] = [\n",
        "            'viridis', 'plasma', 'inferno', 'magma', 'cividis']\n",
        "\n",
        "cmaps['Sequential'] = [\n",
        "            'Greys', 'Purples', 'Blues', 'Greens', 'Oranges', 'Reds',\n",
        "            'YlOrBr', 'YlOrRd', 'OrRd', 'PuRd', 'RdPu', 'BuPu',\n",
        "            'GnBu', 'PuBu', 'YlGnBu', 'PuBuGn', 'BuGn', 'YlGn']\n",
        "\n",
        "cmaps['Sequential (2)'] = [\n",
        "            'binary', 'gist_yarg', 'gist_gray', 'gray', 'bone', 'pink',\n",
        "            'spring', 'summer', 'autumn', 'winter', 'cool', 'Wistia',\n",
        "            'hot', 'afmhot', 'gist_heat', 'copper']\n",
        "\n",
        "cmaps['Diverging'] = [\n",
        "            'PiYG', 'PRGn', 'BrBG', 'PuOr', 'RdGy', 'RdBu',\n",
        "            'RdYlBu', 'RdYlGn', 'Spectral', 'coolwarm', 'bwr', 'seismic']\n",
        "\n",
        "cmaps['Cyclic'] = ['twilight', 'twilight_shifted', 'hsv']\n",
        "\n",
        "cmaps['Qualitative'] = ['Pastel1', 'Pastel2', 'Paired', 'Accent',\n",
        "                        'Dark2', 'Set1', 'Set2', 'Set3',\n",
        "                        'tab10', 'tab20', 'tab20b', 'tab20c']\n",
        "\n",
        "cmaps['Miscellaneous'] = [\n",
        "            'flag', 'prism', 'ocean', 'gist_earth', 'terrain', 'gist_stern',\n",
        "            'gnuplot', 'gnuplot2', 'CMRmap', 'cubehelix', 'brg',\n",
        "            'gist_rainbow', 'rainbow', 'jet', 'nipy_spectral',\n",
        "            'gist_ncar']"
      ]
    },
    {
      "cell_type": "code",
      "execution_count": null,
      "metadata": {
        "id": "krg94xcfevhM",
        "scrolled": false
      },
      "outputs": [],
      "source": [
        "nrows = max(len(cmap_list) for cmap_category, cmap_list in cmaps.items())\n",
        "gradient = np.linspace(0, 1, 256)\n",
        "gradient = np.vstack((gradient, gradient))\n",
        "\n",
        "\n",
        "def plot_color_gradients(cmap_category, cmap_list, nrows):\n",
        "    fig, axes = plt.subplots(nrows=nrows)\n",
        "    fig.subplots_adjust(top=0.95, bottom=0.01, left=0.2, right=0.99)\n",
        "    axes[0].set_title(cmap_category + ' colormaps', fontsize=14)\n",
        "\n",
        "    for ax, name in zip(axes, cmap_list):\n",
        "        ax.imshow(gradient, aspect='auto', cmap=plt.get_cmap(name))\n",
        "        pos = list(ax.get_position().bounds)\n",
        "        x_text = pos[0] - 0.01\n",
        "        y_text = pos[1] + pos[3]/2.\n",
        "        fig.text(x_text, y_text, name, va='center', ha='right', fontsize=10)\n",
        "\n",
        "    # Turn off *all* ticks & spines, not just the ones with colormaps.\n",
        "    for ax in axes:\n",
        "        ax.set_axis_off()\n",
        "\n",
        "\n",
        "for cmap_category, cmap_list in cmaps.items():\n",
        "    plot_color_gradients(cmap_category, cmap_list, nrows)\n",
        "\n",
        "plt.show()"
      ]
    },
    {
      "cell_type": "code",
      "execution_count": null,
      "metadata": {
        "id": "vmmcXYh2evhN"
      },
      "outputs": [],
      "source": [
        ""
      ]
    }
  ],
  "metadata": {
    "colab": {
      "name": "Projeto.ipynb",
      "provenance": []
    },
    "kernelspec": {
      "display_name": "Python 3",
      "language": "python",
      "name": "python3"
    },
    "language_info": {
      "codemirror_mode": {
        "name": "ipython",
        "version": 3
      },
      "file_extension": ".py",
      "mimetype": "text/x-python",
      "name": "python",
      "nbconvert_exporter": "python",
      "pygments_lexer": "ipython3",
      "version": "3.8.5"
    },
    "toc": {
      "base_numbering": 1,
      "nav_menu": {},
      "number_sections": false,
      "sideBar": true,
      "skip_h1_title": false,
      "title_cell": "Table of Contents",
      "title_sidebar": "Contents",
      "toc_cell": false,
      "toc_position": {
        "height": "calc(100% - 180px)",
        "left": "10px",
        "top": "150px",
        "width": "268.2px"
      },
      "toc_section_display": true,
      "toc_window_display": false
    },
    "varInspector": {
      "cols": {
        "lenName": 16,
        "lenType": 16,
        "lenVar": 40
      },
      "kernels_config": {
        "python": {
          "delete_cmd_postfix": "",
          "delete_cmd_prefix": "del ",
          "library": "var_list.py",
          "varRefreshCmd": "print(var_dic_list())"
        },
        "r": {
          "delete_cmd_postfix": ") ",
          "delete_cmd_prefix": "rm(",
          "library": "var_list.r",
          "varRefreshCmd": "cat(var_dic_list()) "
        }
      },
      "types_to_exclude": [
        "module",
        "function",
        "builtin_function_or_method",
        "instance",
        "_Feature"
      ],
      "window_display": false
    }
  },
  "nbformat": 4,
  "nbformat_minor": 0
}